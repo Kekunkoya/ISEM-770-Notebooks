{
 "cells": [
  {
   "cell_type": "markdown",
   "id": "intro-0",
   "metadata": {},
   "source": [
    "## End-to-End Pipeline: Big Data with Knowledge Graph (Book-Referenced)\n",
    "\n",
    "### Goal:\n",
    "Transform news articles about technology company acquisitions into a structured Knowledge Graph, using modern techniques for extraction, refinement, and reasoning — guided by foundational principles outlined in a conceptual book.\n",
    "\n",
    "### Dataset: CNN/DailyMail\n",
    "\n",
    "### Approach Overview:\n",
    "This notebook walks through a multi-phase process:\n",
    "1.  **Data Acquisition & Preparation:** Sourcing and cleaning raw news text.\n",
    "2.  **Information Extraction:** Identifying key entities (organizations, people, money, dates) and the relationships between them (e.g., 'acquire', 'invested_in').\n",
    "3.  **Knowledge Graph Construction:** Structuring the extracted information into RDF triples, forming the nodes and edges of our KG.\n",
    "4.  **KG Refinement (Conceptual):** Using embeddings to represent KG components and conceptually exploring link prediction.\n",
    "5.  **Persistence & Utilization:** Storing, querying (SPARQL), and visualizing the KG.\n",
    "\n",
    "We will leverage Large Language Models (LLMs) for complex NLP tasks like nuanced entity and relationship extraction, while also using traditional libraries like spaCy for initial exploration and `rdflib` for KG management."
   ]
  },
  {
   "cell_type": "markdown",
   "id": "b94b29f8",
   "metadata": {},
   "source": [
    "# Table of Contents\n",
    "\n",
    "- [End-to-End Pipeline: Big Data with Knowledge Graph (Book-Referenced)](#intro-0)\n",
    "  - [Initial Setup: Imports and Configuration](#intro-setup)\n",
    "    - [Initialize LLM Client and spaCy Model](#llm-spacy-init-desc)\n",
    "    - [Define RDF Namespaces](#namespace-init-desc)\n",
    "- [Phase 1: Data Acquisition and Preparation](#phase1)\n",
    "  - [Step 1.1: Data Acquisition](#step1-1-desc)\n",
    "    - [Execute Data Acquisition](#data-acquisition-exec-desc)\n",
    "  - [Step 1.2: Data Cleaning & Preprocessing](#step1-2-desc)\n",
    "    - [Execute Data Cleaning](#data-cleaning-exec-desc)\n",
    "- [Phase 2: Information Extraction](#phase2)\n",
    "  - [Step 2.1: Entity Extraction (Named Entity Recognition - NER)](#step2-1-desc)\n",
    "    - [2.1.1: Entity Exploration with spaCy - Function Definition](#step2-1-1-spacy-desc)\n",
    "    - [2.1.1: Entity Exploration with spaCy - Plotting Function Definition](#plot_entity_distribution_func_def_desc)\n",
    "    - [2.1.1: Entity Exploration with spaCy - Execution](#spacy-ner-exec-desc)\n",
    "    - [Generic LLM Call Function Definition](#llm-call-func-def-desc)\n",
    "    - [2.1.2: Entity Type Selection using LLM - Execution](#step2-1-2-llm-type-selection-desc)\n",
    "    - [LLM JSON Output Parsing Function Definition](#parse_llm_json_func_def_desc)\n",
    "    - [2.1.3: Targeted Entity Extraction using LLM - Execution](#step2-1-3-llm-ner-exec-desc)\n",
    "  - [Step 2.2: Relationship Extraction](#step2-2-desc)\n",
    "- [Phase 3: Knowledge Graph Construction](#phase3)\n",
    "  - [Step 3.1: Entity Disambiguation & Linking (Simplified) - Normalization Function](#step3-1-normalize-entity-text-func-def-desc)\n",
    "    - [Execute Entity Normalization and URI Generation](#entity-normalization-exec-desc)\n",
    "  - [Step 3.2: Schema/Ontology Alignment - RDF Type Mapping Function](#step3-2-rdf-type-func-def-desc)\n",
    "    - [Schema/Ontology Alignment - RDF Predicate Mapping Function](#step3-2-rdf-predicate-func-def-desc)\n",
    "    - [Schema/Ontology Alignment - Examples](#schema-alignment-example-desc)\n",
    "  - [Step 3.3: Triple Generation](#step3-3-triple-generation-exec-desc)\n",
    "- [Phase 4: Knowledge Graph Refinement Using Embeddings](#phase4)\n",
    "  - [Step 4.1: Generate KG Embeddings - Embedding Function Definition](#step4-1-embedding-func-def-desc)\n",
    "    - [Generate KG Embeddings - Execution](#kg-embedding-exec-desc)\n",
    "  - [Step 4.2: Link Prediction (Knowledge Discovery - Conceptual) - Cosine Similarity Function](#step4-2-cosine-sim-func-def-desc)\n",
    "    - [Link Prediction (Conceptual) - Similarity Calculation Example](#link-prediction-exec-desc)\n",
    "  - [Step 4.3: Add Predicted Links (Optional & Conceptual) - Function Definition](#step4-3-add-inferred-func-def-desc)\n",
    "    - [Add Predicted Links (Conceptual) - Execution Example](#add-predicted-links-exec-desc)\n",
    "- [Phase 5: Persistence and Utilization](#phase5)\n",
    "  - [Step 5.1: Knowledge Graph Storage - Save Function Definition](#step5-1-save-graph-func-def-desc)\n",
    "    - [Knowledge Graph Storage - Execution](#kg-storage-exec-desc)\n",
    "  - [Step 5.2: Querying and Analysis - SPARQL Execution Function](#step5-2-sparql-func-def-desc)\n",
    "    - [SPARQL Querying and Analysis - Execution Examples](#sparql-querying-exec-desc)\n",
    "  - [Step 5.3: Visualization (Optional) - Visualization Function Definition](#step5-3-viz-func-def-desc)\n",
    "    - [KG Visualization - Execution](#visualization-exec-desc)\n",
    "- [Conclusion and Future Work](#conclusion)"
   ]
  },
  {
   "cell_type": "markdown",
   "id": "intro-setup",
   "metadata": {},
   "source": [
    "### Initial Setup: Imports and Configuration\n",
    "\n",
    "**Theory:**\n",
    "Before any data processing or analysis can begin, we need to set up our environment. This involves:\n",
    "*   **Importing Libraries:** Bringing in the necessary Python packages. These include `datasets` for data loading, `openai` for interacting with LLMs, `spacy` for foundational NLP, `rdflib` for Knowledge Graph manipulation, `re` for text processing with regular expressions, `json` for handling LLM outputs, `matplotlib` and `pyvis` for visualization, and standard libraries like `os`, `collections`, and `tqdm`.\n",
    "*   **API Configuration:** Setting up credentials and endpoints for external services, specifically the Nebius LLM API. **Security Note:** In a production environment, API keys should never be hardcoded. Use environment variables or secure secret management systems.\n",
    "*   **Model Initialization:** Loading pre-trained models like spaCy's `en_core_web_sm` for basic NLP tasks and configuring the LLM client to use specific models deployed on Nebius for generation and embeddings.\n",
    "*   **Namespace Definitions:** For RDF-based Knowledge Graphs, namespaces (like `EX` for our custom terms, `SCHEMA` for schema.org) are crucial for creating unique and resolvable URIs for entities and properties. This aligns with the Linked Data principles."
   ]
  },
  {
   "cell_type": "code",
   "execution_count": 1,
   "id": "22c95ce4",
   "metadata": {},
   "outputs": [
    {
     "name": "stdout",
     "output_type": "stream",
     "text": [
      "Libraries imported and Google Gemini client initialized.\n"
     ]
    }
   ],
   "source": [
    "import os\n",
    "import re\n",
    "import json\n",
    "from collections import Counter\n",
    "import matplotlib.pyplot as plt\n",
    "from tqdm.auto import tqdm\n",
    "import pandas as pd\n",
    "import time\n",
    "\n",
    "# NLP and KG libraries\n",
    "import spacy\n",
    "from rdflib import Graph, Literal, Namespace, URIRef\n",
    "from rdflib.namespace import RDF, RDFS, XSD, SKOS\n",
    "\n",
    "# Google client for LLM & embeddings\n",
    "import google.generativeai as genai\n",
    "\n",
    "# Visualization\n",
    "from pyvis.network import Network\n",
    "\n",
    "# Hugging Face datasets library\n",
    "from datasets import load_dataset\n",
    "\n",
    "# For embedding similarity\n",
    "import numpy as np\n",
    "from sklearn.metrics.pairwise import cosine_similarity\n",
    "\n",
    "# --- API Configuration (Google Gemini) ---\n",
    "# Ensure your GOOGLE_API_KEY is set as an environment variable or\n",
    "# replace the value below with your actual API key.\n",
    "GOOGLE_API_KEY = os.getenv(\"GOOGLE_API_KEY\", \"your_google_api_key_here\")\n",
    "genai.configure(api_key=GOOGLE_API_KEY)\n",
    "\n",
    "# --- Model Names (replace with your actual Gemini model IDs) ---\n",
    "TEXT_GEN_MODEL_NAME = \"gemini-1.5-flash\"\n",
    "EMBEDDING_MODEL_NAME = \"models/text-embedding-004\"\n",
    "\n",
    "print(\"Libraries imported and Google Gemini client initialized.\")"
   ]
  },
  {
   "cell_type": "markdown",
   "id": "setup-code-output",
   "metadata": {},
   "source": [
    "**Output Explanation:**\n",
    "This block simply confirms that the necessary libraries have been imported without error."
   ]
  },
  {
   "cell_type": "markdown",
   "id": "llm-spacy-init-desc",
   "metadata": {},
   "source": [
    "#### Initialize LLM Client and spaCy Model\n",
    "\n",
    "**Theory:**\n",
    "Here, we instantiate the clients for our primary NLP tools:\n",
    "*   **OpenAI Client:** Configured to point to the Nebius API. This client will be used to send requests to the deployed LLM for tasks like entity extraction, relation extraction, and generating embeddings. A basic check is performed to see if the configuration parameters are set.\n",
    "*   **spaCy Model:** We load `en_core_web_sm`, a small English model from spaCy. This model provides efficient capabilities for tokenization, part-of-speech tagging, lemmatization, and basic Named Entity Recognition (NER). It's useful for initial text exploration and can complement LLM-based approaches."
   ]
  },
  {
   "cell_type": "code",
   "execution_count": 2,
   "id": "bf925be5",
   "metadata": {},
   "outputs": [
    {
     "name": "stdout",
     "output_type": "stream",
     "text": [
      "Google Gemini client initialized using model: gemini-1.5-flash\n",
      "spaCy model 'en_core_web_sm' loaded.\n"
     ]
    }
   ],
   "source": [
    "import os\n",
    "import spacy\n",
    "import spacy.cli\n",
    "import google.generativeai as genai\n",
    "\n",
    "# --- API Configuration (Google Gemini) ---\n",
    "# Ensure your GOOGLE_API_KEY is set as an environment variable or\n",
    "# replace the value below with your actual API key.\n",
    "GOOGLE_API_KEY = os.getenv(\"GOOGLE_API_KEY\", \"your_google_api_key_here\")\n",
    "TEXT_GEN_MODEL_NAME = \"gemini-1.5-flash\"\n",
    "\n",
    "if GOOGLE_API_KEY != \"your_google_api_key_here\" and TEXT_GEN_MODEL_NAME != \"YOUR_TEXT_GENERATION_MODEL_NAME\":\n",
    "    try:\n",
    "        genai.configure(api_key=GOOGLE_API_KEY)\n",
    "        # The client object is implicitly configured, no need for a separate 'client' variable.\n",
    "        print(f\"Google Gemini client initialized using model: {TEXT_GEN_MODEL_NAME}\")\n",
    "    except Exception as e:\n",
    "        print(f\"Error initializing Google Gemini client: {e}\")\n",
    "else:\n",
    "    print(\"Warning: Google Gemini client not fully configured. LLM features will be disabled. Please set GOOGLE_API_KEY and TEXT_GEN_MODEL_NAME.\")\n",
    "\n",
    "# --- spaCy Model Loading ---\n",
    "nlp_spacy = None\n",
    "try:\n",
    "    nlp_spacy = spacy.load(\"en_core_web_sm\")\n",
    "    print(\"spaCy model 'en_core_web_sm' loaded.\")\n",
    "except OSError:\n",
    "    print(\"spaCy model 'en_core_web_sm' not found. Downloading... (This might take a moment)\")\n",
    "    try:\n",
    "        spacy.cli.download(\"en_core_web_sm\")\n",
    "        nlp_spacy = spacy.load(\"en_core_web_sm\")\n",
    "        print(\"spaCy model 'en_core_web_sm' downloaded and loaded successfully.\")\n",
    "    except Exception as e:\n",
    "        print(f\"Failed to download or load spaCy model: {e}\")\n",
    "        print(\"Please try: python -m spacy download en_core_web_sm in your terminal and restart the kernel.\")\n",
    "        nlp_spacy = None"
   ]
  },
  {
   "cell_type": "code",
   "execution_count": 3,
   "id": "f93aca7f",
   "metadata": {},
   "outputs": [
    {
     "name": "stdout",
     "output_type": "stream",
     "text": [
      "Google Gemini client initialized successfully.\n",
      "spaCy model 'en_core_web_sm' loaded successfully.\n"
     ]
    }
   ],
   "source": [
    "import os\n",
    "import spacy\n",
    "import spacy.cli\n",
    "import google.generativeai as genai\n",
    "\n",
    "# --- API Configuration (Google Gemini) ---\n",
    "# Set your API key in your environment or replace the placeholder.\n",
    "GOOGLE_API_KEY = os.getenv(\"GOOGLE_API_KEY\", \"your_google_api_key_here\")\n",
    "\n",
    "if GOOGLE_API_KEY and GOOGLE_API_KEY != \"your_google_api_key_here\":\n",
    "    try:\n",
    "        genai.configure(api_key=GOOGLE_API_KEY)\n",
    "        print(\"Google Gemini client initialized successfully.\")\n",
    "    except Exception as e:\n",
    "        print(f\"Error initializing Google Gemini client: {e}\")\n",
    "else:\n",
    "    print(\"Google Gemini client not configured. Please set GOOGLE_API_KEY in your environment.\")\n",
    "\n",
    "# --- spaCy Model Setup ---\n",
    "nlp_spacy = None\n",
    "try:\n",
    "    nlp_spacy = spacy.load(\"en_core_web_sm\")\n",
    "    print(\"spaCy model 'en_core_web_sm' loaded successfully.\")\n",
    "except OSError:\n",
    "    print(\"🔄 spaCy model 'en_core_web_sm' not found. Downloading...\")\n",
    "    try:\n",
    "        spacy.cli.download(\"en_core_web_sm\")\n",
    "        nlp_spacy = spacy.load(\"en_core_web_sm\")\n",
    "        print(\"spaCy model 'en_core_web_sm' downloaded and loaded.\")\n",
    "    except Exception as e:\n",
    "        print(f\"Failed to download or load spaCy model: {e}\")\n",
    "        print(\"Please run: python -m spacy download en_core_web_sm and restart your environment.\")\n",
    "        nlp_spacy = None"
   ]
  },
  {
   "cell_type": "markdown",
   "id": "llm-spacy-init-output",
   "metadata": {},
   "source": [
    "**Output Explanation:**\n",
    "This block prints messages indicating the status of the OpenAI client and spaCy model initialization. Warnings are shown if configurations are missing or models can't be loaded."
   ]
  },
  {
   "cell_type": "markdown",
   "id": "namespace-init-desc",
   "metadata": {},
   "source": [
    "#### Define RDF Namespaces\n",
    "\n",
    "**Theory:**\n",
    "In RDF, namespaces are used to avoid naming conflicts and to provide context for terms (URIs). \n",
    "*   `EX`: A custom namespace for terms specific to our project (e.g., our entities and relationships if not mapped to standard ontologies).\n",
    "*   `SCHEMA`: Refers to Schema.org, a widely used vocabulary for structured data on the internet. We'll try to map some of our extracted types to Schema.org terms for better interoperability.\n",
    "*   `RDFS`: RDF Schema, provides basic vocabulary for describing RDF vocabularies (e.g., `rdfs:label`, `rdfs:Class`).\n",
    "*   `RDF`: The core RDF vocabulary (e.g., `rdf:type`).\n",
    "*   `XSD`: XML Schema Datatypes, used for specifying literal data types (e.g., `xsd:string`, `xsd:date`).\n",
    "*   `SKOS`: Simple Knowledge Organization System, useful for thesauri, taxonomies, and controlled vocabularies (e.g., `skos:altLabel` for alternative names)."
   ]
  },
  {
   "cell_type": "code",
   "execution_count": 4,
   "id": "f733562a",
   "metadata": {},
   "outputs": [
    {
     "name": "stdout",
     "output_type": "stream",
     "text": [
      "Custom namespace EX defined as: http://example.org/kg/\n",
      "Schema.org namespace SCHEMA defined as: http://schema.org/\n"
     ]
    }
   ],
   "source": [
    "from rdflib import Namespace\n",
    "\n",
    "EX = Namespace(\"http://example.org/kg/\")\n",
    "SCHEMA = Namespace(\"http://schema.org/\")\n",
    "\n",
    "print(f\"Custom namespace EX defined as: {EX}\")\n",
    "print(f\"Schema.org namespace SCHEMA defined as: {SCHEMA}\")"
   ]
  },
  {
   "cell_type": "markdown",
   "id": "namespace-init-output",
   "metadata": {},
   "source": [
    "**Output Explanation:**\n",
    "This confirms the definition of our primary custom namespace (`EX`) and the `SCHEMA` namespace from Schema.org."
   ]
  },
  {
   "cell_type": "markdown",
   "id": "phase1",
   "metadata": {},
   "source": [
    "## Phase 1: Data Acquisition and Preparation\n",
    "**(Ref: Ch. 1 – Big Data Ecosystem; Ch. 3 – Value Chain of Big Data Processing)**\n",
    "\n",
    "**Theory (Phase Overview):**\n",
    "This initial phase is critical in any data-driven project. It corresponds to the early stages of the Big Data value chain: \"Data Acquisition\" and parts of \"Data Preparation/Preprocessing\". The goal is to obtain the raw data and transform it into a state suitable for further processing and information extraction. Poor quality input data (the \"Garbage In, Garbage Out\" principle) will inevitably lead to a poor quality Knowledge Graph."
   ]
  },
  {
   "cell_type": "markdown",
   "id": "step1-1-desc",
   "metadata": {},
   "source": [
    "### Step 1.1: Data Acquisition\n",
    "**Task:** Gather a collection of news articles.\n",
    "\n",
    "**Book Concept:** (Ch. 1, Figures 1 & 2; Ch. 3 - Data Acquisition stage)\n",
    "This step represents the \"Data Sources\" and \"Ingestion\" components of a Big Data ecosystem. We're tapping into an existing dataset (CNN/DailyMail via Hugging Face `datasets`) rather than scraping live news, but the principle is the same: bringing external data into our processing pipeline.\n",
    "\n",
    "**Methodology:**\n",
    "We will define a function `acquire_articles` to load the CNN/DailyMail dataset. To manage processing time and costs for this demonstration, and to focus on potentially relevant articles, this function will:\n",
    "1.  Load a specified split (e.g., 'train') of the dataset.\n",
    "2.  Optionally filter articles based on a list of keywords. For our goal of technology company acquisitions, keywords like \"acquire\", \"merger\", \"technology\", \"startup\" would be relevant. This is a simple heuristic; more advanced topic modeling or classification could be used for better filtering on larger datasets.\n",
    "3.  Take a small sample of the (filtered) articles.\n",
    "\n",
    "**Output:** A list of raw article data structures (typically dictionaries containing 'id', 'article' text, etc.)."
   ]
  },
  {
   "cell_type": "code",
   "execution_count": 5,
   "id": "acquire_articles_func_def",
   "metadata": {},
   "outputs": [
    {
     "name": "stdout",
     "output_type": "stream",
     "text": [
      "Function 'acquire_articles' defined.\n"
     ]
    }
   ],
   "source": [
    "def acquire_articles(dataset_name=\"cnn_dailymail\", version=\"3.0.0\", split='train', sample_size=1000, keyword_filter=None):\n",
    "    \"\"\"Loads articles from the specified Hugging Face dataset, optionally filters them, and takes a sample.\"\"\"\n",
    "    print(f\"Attempting to load dataset: {dataset_name} (version: {version}, split: '{split}')...\")\n",
    "    try:\n",
    "        full_dataset = load_dataset(dataset_name, version, split=split, streaming=False) # Use streaming=False for easier slicing on smaller datasets\n",
    "        print(f\"Successfully loaded dataset. Total records in split: {len(full_dataset)}\")\n",
    "    except Exception as e:\n",
    "        print(f\"Error loading dataset {dataset_name}: {e}\")\n",
    "        print(\"Please ensure the dataset is available or you have internet connectivity.\")\n",
    "        return [] # Return empty list on failure\n",
    "    \n",
    "    raw_articles_list = []\n",
    "    if keyword_filter:\n",
    "        print(f\"Filtering articles containing any of keywords: {keyword_filter}...\")\n",
    "        # This is a simple keyword search. For very large datasets, this can be slow.\n",
    "        # Consider .filter() method of Hugging Face datasets for more efficiency if not streaming.\n",
    "        count = 0\n",
    "        # To avoid iterating the whole dataset if it's huge and we only need a small sample after filtering:\n",
    "        # We'll iterate up to a certain point or until we have enough filtered articles.\n",
    "        # This is a heuristic for balancing filtering with performance on potentially large datasets.\n",
    "        iteration_limit = min(len(full_dataset), sample_size * 20) # Look through at most 20x sample_size articles\n",
    "        for i in tqdm(range(iteration_limit), desc=\"Filtering articles\"):\n",
    "            record = full_dataset[i]\n",
    "            if any(keyword.lower() in record['article'].lower() for keyword in keyword_filter):\n",
    "                raw_articles_list.append(record)\n",
    "                count += 1\n",
    "            if count >= sample_size:\n",
    "                print(f\"Found {sample_size} articles matching filter criteria within {i+1} records checked.\")\n",
    "                break\n",
    "        if not raw_articles_list:\n",
    "            print(f\"Warning: No articles found with keywords {keyword_filter} within the first {iteration_limit} records. Returning an empty list.\")\n",
    "            return []\n",
    "        # If we found articles but less than sample_size, we take what we found.\n",
    "        # If we found more, we still only take sample_size.\n",
    "        raw_articles_list = raw_articles_list[:sample_size]\n",
    "    else:\n",
    "        print(f\"Taking the first {sample_size} articles without keyword filtering.\")\n",
    "        # Ensure sample_size does not exceed dataset length\n",
    "        actual_sample_size = min(sample_size, len(full_dataset))\n",
    "        raw_articles_list = list(full_dataset.select(range(actual_sample_size)))\n",
    "        \n",
    "    print(f\"Acquired {len(raw_articles_list)} articles.\")\n",
    "    return raw_articles_list\n",
    "\n",
    "print(\"Function 'acquire_articles' defined.\")"
   ]
  },
  {
   "cell_type": "code",
   "execution_count": 9,
   "id": "66b42e4f",
   "metadata": {},
   "outputs": [],
   "source": [
    "import os\n",
    "import re\n",
    "import json\n",
    "import pickle  # <-- Add this for saving/loading vector stores\n",
    "from collections import Counter\n",
    "import matplotlib.pyplot as plt\n",
    "from tqdm.auto import tqdm\n",
    "import pandas as pd\n",
    "import time\n",
    "\n",
    "# NLP and KG libraries\n",
    "import spacy\n",
    "from rdflib import Graph, Literal, Namespace, URIRef\n",
    "from rdflib.namespace import RDF, RDFS, XSD, SKOS\n",
    "\n",
    "# Google client for LLM & embeddings\n",
    "import google.generativeai as genai\n",
    "\n",
    "# Visualization\n",
    "from pyvis.network import Network\n",
    "\n",
    "# Hugging Face datasets library\n",
    "from datasets import load_dataset\n",
    "\n",
    "# For embedding similarity\n",
    "import numpy as np\n",
    "from sklearn.metrics.pairwise import cosine_similarity\n",
    "from typing import Any, Callable, Dict, List, Optional, Tuple, Union\n",
    "from PyPDF2 import PdfReader\n"
   ]
  },
  {
   "cell_type": "code",
   "execution_count": 10,
   "id": "efac3363",
   "metadata": {},
   "outputs": [
    {
     "name": "stdout",
     "output_type": "stream",
     "text": [
      "Running Hierarchical RAG for query: What have been done to prevent homelessness?\n",
      "Loading existing vector stores...\n",
      "\n",
      "=== Response ===\n",
      "Based on the document, key points include:\n",
      "\n",
      "\n",
      "\n",
      "==================== Running Evaluation ====================\n",
      "\n",
      "Loading existing vector stores...\n",
      "\n",
      "=== OVERALL ANALYSIS ===\n",
      "Avg(Hierarchical)=0.000, Avg(Standard)=0.000 → Tie\n"
     ]
    }
   ],
   "source": [
    "import os\n",
    "import re\n",
    "import json\n",
    "from collections import Counter\n",
    "import matplotlib.pyplot as plt\n",
    "from tqdm.auto import tqdm\n",
    "import pandas as pd\n",
    "import time\n",
    "\n",
    "# NLP and KG libraries\n",
    "import spacy\n",
    "from rdflib import Graph, Literal, Namespace, URIRef\n",
    "from rdflib.namespace import RDF, RDFS, XSD, SKOS\n",
    "\n",
    "# Google client for LLM & embeddings\n",
    "import google.generativeai as genai\n",
    "\n",
    "# Visualization\n",
    "from pyvis.network import Network\n",
    "\n",
    "# Hugging Face datasets library\n",
    "from datasets import load_dataset\n",
    "\n",
    "# For embedding similarity\n",
    "import numpy as np\n",
    "from sklearn.metrics.pairwise import cosine_similarity\n",
    "from typing import Any, Callable, Dict, List, Optional, Tuple, Union\n",
    "from PyPDF2 import PdfReader\n",
    "\n",
    "# --- API Configuration (Google Gemini) ---\n",
    "GOOGLE_API_KEY = os.getenv(\"GOOGLE_API_KEY\", \"your_google_api_key_here\")\n",
    "genai.configure(api_key=GOOGLE_API_KEY)\n",
    "TEXT_GEN_MODEL_NAME = \"gemini-1.5-flash\"\n",
    "EMBEDDING_MODEL_NAME = \"models/embedding-001\"\n",
    "\n",
    "# --- Define all necessary functions ---\n",
    "\n",
    "def acquire_articles(dataset_name=\"cnn_dailymail\", version=\"3.0.0\", split='train', sample_size=1000, keyword_filter=None):\n",
    "    \"\"\"Loads articles from the specified Hugging Face dataset, optionally filters them, and takes a sample.\"\"\"\n",
    "    print(f\"Attempting to load dataset: {dataset_name} (version: {version}, split: '{split}')...\")\n",
    "    try:\n",
    "        full_dataset = load_dataset(dataset_name, version, split=split, streaming=False)\n",
    "        print(f\"Successfully loaded dataset. Total records in split: {len(full_dataset)}\")\n",
    "    except Exception as e:\n",
    "        print(f\"Error loading dataset {dataset_name}: {e}\")\n",
    "        return []\n",
    "    \n",
    "    raw_articles_list = []\n",
    "    if keyword_filter:\n",
    "        print(f\"Filtering articles containing any of keywords: {keyword_filter}...\")\n",
    "        count = 0\n",
    "        iteration_limit = min(len(full_dataset), sample_size * 20)\n",
    "        for i in tqdm(range(iteration_limit), desc=\"Filtering articles\"):\n",
    "            record = full_dataset[i]\n",
    "            if any(keyword.lower() in record['article'].lower() for keyword in keyword_filter):\n",
    "                raw_articles_list.append(record)\n",
    "                count += 1\n",
    "            if count >= sample_size:\n",
    "                print(f\"Found {sample_size} articles matching filter criteria within {i+1} records checked.\")\n",
    "                break\n",
    "        if not raw_articles_list:\n",
    "            print(f\"Warning: No articles found with keywords {keyword_filter} within the first {iteration_limit} records. Returning an empty list.\")\n",
    "            return []\n",
    "        raw_articles_list = raw_articles_list[:sample_size]\n",
    "    else:\n",
    "        print(f\"Taking the first {sample_size} articles without keyword filtering.\")\n",
    "        actual_sample_size = min(sample_size, len(full_dataset))\n",
    "        raw_articles_list = list(full_dataset.select(range(actual_sample_size)))\n",
    "        \n",
    "    print(f\"Acquired {len(raw_articles_list)} articles.\")\n",
    "    return raw_articles_list\n",
    "\n",
    "class SimpleVectorStore:\n",
    "    def __init__(self) -> None:\n",
    "        self.embeddings: List[np.ndarray] = []\n",
    "        self.documents: List[Dict[str, Any]] = []\n",
    "    \n",
    "    def add_item(self, *, text: str, embedding: Union[np.ndarray, List[float]], metadata: Optional[Dict[str, Any]] = None) -> None:\n",
    "        doc = {\"text\": text, \"metadata\": (metadata or {})}\n",
    "        self._add_core(embedding, doc)\n",
    "\n",
    "    def add(self, embedding: Union[np.ndarray, List[float]], document: Union[Dict[str, Any], str]) -> None:\n",
    "        if isinstance(document, str):\n",
    "            doc = {\"text\": document, \"metadata\": {}}\n",
    "        else:\n",
    "            doc = {\"text\": document.get(\"text\", \"\"), \"metadata\": document.get(\"metadata\", {})}\n",
    "        self._add_core(embedding, doc)\n",
    "\n",
    "    def similarity_search(self, query_embedding: Union[np.ndarray, List[float]], k: int = 5, filter_func: Optional[Callable[[Dict[str, Any]], bool]] = None, return_scores: bool = False):\n",
    "        if not self.embeddings:\n",
    "            return []\n",
    "        \n",
    "        q = self._as_unit_vector(query_embedding)\n",
    "        sims: List[Tuple[int, float]] = []\n",
    "        for i, emb in enumerate(self.embeddings):\n",
    "            doc = self.documents[i]\n",
    "            if filter_func is not None and not filter_func(doc):\n",
    "                continue\n",
    "            sim = float(np.dot(q, emb))\n",
    "            sims.append((i, sim))\n",
    "\n",
    "        if not sims:\n",
    "            return []\n",
    "        \n",
    "        sims.sort(key=lambda t: t[1], reverse=True)\n",
    "        top = sims[:max(0, int(k))]\n",
    "        \n",
    "        if return_scores:\n",
    "            return [(self.documents[i], score) for i, score in top]\n",
    "        else:\n",
    "            return [self.documents[i] for i, _ in top]\n",
    "    \n",
    "    def save(self, path: str) -> None:\n",
    "        with open(path, \"wb\") as f:\n",
    "            pickle.dump({\"embeddings\": self.embeddings, \"documents\": self.documents}, f)\n",
    "\n",
    "    @classmethod\n",
    "    def load(cls, path: str) -> \"SimpleVectorStore\":\n",
    "        with open(path, \"rb\") as f:\n",
    "            data = pickle.load(f)\n",
    "        store = cls()\n",
    "        store.embeddings = [np.asarray(e, dtype=float).reshape(-1) for e in data.get(\"embeddings\", [])]\n",
    "        store.documents = data.get(\"documents\", [])\n",
    "        store.embeddings = [store._as_unit_vector(e) for e in store.embeddings]\n",
    "        return store\n",
    "\n",
    "    def _add_core(self, embedding: Union[np.ndarray, List[float]], doc: Dict[str, Any]) -> None:\n",
    "        emb = self._as_unit_vector(embedding)\n",
    "        self.embeddings.append(emb)\n",
    "        self.documents.append(doc)\n",
    "\n",
    "    def _as_unit_vector(self, x: Union[np.ndarray, List[float]]) -> np.ndarray:\n",
    "        v = np.asarray(x, dtype=float).reshape(-1)\n",
    "        n = np.linalg.norm(v)\n",
    "        if n == 0:\n",
    "            return v\n",
    "        return v / n\n",
    "\n",
    "def _safe_get_page(doc: Dict[str, Any]):\n",
    "    meta = doc.get(\"metadata\") or {}\n",
    "    for k in (\"page\", \"page_num\", \"page_number\", \"pg\"):\n",
    "        if k in meta:\n",
    "            return meta[k]\n",
    "    return None\n",
    "\n",
    "def extract_text_pages(pdf_path: str) -> List[str]:\n",
    "    pages = []\n",
    "    try:\n",
    "        with open(pdf_path, \"rb\") as f:\n",
    "            reader = PdfReader(f)\n",
    "            for p in reader.pages:\n",
    "                pages.append(p.extract_text() or \"\")\n",
    "    except FileNotFoundError:\n",
    "        print(f\"Error: The file at {pdf_path} was not found.\")\n",
    "        return []\n",
    "    return pages\n",
    "\n",
    "def chunk_text(text: str, chunk_size=1000, overlap=200) -> List[Tuple[str, int]]:\n",
    "    chunks = []\n",
    "    start = 0\n",
    "    n = len(text)\n",
    "    while start < n:\n",
    "        end = min(n, start + chunk_size)\n",
    "        chunks.append((text[start:end], start))\n",
    "        if end == n: break\n",
    "        start = max(end - overlap, start + 1)\n",
    "    return chunks\n",
    "\n",
    "def create_embeddings(texts: Union[str, List[str]], model=\"models/embedding-001\", max_retries=3, sleep_sec=1.5):\n",
    "    if not texts:\n",
    "        return [] if isinstance(texts, list) else None\n",
    "\n",
    "    input_texts = texts if isinstance(texts, list) else [texts]\n",
    "    vectors = []\n",
    "    for t in input_texts:\n",
    "        if t is None:\n",
    "            vectors.append([])\n",
    "            continue\n",
    "        text = str(t)\n",
    "        \n",
    "        last_err = None\n",
    "        for attempt in range(1, max_retries + 1):\n",
    "            try:\n",
    "                resp = genai.embed_content(model=model, content=text)\n",
    "                if isinstance(resp, dict):\n",
    "                    emb = resp.get(\"embedding\", {})\n",
    "                    values = emb.get(\"values\", [])\n",
    "                else:\n",
    "                    values = getattr(getattr(resp, \"embedding\", None), \"values\", [])\n",
    "                vectors.append(list(values))\n",
    "                break\n",
    "            except Exception as e:\n",
    "                last_err = e\n",
    "                if attempt < max_retries:\n",
    "                    time.sleep(sleep_sec * attempt)\n",
    "                else:\n",
    "                    vectors.append([])\n",
    "        if last_err and vectors[-1] == []:\n",
    "            pass\n",
    "\n",
    "    return vectors if isinstance(texts, list) else vectors[0]\n",
    "\n",
    "def generate_page_summary(page_text: str) -> str:\n",
    "    system_prompt = \"You are an AI assistant. Summarize the following text in a concise paragraph.\"\n",
    "    max_chars = 3000\n",
    "    truncated_text = page_text[:max_chars] if len(page_text) > max_chars else page_text\n",
    "    model = genai.GenerativeModel(\"gemini-1.5-flash\")\n",
    "    response = model.generate_content(\n",
    "        f\"{system_prompt}\\n\\n{truncated_text}\",\n",
    "        generation_config={\"temperature\": 0.3}\n",
    "    )\n",
    "    return response.text.strip()\n",
    "\n",
    "def process_document_hierarchically(pdf_path: str, chunk_size=1000, chunk_overlap=200):\n",
    "    pages = extract_text_pages(pdf_path)\n",
    "    if not pages:\n",
    "        return SimpleVectorStore(), SimpleVectorStore()\n",
    "    \n",
    "    detailed_store = SimpleVectorStore()\n",
    "    detailed_text_items = []\n",
    "    for page_idx, page_text in enumerate(pages):\n",
    "        page_text = page_text.strip()\n",
    "        if not page_text:\n",
    "            continue\n",
    "        detailed_text_items.append((page_idx, page_text))\n",
    "        for chunk_text_str, start_idx in chunk_text(page_text, chunk_size, chunk_overlap):\n",
    "            emb = create_embeddings(chunk_text_str)\n",
    "            if emb:\n",
    "                detailed_store.add_item(\n",
    "                    text=chunk_text_str,\n",
    "                    embedding=emb,\n",
    "                    metadata={\"page\": page_idx, \"char_start\": start_idx}\n",
    "                )\n",
    "\n",
    "    summary_store = SimpleVectorStore()\n",
    "    for page_idx, full_text in detailed_text_items:\n",
    "        summary_text = full_text[:350] if len(full_text) > 350 else full_text\n",
    "        emb = create_embeddings(summary_text)\n",
    "        if emb:\n",
    "            summary_store.add_item(\n",
    "                text=summary_text,\n",
    "                embedding=emb,\n",
    "                metadata={\"page\": page_idx}\n",
    "            )\n",
    "    return summary_store, detailed_store\n",
    "\n",
    "def retrieve_hierarchically(query: str, summary_store: SimpleVectorStore, detailed_store: SimpleVectorStore, k_summaries=5, k_chunks=10):\n",
    "    query_emb = create_embeddings(query)\n",
    "    if not query_emb:\n",
    "        return []\n",
    "    \n",
    "    summary_docs = summary_store.similarity_search(query_emb, k=k_summaries, return_scores=False)\n",
    "    relevant_pages = {p for p in (_safe_get_page(d) for d in summary_docs) if p is not None and p != -1}\n",
    "\n",
    "    if not relevant_pages:\n",
    "        return detailed_store.similarity_search(query_emb, k=max(1, k_chunks), return_scores=False)\n",
    "\n",
    "    def page_filter(doc):\n",
    "        return _safe_get_page(doc) in relevant_pages\n",
    "\n",
    "    detailed_docs = detailed_store.similarity_search(\n",
    "        query_emb,\n",
    "        k=max(1, k_chunks * max(1, len(relevant_pages))),\n",
    "        filter_func=page_filter,\n",
    "        return_scores=False\n",
    "    )\n",
    "    return detailed_docs\n",
    "\n",
    "def generate_response(query: str, retrieved_docs: List[Dict[str, Any]], max_chars=1200):\n",
    "    context = \"\"\n",
    "    for d in retrieved_docs:\n",
    "        t = d.get(\"text\", \"\")\n",
    "        if not t: continue\n",
    "        space_left = max_chars - len(context)\n",
    "        if space_left <= 0: break\n",
    "        context += (t[:space_left] + \"\\n\")\n",
    "    answer = f\"Based on the document, key points include:\\n{context.strip()}\"\n",
    "    return answer\n",
    "\n",
    "def hierarchical_rag(query, pdf_path, chunk_size=1000, chunk_overlap=200, k_summaries=5, k_chunks=10, regenerate=False):\n",
    "    base = os.path.splitext(os.path.basename(pdf_path))[0]\n",
    "    summary_pkl = f\"{base}__summary_store.pkl\"\n",
    "    detailed_pkl = f\"{base}__detailed_store.pkl\"\n",
    "\n",
    "    if regenerate or not (os.path.exists(summary_pkl) and os.path.exists(detailed_pkl)):\n",
    "        print(\"Processing document and creating vector stores...\")\n",
    "        summary_store, detailed_store = process_document_hierarchically(pdf_path, chunk_size, chunk_overlap)\n",
    "        with open(summary_pkl, \"wb\") as f: pickle.dump(summary_store, f)\n",
    "        with open(detailed_pkl, \"wb\") as f: pickle.dump(detailed_store, f)\n",
    "    else:\n",
    "        print(\"Loading existing vector stores...\")\n",
    "        with open(summary_pkl, \"rb\") as f: summary_store = pickle.load(f)\n",
    "        with open(detailed_pkl, \"rb\") as f: detailed_store = pickle.load(f)\n",
    "\n",
    "    retrieved = retrieve_hierarchically(query, summary_store, detailed_store, k_summaries, k_chunks)\n",
    "    response = generate_response(query, retrieved)\n",
    "\n",
    "    return {\"response\": response, \"chunks_used\": retrieved}\n",
    "\n",
    "def standard_rag(query: str, pdf_path: str, k=15):\n",
    "    base = os.path.splitext(os.path.basename(pdf_path))[0]\n",
    "    detailed_pkl = f\"{base}__detailed_store.pkl\"\n",
    "    if not os.path.exists(detailed_pkl):\n",
    "        _ = hierarchical_rag(\"warmup\", pdf_path, regenerate=True)\n",
    "    with open(detailed_pkl, \"rb\") as f:\n",
    "        detailed_store = pickle.load(f)\n",
    "\n",
    "    query_emb = create_embeddings(query)\n",
    "    docs = detailed_store.similarity_search(query_emb, k=k, return_scores=False)\n",
    "    return {\"response\": generate_response(query, docs), \"chunks_used\": docs}\n",
    "\n",
    "def _cosine(a, b):\n",
    "    a = np.asarray(a, dtype=float).reshape(-1)\n",
    "    b = np.asarray(b, dtype=float).reshape(-1)\n",
    "    na = np.linalg.norm(a)\n",
    "    nb = np.linalg.norm(b)\n",
    "    if na == 0 or nb == 0: return 0.0\n",
    "    return float(np.dot(a, b) / (na * nb))\n",
    "\n",
    "def run_evaluation(pdf_path: str, test_queries: List[str], reference_answers: List[str]):\n",
    "    results = []\n",
    "    for q in test_queries:\n",
    "        hier = hierarchical_rag(q, pdf_path)\n",
    "        base = standard_rag(q, pdf_path)\n",
    "\n",
    "        hier_emb = create_embeddings(hier[\"response\"])\n",
    "        base_emb = create_embeddings(base[\"response\"])\n",
    "\n",
    "        ref_scores_h = []\n",
    "        ref_scores_b = []\n",
    "        for ref in reference_answers:\n",
    "            ref_emb = create_embeddings(ref)\n",
    "            ref_scores_h.append(_cosine(hier_emb, ref_emb))\n",
    "            ref_scores_b.append(_cosine(base_emb, ref_emb))\n",
    "\n",
    "        results.append({\n",
    "            \"query\": q,\n",
    "            \"hierarchical_score\": max(ref_scores_h) if ref_scores_h else 0.0,\n",
    "            \"standard_score\": max(ref_scores_b) if ref_scores_b else 0.0,\n",
    "            \"hierarchical_response\": hier[\"response\"],\n",
    "            \"standard_response\": base[\"response\"],\n",
    "        })\n",
    "\n",
    "    avg_h = sum(r[\"hierarchical_score\"] for r in results) / max(1, len(results))\n",
    "    avg_b = sum(r[\"standard_score\"] for r in results) / max(1, len(results))\n",
    "    verdict = \"Hierarchical > Standard\" if avg_h > avg_b else (\"Standard > Hierarchical\" if avg_b > avg_h else \"Tie\")\n",
    "\n",
    "    return {\n",
    "        \"per_query\": results,\n",
    "        \"overall\": {\"avg_hierarchical\": avg_h, \"avg_standard\": avg_b, \"verdict\": verdict},\n",
    "        \"overall_analysis\": f\"Avg(Hierarchical)={avg_h:.3f}, Avg(Standard)={avg_b:.3f} → {verdict}\"\n",
    "    }\n",
    "\n",
    "# --- Main Execution Block ---\n",
    "\n",
    "# Path to the AI information PDF document\n",
    "pdf_path = \"/Users/kekunkoya/Desktop/ISEM 770 Class Project/Homelessness.pdf\"\n",
    "\n",
    "# Example query about AI for testing the hierarchical RAG approach\n",
    "query = \"What have been done to prevent homelessness?\"\n",
    "print(f\"Running Hierarchical RAG for query: {query}\")\n",
    "result = hierarchical_rag(query, pdf_path)\n",
    "\n",
    "print(\"\\n=== Response ===\")\n",
    "print(result[\"response\"])\n",
    "\n",
    "# Test query for formal evaluation (using only one query as requested)\n",
    "test_queries = [\n",
    "     \"What are the strategies to prevent homelessness?\"\n",
    "]\n",
    "\n",
    "# Reference answer for the test query to enable comparison\n",
    "reference_answers = [\n",
    "    \"Prevent new incidences of homelessness through early intervention and support services.\",  \n",
    "    \"Address and mitigate the underlying causes of homelessness, such as poverty, unemployment, and lack of affordable housing.\", \n",
    "    \"Reduce the overall number of people experiencing homelessness via rapid rehousing and housing-first models.\", \n",
    "    \"Minimize the negative social, health, and economic impacts on individuals and families currently experiencing homelessness.\", \n",
    "    \"Ensure formerly homeless people maintain permanent, independent housing through ongoing support and follow-up services.\"\n",
    "]\n",
    "\n",
    "print(\"\\n\\n\" + \"=\"*20 + \" Running Evaluation \" + \"=\"*20 + \"\\n\")\n",
    "# Run the evaluation comparing hierarchical and standard RAG approaches\n",
    "evaluation_results = run_evaluation(\n",
    "    pdf_path=pdf_path,\n",
    "    test_queries=test_queries,\n",
    "    reference_answers=reference_answers\n",
    ")\n",
    "\n",
    "# Print the overall analysis of the comparison\n",
    "print(\"\\n=== OVERALL ANALYSIS ===\")\n",
    "print(evaluation_results[\"overall_analysis\"])"
   ]
  },
  {
   "cell_type": "markdown",
   "id": "acquire_articles_func_def_output",
   "metadata": {},
   "source": [
    "**Output Explanation:**\n",
    "This cell defines the `acquire_articles` function. It will print a confirmation once the function is defined in the Python interpreter's memory."
   ]
  },
  {
   "cell_type": "markdown",
   "id": "data-acquisition-exec-desc",
   "metadata": {},
   "source": [
    "#### Execute Data Acquisition\n",
    "\n",
    "**Theory:**\n",
    "Now we call the `acquire_articles` function. We define keywords relevant to our goal (technology company acquisitions) to guide the filtering process. A `SAMPLE_SIZE` is set to keep the amount of data manageable for this demonstration. Smaller samples allow for faster iteration, especially when using LLMs which can have associated costs and latency."
   ]
  },
  {
   "cell_type": "code",
   "execution_count": 11,
   "id": "64b6a97f",
   "metadata": {},
   "outputs": [
    {
     "name": "stdout",
     "output_type": "stream",
     "text": [
      "Attempting to load dataset: cnn_dailymail (version: 3.0.0, split: 'train')...\n",
      "Successfully loaded dataset. Total records in split: 287113\n",
      "Filtering articles containing any of keywords: ['ETHOS', 'rooflessness', 'houselessness', 'insecure housing', 'inadequate housing', 'rough sleeping', 'night shelter', 'homeless hostel', 'temporary accommodation', 'transitional supported accommodation', 'women’s shelter', 'womens shelter', \"women's shelter\", 'accommodation for immigrants', 'migrant workers’ accommodation', 'penal institutions', 'medical institutions', 'children’s institutions', 'supported accommodation', 'supported housing', 'eviction', 'repossession', 'threat of violence', 'domestic violence', 'illegal occupation', 'no security of tenure', 'mobile homes', 'non-conventional building', 'temporary structure', 'unfit housing', 'extreme overcrowding', 'overcrowding', 'point-in-time', 'prevalence', 'annual prevalence', 'lifetime prevalence', 'inflow', 'outflow', 'stock figure', 'flow figure', 'client register', 'data collection', 'indicators', 'Housing First', 'prevention of homelessness', 'long-term homelessness', 'chronic homelessness', 'episodic homelessness', 'transitional homelessness', 'hidden homelessness']...\n"
     ]
    },
    {
     "data": {
      "application/vnd.jupyter.widget-view+json": {
       "model_id": "0b52692e46ca4abc8d4778769fb0175a",
       "version_major": 2,
       "version_minor": 0
      },
      "text/plain": [
       "Filtering articles:   0%|          | 0/200 [00:00<?, ?it/s]"
      ]
     },
     "metadata": {},
     "output_type": "display_data"
    },
    {
     "name": "stdout",
     "output_type": "stream",
     "text": [
      "Acquired 2 articles.\n",
      "\n",
      "Example of a raw acquired article (ID: 487b272b94a620f9660e89bbf6ebab3ffdf1bf06):\n",
      "CARACAS, Venezuela (CNN)  -- The price of sin rose Monday in Venezuela where President Hugo Chavez is on a campaign to make Venezuelans cut back on drinking and smoking. \"Everyone's shocked,\" said Leonora Marino, owner of Bodegon Marino in Valencia, Venezuela, west of Caracas. On Monday evening, she was still changing the prices in her store as her customers looked on and complained, she told a reporter. Alcohol is now 10 percent more expensive; cigarettes are 20 percent pricier. \"Really, it's d...\n",
      "\n",
      "Number of fields in a record: 3\n",
      "Fields: ['article', 'highlights', 'id']\n"
     ]
    }
   ],
   "source": [
    "# === Keywords from ETHOS typology & measurement concepts (from your Homelessness.pdf) ===\n",
    "ETHOS_CORE = [\n",
    "    \"ETHOS\", \"rooflessness\", \"houselessness\",\n",
    "    \"insecure housing\", \"inadequate housing\",\n",
    "    \"rough sleeping\", \"night shelter\", \"homeless hostel\",\n",
    "    \"temporary accommodation\", \"transitional supported accommodation\",\n",
    "    \"women’s shelter\", \"womens shelter\", \"women's shelter\",\n",
    "    \"accommodation for immigrants\", \"migrant workers’ accommodation\",\n",
    "    \"penal institutions\", \"medical institutions\", \"children’s institutions\",\n",
    "    \"supported accommodation\", \"supported housing\"\n",
    "]\n",
    "\n",
    "RISK_THREATS = [\n",
    "    \"eviction\", \"repossession\", \"threat of violence\", \"domestic violence\",\n",
    "    \"illegal occupation\", \"no security of tenure\"\n",
    "]\n",
    "\n",
    "INADEQUATE_FORMS = [\n",
    "    \"mobile homes\", \"non-conventional building\", \"temporary structure\",\n",
    "    \"unfit housing\", \"extreme overcrowding\", \"overcrowding\"\n",
    "]\n",
    "\n",
    "MEASUREMENT_TERMS = [\n",
    "    \"point-in-time\", \"prevalence\", \"annual prevalence\", \"lifetime prevalence\",\n",
    "    \"inflow\", \"outflow\", \"stock figure\", \"flow figure\",\n",
    "    \"client register\", \"data collection\", \"indicators\"\n",
    "]\n",
    "\n",
    "POLICY_STRATEGY = [\n",
    "    \"Housing First\", \"prevention of homelessness\",\n",
    "    \"long-term homelessness\", \"chronic homelessness\",\n",
    "    \"episodic homelessness\", \"transitional homelessness\",\n",
    "    \"hidden homelessness\"\n",
    "]\n",
    "\n",
    "# Combine into a single filter list (lowercased comparison happens in acquire step)\n",
    "HOMELESSNESS_KEYWORDS = (\n",
    "    ETHOS_CORE\n",
    "    + RISK_THREATS\n",
    "    + INADEQUATE_FORMS\n",
    "    + MEASUREMENT_TERMS\n",
    "    + POLICY_STRATEGY\n",
    ")\n",
    "\n",
    "# For this demo, filter by homelessness-related terms from the PDF\n",
    "FILTER_KEYWORDS = HOMELESSNESS_KEYWORDS\n",
    "\n",
    "# Keep sample size small so LLM steps later stay fast\n",
    "SAMPLE_SIZE = 10\n",
    "\n",
    "# Acquire a small sample set filtered by the ETHOS/measurement terms\n",
    "raw_data_sample = acquire_articles(sample_size=SAMPLE_SIZE, keyword_filter=FILTER_KEYWORDS)\n",
    "\n",
    "if raw_data_sample:\n",
    "    print(f\"\\nExample of a raw acquired article (ID: {raw_data_sample[0]['id']}):\")\n",
    "    print(raw_data_sample[0]['article'][:500] + \"...\")\n",
    "    print(f\"\\nNumber of fields in a record: {len(raw_data_sample[0].keys())}\")\n",
    "    print(f\"Fields: {list(raw_data_sample[0].keys())}\")\n",
    "else:\n",
    "    print(\"No articles were acquired with the ETHOS/measurement keyword filter. \"\n",
    "          \"Consider increasing SAMPLE_SIZE, loosening FILTER_KEYWORDS, or using a different split.\")\n"
   ]
  },
  {
   "cell_type": "markdown",
   "id": "data-acquisition-exec-output",
   "metadata": {},
   "source": [
    "**Output Explanation:**\n",
    "This block executes the data acquisition. It will print:\n",
    "*   Messages about the data loading and filtering process.\n",
    "*   The number of articles acquired.\n",
    "*   A snippet of the first acquired article and its available fields, to verify the process and understand the data structure."
   ]
  },
  {
   "cell_type": "markdown",
   "id": "step1-2-desc",
   "metadata": {},
   "source": [
    "### Step 1.2: Data Cleaning & Preprocessing\n",
    "**Task:** Perform basic text normalization.\n",
    "\n",
    "**Book Concept:** (Ch. 3 - Variety challenge of Big Data)\n",
    "Raw text data from sources like news articles is often messy. It can contain HTML tags, boilerplate content (like bylines, copyright notices), special characters, and inconsistent formatting. This step parallels addressing the \"Variety\" (and to some extent, \"Veracity\") challenge of Big Data. Clean, normalized input is crucial for effective downstream NLP tasks, as noise can significantly degrade the performance of entity recognizers and relation extractors.\n",
    "\n",
    "**Methodology:**\n",
    "We'll define a function `clean_article_text` that uses regular expressions (`re` module) to:\n",
    "*   Remove common news boilerplate (e.g., \"(CNN) --\", specific byline patterns).\n",
    "*   Remove HTML tags and URLs.\n",
    "*   Normalize whitespace (e.g., replace multiple spaces/newlines with a single space).\n",
    "*   Optionally, handle quotes or other special characters that might interfere with LLM processing or JSON formatting if not handled carefully.\n",
    "\n",
    "**Output:** A list of dictionaries, where each dictionary contains the article ID and its cleaned text."
   ]
  },
  {
   "cell_type": "code",
   "execution_count": 12,
   "id": "clean_article_text_func_def",
   "metadata": {},
   "outputs": [
    {
     "name": "stdout",
     "output_type": "stream",
     "text": [
      "Function 'clean_article_text' defined.\n"
     ]
    }
   ],
   "source": [
    "def clean_article_text(raw_text):\n",
    "    \"\"\"Cleans the raw text of a news article using regular expressions.\"\"\"\n",
    "    text = raw_text\n",
    "    \n",
    "    # Remove (CNN) style prefixes\n",
    "    text = re.sub(r'^\\(CNN\\)\\s*(--)?\\s*', '', text)\n",
    "    # Remove common bylines and publication/update lines (patterns may need adjustment for specific dataset nuances)\n",
    "    text = re.sub(r'By .*? for Dailymail\\.com.*?Published:.*?Updated:.*', '', text, flags=re.IGNORECASE | re.DOTALL)\n",
    "    text = re.sub(r'PUBLISHED:.*?BST,.*?UPDATED:.*?BST,.*', '', text, flags=re.IGNORECASE | re.DOTALL)\n",
    "    text = re.sub(r'Last updated at.*on.*', '', text, flags=re.IGNORECASE)\n",
    "    # Remove URLs\n",
    "    text = re.sub(r'https?://\\S+|www\\.\\S+', '[URL]', text)\n",
    "    # Remove HTML tags\n",
    "    text = re.sub(r'<.*?>', '', text)\n",
    "    # Remove email addresses\n",
    "    text = re.sub(r'\\b[A-Za-z0-9._%+-]+@[A-Za-z0-9.-]+\\.[A-Z|a-z]{2,}\\b', '[EMAIL]', text)\n",
    "    # Normalize whitespace: replace newlines, tabs with a single space, then multiple spaces with a single space\n",
    "    text = text.replace('\\n', ' ').replace('\\r', ' ').replace('\\t', ' ')\n",
    "    text = re.sub(r'\\s+', ' ', text).strip()\n",
    "    # Optional: escape quotes if LLM has issues, but usually not needed for good models\n",
    "    # text = text.replace('\"', \"\\\\\\\"\").replace(\"'\", \"\\\\'\") \n",
    "    return text\n",
    "\n",
    "print(\"Function 'clean_article_text' defined.\")"
   ]
  },
  {
   "cell_type": "markdown",
   "id": "clean_article_text_func_def_output",
   "metadata": {},
   "source": [
    "**Output Explanation:**\n",
    "Confirms that the `clean_article_text` function, which will be used to preprocess article content, has been defined."
   ]
  },
  {
   "cell_type": "markdown",
   "id": "data-cleaning-exec-desc",
   "metadata": {},
   "source": [
    "#### Execute Data Cleaning\n",
    "\n",
    "**Theory:**\n",
    "This block iterates through the `raw_data_sample` (acquired in the previous step). For each article, it calls the `clean_article_text` function. The cleaned text, along with the original article ID and potentially other useful fields like 'summary' (if available from the dataset as 'highlights'), is stored in a new list called `cleaned_articles`. This new list will be the primary input for the subsequent Information Extraction phase."
   ]
  },
  {
   "cell_type": "code",
   "execution_count": 13,
   "id": "data-cleaning-exec-code",
   "metadata": {},
   "outputs": [
    {
     "name": "stdout",
     "output_type": "stream",
     "text": [
      "Cleaning 2 acquired articles...\n"
     ]
    },
    {
     "data": {
      "application/vnd.jupyter.widget-view+json": {
       "model_id": "e30e003d980e47cbb2f3acdd92c847b6",
       "version_major": 2,
       "version_minor": 0
      },
      "text/plain": [
       "Cleaning articles:   0%|          | 0/2 [00:00<?, ?it/s]"
      ]
     },
     "metadata": {},
     "output_type": "display_data"
    },
    {
     "name": "stdout",
     "output_type": "stream",
     "text": [
      "Finished cleaning. Total cleaned articles: 2.\n",
      "\n",
      "Example of a cleaned article (ID: 487b272b94a620f9660e89bbf6ebab3ffdf1bf06):\n",
      "CARACAS, Venezuela (CNN) -- The price of sin rose Monday in Venezuela where President Hugo Chavez is on a campaign to make Venezuelans cut back on drinking and smoking. \"Everyone's shocked,\" said Leonora Marino, owner of Bodegon Marino in Valencia, Venezuela, west of Caracas. On Monday evening, she was still changing the prices in her store as her customers looked on and complained, she told a reporter. Alcohol is now 10 percent more expensive; cigarettes are 20 percent pricier. \"Really, it's di...\n"
     ]
    }
   ],
   "source": [
    "cleaned_articles = [] # Initialize as an empty list\n",
    "\n",
    "if raw_data_sample: # Proceed only if raw_data_sample is not empty\n",
    "    print(f\"Cleaning {len(raw_data_sample)} acquired articles...\")\n",
    "    for record in tqdm(raw_data_sample, desc=\"Cleaning articles\"):\n",
    "        cleaned_text_content = clean_article_text(record['article'])\n",
    "        cleaned_articles.append({\n",
    "            \"id\": record['id'],\n",
    "            \"original_text\": record['article'], # Keep original for reference\n",
    "            \"cleaned_text\": cleaned_text_content,\n",
    "            \"summary\": record.get('highlights', '') # CNN/DM has 'highlights' which are summaries\n",
    "        })\n",
    "    print(f\"Finished cleaning. Total cleaned articles: {len(cleaned_articles)}.\")\n",
    "    if cleaned_articles: # Check if list is not empty after processing\n",
    "        print(f\"\\nExample of a cleaned article (ID: {cleaned_articles[0]['id']}):\")\n",
    "        print(cleaned_articles[0]['cleaned_text'][:500] + \"...\")\n",
    "else:\n",
    "    print(\"No raw articles were acquired in the previous step, so skipping cleaning.\")\n",
    "\n",
    "# This ensures cleaned_articles is always defined, even if empty.\n",
    "if 'cleaned_articles' not in globals():\n",
    "    cleaned_articles = []\n",
    "    print(\"Initialized 'cleaned_articles' as an empty list because it was not created prior.\")"
   ]
  },
  {
   "cell_type": "markdown",
   "id": "data-cleaning-exec-output",
   "metadata": {},
   "source": [
    "**Output Explanation:**\n",
    "This block will:\n",
    "*   Indicate the start and end of the cleaning process.\n",
    "*   Show the number of articles cleaned.\n",
    "*   Display a snippet of the first cleaned article's text, allowing for a visual check of the cleaning effectiveness."
   ]
  },
  {
   "cell_type": "markdown",
   "id": "phase2",
   "metadata": {},
   "source": [
    "## Phase 2: Information Extraction\n",
    "**(Ref: Ch. 2 – Basics of Knowledge Graphs; Ch. 4 – KG Creation from Structured Data)**\n",
    "\n",
    "**Theory (Phase Overview):**\n",
    "Information Extraction (IE) is the process of automatically extracting structured information from unstructured or semi-structured sources (like our news articles). In the context of Knowledge Graph creation, IE is paramount as it identifies the fundamental building blocks: entities (nodes) and the relationships (edges) that connect them. This phase directly addresses how to transform raw text into a more structured format, a key step before KG materialization (Ch. 4). It involves tasks like Named Entity Recognition (NER) and Relationship Extraction (RE)."
   ]
  },
  {
   "cell_type": "markdown",
   "id": "step2-1-desc",
   "metadata": {},
   "source": [
    "### Step 2.1: Entity Extraction (Named Entity Recognition - NER)\n",
    "**Task:** Identify named entities like organizations, people, products, monetary figures, and dates.\n",
    "\n",
    "**Book Concept:** (Ch. 2 - Entities as nodes)\n",
    "Named Entities are real-world objects, such as persons, locations, organizations, products, etc., that can be denoted with a proper name. In a KG, these entities become the *nodes*. Accurate NER is foundational for building a meaningful graph.\n",
    "\n",
    "**Methodology:**\n",
    "We'll employ a two-pronged approach:\n",
    "1.  **Exploratory NER with spaCy:** Use spaCy's pre-trained model to get a quick overview of common entity types present in our cleaned articles. This helps in understanding the general landscape of entities.\n",
    "2.  **LLM-driven Entity Type Selection:** Based on spaCy's output and our specific goal (technology acquisitions), we'll prompt an LLM to suggest a focused set of entity types that are most relevant.\n",
    "3.  **Targeted NER with LLM:** Use the LLM with the refined list of entity types to perform NER on the articles, aiming for higher accuracy and relevance for our specific domain. LLMs can be powerful here due to their contextual understanding, especially when guided by well-crafted prompts."
   ]
  },
  {
   "cell_type": "markdown",
   "id": "step2-1-1-spacy-desc",
   "metadata": {},
   "source": [
    "#### 2.1.1: Entity Exploration with spaCy - Function Definition\n",
    "\n",
    "**Theory:**\n",
    "This function, `get_spacy_entity_counts`, takes a list of articles, processes a sample of their text using spaCy's NER capabilities, and returns a counter object tallying the frequencies of different entity labels (e.g., `PERSON`, `ORG`, `GPE`). This gives us an empirical basis for understanding what kinds of entities are prevalent in our dataset before we engage the more resource-intensive LLM."
   ]
  },
  {
   "cell_type": "code",
   "execution_count": 14,
   "id": "get_spacy_entity_counts_func_def",
   "metadata": {},
   "outputs": [
    {
     "name": "stdout",
     "output_type": "stream",
     "text": [
      "Function 'get_spacy_entity_counts' defined.\n"
     ]
    }
   ],
   "source": [
    "def get_spacy_entity_counts(articles_data, text_field='cleaned_text', sample_size_spacy=50):\n",
    "    \"\"\"Processes a sample of articles with spaCy and counts entity labels.\"\"\"\n",
    "    if not nlp_spacy:\n",
    "        print(\"spaCy model not loaded. Skipping spaCy entity counting.\")\n",
    "        return Counter()\n",
    "    if not articles_data:\n",
    "        print(\"No articles data provided to spaCy for entity counting. Skipping.\")\n",
    "        return Counter()\n",
    "    \n",
    "    label_counter = Counter()\n",
    "    # Process a smaller sample for quick spaCy analysis\n",
    "    sample_to_process = articles_data[:min(len(articles_data), sample_size_spacy)]\n",
    "    \n",
    "    print(f\"Processing {len(sample_to_process)} articles with spaCy for entity counts...\")\n",
    "    for article in tqdm(sample_to_process, desc=\"spaCy NER for counts\"):\n",
    "        doc = nlp_spacy(article[text_field])\n",
    "        for ent in doc.ents:\n",
    "            label_counter[ent.label_] += 1\n",
    "    return label_counter\n",
    "\n",
    "print(\"Function 'get_spacy_entity_counts' defined.\")"
   ]
  },
  {
   "cell_type": "markdown",
   "id": "get_spacy_entity_counts_func_def_output",
   "metadata": {},
   "source": [
    "**Output Explanation:**\n",
    "Confirms the definition of the `get_spacy_entity_counts` function."
   ]
  },
  {
   "cell_type": "markdown",
   "id": "plot_entity_distribution_func_def_desc",
   "metadata": {},
   "source": [
    "#### 2.1.1: Entity Exploration with spaCy - Plotting Function Definition\n",
    "\n",
    "**Theory:**\n",
    "The `plot_entity_distribution` function takes the entity counts (from `get_spacy_entity_counts`) and uses `matplotlib` to generate a bar chart. Visualizing this distribution helps in quickly identifying the most frequent entity types, which can inform subsequent decisions about which types to prioritize for the KG."
   ]
  },
  {
   "cell_type": "code",
   "execution_count": 15,
   "id": "plot_entity_distribution_func_def",
   "metadata": {},
   "outputs": [
    {
     "name": "stdout",
     "output_type": "stream",
     "text": [
      "Function 'plot_entity_distribution' defined.\n"
     ]
    }
   ],
   "source": [
    "def plot_entity_distribution(label_counter_to_plot):\n",
    "    \"\"\"Plots the distribution of entity labels from a Counter object.\"\"\"\n",
    "    if not label_counter_to_plot:\n",
    "        print(\"No entity counts to plot.\")\n",
    "        return\n",
    "    \n",
    "    # Get the most common 15, or all if fewer than 15\n",
    "    top_items = label_counter_to_plot.most_common(min(15, len(label_counter_to_plot)))\n",
    "    if not top_items: # Handle case where counter is not empty but most_common(0) or similar edge case\n",
    "        print(\"No items to plot from entity counts.\")\n",
    "        return\n",
    "        \n",
    "    labels, counts = zip(*top_items)\n",
    "    \n",
    "    plt.figure(figsize=(12, 7))\n",
    "    plt.bar(labels, counts, color='skyblue')\n",
    "    plt.title(\"Top Entity Type Distribution (via spaCy)\")\n",
    "    plt.ylabel(\"Frequency\")\n",
    "    plt.xlabel(\"Entity Label\")\n",
    "    plt.xticks(rotation=45, ha=\"right\")\n",
    "    plt.tight_layout() # Adjust layout to make sure everything fits\n",
    "    plt.show()\n",
    "\n",
    "print(\"Function 'plot_entity_distribution' defined.\")"
   ]
  },
  {
   "cell_type": "markdown",
   "id": "plot_entity_distribution_func_def_output",
   "metadata": {},
   "source": [
    "**Output Explanation:**\n",
    "Confirms the definition of the `plot_entity_distribution` function."
   ]
  },
  {
   "cell_type": "markdown",
   "id": "spacy-ner-exec-desc",
   "metadata": {},
   "source": [
    "#### 2.1.1: Entity Exploration with spaCy - Execution\n",
    "\n",
    "**Theory:**\n",
    "This block executes the spaCy-based entity exploration. It calls `get_spacy_entity_counts` on the `cleaned_articles`. The resulting counts are then printed and passed to `plot_entity_distribution` to visualize the findings. This step is skipped if no cleaned articles are available or if the spaCy model failed to load."
   ]
  },
  {
   "cell_type": "code",
   "execution_count": 16,
   "id": "spacy-ner-exec-code",
   "metadata": {},
   "outputs": [
    {
     "name": "stdout",
     "output_type": "stream",
     "text": [
      "Running spaCy NER on a sample of 2 cleaned articles...\n",
      "Processing 2 articles with spaCy for entity counts...\n"
     ]
    },
    {
     "data": {
      "application/vnd.jupyter.widget-view+json": {
       "model_id": "7255a22f14ce4829801466ee4cb31cd0",
       "version_major": 2,
       "version_minor": 0
      },
      "text/plain": [
       "spaCy NER for counts:   0%|          | 0/2 [00:00<?, ?it/s]"
      ]
     },
     "metadata": {},
     "output_type": "display_data"
    },
    {
     "name": "stdout",
     "output_type": "stream",
     "text": [
      "\n",
      "spaCy Entity Counts (from sample):\n",
      "  PERSON: 47\n",
      "  DATE: 24\n",
      "  GPE: 23\n",
      "  ORG: 22\n",
      "  CARDINAL: 15\n",
      "  NORP: 7\n",
      "  PERCENT: 5\n",
      "  TIME: 3\n",
      "  MONEY: 3\n",
      "  ORDINAL: 2\n",
      "  WORK_OF_ART: 2\n",
      "  LOC: 2\n",
      "  FAC: 1\n"
     ]
    },
    {
     "data": {
      "image/png": "[encoded data removed]",
      "text/plain": [
       "<Figure size 1200x700 with 1 Axes>"
      ]
     },
     "metadata": {},
     "output_type": "display_data"
    }
   ],
   "source": [
    "spacy_entity_counts = Counter() # Initialize an empty counter\n",
    "\n",
    "if cleaned_articles and nlp_spacy:\n",
    "    # Use a small, fixed sample size for spaCy analysis to keep it quick\n",
    "    spacy_analysis_sample_size = min(len(cleaned_articles), 20) \n",
    "    print(f\"Running spaCy NER on a sample of {spacy_analysis_sample_size} cleaned articles...\")\n",
    "    spacy_entity_counts = get_spacy_entity_counts(cleaned_articles, sample_size_spacy=spacy_analysis_sample_size)\n",
    "    \n",
    "    if spacy_entity_counts:\n",
    "        print(\"\\nspaCy Entity Counts (from sample):\")\n",
    "        for label, count in spacy_entity_counts.most_common():\n",
    "            print(f\"  {label}: {count}\")\n",
    "        plot_entity_distribution(spacy_entity_counts)\n",
    "    else:\n",
    "        print(\"spaCy NER did not return any entity counts from the sample.\")\n",
    "else:\n",
    "    print(\"Skipping spaCy entity analysis: No cleaned articles available or spaCy model not loaded.\")"
   ]
  },
  {
   "cell_type": "markdown",
   "id": "spacy-ner-exec-output",
   "metadata": {},
   "source": [
    "**Output Explanation:**\n",
    "This block will print:\n",
    "*   The frequency of different entity types found by spaCy in the sample.\n",
    "*   A bar chart visualizing this distribution.\n",
    "If prerequisites are not met, it will print a message indicating why this step was skipped."
   ]
  },
  {
   "cell_type": "markdown",
   "id": "llm-call-func-def-desc",
   "metadata": {},
   "source": [
    "#### Generic LLM Call Function Definition\n",
    "\n",
    "**Theory:**\n",
    "To interact with the LLM for various tasks (entity type selection, NER, relation extraction), we define a reusable helper function `call_llm_for_response`. This function encapsulates the logic for:\n",
    "*   Taking a system prompt (instructions for the LLM) and a user prompt (the specific input/query).\n",
    "*   Making the API call to the configured LLM endpoint.\n",
    "*   Extracting the textual content from the LLM's response.\n",
    "*   Basic error handling if the LLM client is not initialized or if the API call fails.\n",
    "Using a helper function promotes code reusability and makes the main logic cleaner."
   ]
  },
  {
   "cell_type": "code",
   "execution_count": 17,
   "id": "llm-call-func-def",
   "metadata": {},
   "outputs": [
    {
     "name": "stdout",
     "output_type": "stream",
     "text": [
      "Function 'call_llm_for_response' defined.\n"
     ]
    }
   ],
   "source": [
    "def call_llm_for_response(system_prompt, user_prompt, model_to_use=TEXT_GEN_MODEL_NAME, temperature=0.2):\n",
    "    \"\"\"Generic function to call the LLM and get a response, with basic error handling.\"\"\"\n",
    "    if not client:\n",
    "        print(\"LLM client not initialized. Skipping LLM call.\")\n",
    "        return \"LLM_CLIENT_NOT_INITIALIZED\"\n",
    "    try:\n",
    "        print(f\"\\nCalling LLM (model: {model_to_use}, temperature: {temperature})...\")\n",
    "        # For debugging, uncomment to see prompts (can be very long)\n",
    "        # print(f\"System Prompt (first 200 chars): {system_prompt[:200]}...\")\n",
    "        # print(f\"User Prompt (first 200 chars): {user_prompt[:200]}...\")\n",
    "        \n",
    "        response = genai.GenerativeModel(\"gemini-1.5-flash\").generate_content(\n",
    "            model=model_to_use,\n",
    "            messages=[\n",
    "                {\"role\": \"system\", \"content\": system_prompt},\n",
    "                {\"role\": \"user\", \"content\": user_prompt}\n",
    "            ],\n",
    "            temperature=temperature # Lower temperature for more focused/deterministic output\n",
    "        )\n",
    "        content = response.choices[0].message.content.strip()\n",
    "        print(\"LLM response received.\")\n",
    "        return content\n",
    "    except Exception as e:\n",
    "        print(f\"Error calling LLM: {e}\")\n",
    "        return f\"LLM_ERROR: {str(e)}\"\n",
    "\n",
    "print(\"Function 'call_llm_for_response' defined.\")"
   ]
  },
  {
   "cell_type": "markdown",
   "id": "llm-call-func-def-output",
   "metadata": {},
   "source": [
    "**Output Explanation:**\n",
    "Confirms the definition of the `call_llm_for_response` helper function."
   ]
  },
  {
   "cell_type": "markdown",
   "id": "step2-1-2-llm-type-selection-desc",
   "metadata": {},
   "source": [
    "#### 2.1.2: Entity Type Selection using LLM - Execution\n",
    "\n",
    "**Theory:**\n",
    "While spaCy provides a general set of entity types, not all may be relevant for our specific goal of building a KG about technology company acquisitions. For instance, `WORK_OF_ART` might be less important than `ORG` (organization) or `MONEY`. \n",
    "In this step, we leverage the LLM's understanding to refine this list. \n",
    "1.  **System Prompt:** We craft a detailed system prompt instructing the LLM to act as an expert in KG construction for technology news. It's asked to select the *most relevant* entity labels from the spaCy-derived list, focusing on our domain, and to provide an explanation for each chosen type.\n",
    "2.  **User Prompt:** The user prompt contains the actual list of entity labels and their frequencies obtained from spaCy.\n",
    "3.  **LLM Call:** We use our `call_llm_for_response` function.\n",
    "The LLM's output should be a comma-separated string of chosen entity types with their descriptions (e.g., `ORG (Organizations involved in acquisitions, e.g., Google, Microsoft)`). This curated list forms a more targeted schema for our subsequent LLM-based NER."
   ]
  },
  {
   "cell_type": "code",
   "execution_count": 20,
   "id": "9e2a223f",
   "metadata": {},
   "outputs": [],
   "source": [
    "import os\n",
    "import re\n",
    "import google.generativeai as genai\n",
    "\n",
    "# --- Configure API key ---\n",
    "genai.configure(api_key=os.getenv(\"GOOGLE_API_KEY\"))\n",
    "\n",
    "# Good defaults for 2025:\n",
    "DEFAULT_CHAT_MODEL = \"gemini-1.5-pro\"\n",
    "DEFAULT_EMBED_MODEL = \"text-embedding-004\"\n",
    "\n",
    "def pick_gemini_text_model(preferred=(\"gemini-1.5-pro\",\"gemini-1.5-flash\")):\n",
    "    \"\"\"Return the first available model that supports generateContent().\"\"\"\n",
    "    try:\n",
    "        for m in genai.list_models():\n",
    "            # Some SDKs expose 'supported_generation_methods'; others expose 'generation_methods'\n",
    "            methods = getattr(m, \"supported_generation_methods\", None) or getattr(m, \"generation_methods\", [])\n",
    "            if not methods:\n",
    "                continue\n",
    "            if \"generateContent\" in methods or \"generate_content\" in methods:\n",
    "                if m.name in preferred:\n",
    "                    return m.name\n",
    "        # fallback: first model that can generate content\n",
    "        for m in genai.list_models():\n",
    "            methods = getattr(m, \"supported_generation_methods\", None) or getattr(m, \"generation_methods\", [])\n",
    "            if \"generateContent\" in methods or \"generate_content\" in methods:\n",
    "                return m.name\n",
    "    except Exception:\n",
    "        pass\n",
    "    return DEFAULT_CHAT_MODEL\n",
    "\n",
    "TEXT_MODEL = pick_gemini_text_model()\n",
    "\n",
    "def gemini_text(prompt: str, model_name: str = None) -> str:\n",
    "    model_name = model_name or TEXT_MODEL\n",
    "    model = genai.GenerativeModel(model_name)\n",
    "    resp = model.generate_content(prompt)\n",
    "    return getattr(resp, \"text\", \"\").strip()\n",
    "\n",
    "# --- Homelessness KG prompt (unchanged intent, fixed model usage) ---\n",
    "ENTITY_TYPE_SELECTION_SYSTEM_PROMPT = (\n",
    "    \"You are an expert assistant specializing in Knowledge Graph construction for homelessness data and policy analysis. \"\n",
    "    \"You will be provided with a list of named entity labels and their frequencies, derived from homelessness-related articles and reports. \"\n",
    "    \"Your task is to select and return a comma-separated list of the MOST RELEVANT entity labels for building a Knowledge Graph focused on **homelessness prevention, ETHOS categories, and housing policy**. \"\n",
    "    \"Prioritize labels like organizations (service providers, agencies), locations (city, state, country), dates (policy announcements, PIT counts), key persons (policy makers, advocates), facilities (shelters, transitional housing), and program/policy names (Housing First, prevention initiatives). \"\n",
    "    \"For EACH entity label you include, provide a concise parenthetical explanation or a clear, illustrative example. \"\n",
    "    \"Example: ORG (Service provider or government agency, e.g., PA 211, HUD), GPE (Geopolitical entity, e.g., Pennsylvania, U.S.), DATE (Date of policy announcement or PIT count, e.g., January 2024), FAC (Shelter or housing facility, e.g., Community Shelter), PROGRAM (Policy or program, e.g., Housing First). \"\n",
    "    \"The output MUST be ONLY the comma-separated list of labels and their parenthetical explanations, with no extra text.\"\n",
    ")\n",
    "\n",
    "# Fallback if LLM fails\n",
    "DEFAULT_ENTITY_TYPES_STR = (\n",
    "    \"ORG (Service provider or agency, e.g., PA 211, HUD), \"\n",
    "    \"GPE (Geopolitical location, e.g., Pennsylvania), \"\n",
    "    \"DATE (Policy announcement or PIT count date, e.g., January 2024), \"\n",
    "    \"FAC (Shelter or housing facility, e.g., Community Shelter), \"\n",
    "    \"PROGRAM (Homelessness prevention or housing program, e.g., Housing First)\"\n",
    ")\n",
    "\n",
    "def select_entity_types_with_gemini(spacy_entity_counts) -> str:\n",
    "    if not spacy_entity_counts:\n",
    "        return DEFAULT_ENTITY_TYPES_STR\n",
    "\n",
    "    spacy_labels_for_prompt = \", \".join(\n",
    "        f\"{label} (frequency: {count})\" for label, count in spacy_entity_counts.most_common()\n",
    "    )\n",
    "    user_prompt = (\n",
    "        f\"From the following entity labels and their frequencies found in homelessness-related documents: \"\n",
    "        f\"[{spacy_labels_for_prompt}]. Please select and format the most relevant entity types for a knowledge graph \"\n",
    "        f\"about homelessness prevention and policy, as per the instructions.\"\n",
    "    )\n",
    "\n",
    "    try:\n",
    "        text = gemini_text(f\"{ENTITY_TYPE_SELECTION_SYSTEM_PROMPT}\\n\\n{user_prompt}\", model_name=TEXT_MODEL)\n",
    "        if not text:\n",
    "            return DEFAULT_ENTITY_TYPES_STR\n",
    "        # Format guard\n",
    "        if not re.match(r\"^([A-Z_]+ \\(.*?\\))(, [A-Z_]+ \\(.*?\\))*$\", text.strip()):\n",
    "            # try to salvage the longest plausible line\n",
    "            lines = [ln.strip() for ln in text.splitlines() if \"(\" in ln and \")\" in ln]\n",
    "            text = max(lines, key=len, default=\"\") or DEFAULT_ENTITY_TYPES_STR\n",
    "        return text\n",
    "    except Exception as e:\n",
    "        print(f\"Gemini call failed: {e}\")\n",
    "        return DEFAULT_ENTITY_TYPES_STR\n",
    "\n",
    "# Usage:\n",
    "# llm_selected_entity_types_str = select_entity_types_with_gemini(spacy_entity_counts)\n",
    "# print(\"\\nFinal list of Entity Types for Homelessness KG:\", llm_selected_entity_types_str)\n"
   ]
  },
  {
   "cell_type": "markdown",
   "id": "llm-entity-type-selection-exec-output",
   "metadata": {},
   "source": [
    "**Output Explanation:**\n",
    "This block will print:\n",
    "*   The comma-separated list of entity types and their descriptions as suggested by the LLM (or the default list if the LLM call fails/is skipped).\n",
    "*   This list will guide the next step: targeted Named Entity Recognition."
   ]
  },
  {
   "cell_type": "markdown",
   "id": "parse_llm_json_func_def_desc",
   "metadata": {},
   "source": [
    "#### LLM JSON Output Parsing Function Definition\n",
    "\n",
    "**Theory:**\n",
    "LLMs, even when prompted for specific formats like JSON, can sometimes produce output that includes extra text, markdown formatting (like ` ```json ... ``` `), or slight deviations from perfect JSON. The `parse_llm_json_output` function is a utility to robustly parse the LLM's string output into a Python list of dictionaries (representing entities or relations).\n",
    "It attempts to:\n",
    "1.  Handle common markdown code block syntax.\n",
    "2.  Use `json.loads()` for parsing.\n",
    "3.  Include error handling for `JSONDecodeError` and provide fallback mechanisms like regex-based extraction if simple parsing fails.\n",
    "This function is crucial for reliably converting LLM responses into usable structured data."
   ]
  },
  {
   "cell_type": "code",
   "execution_count": 21,
   "id": "parse_llm_json_func_def",
   "metadata": {},
   "outputs": [
    {
     "name": "stdout",
     "output_type": "stream",
     "text": [
      "Function 'parse_llm_json_output' defined.\n"
     ]
    }
   ],
   "source": [
    "def parse_llm_json_output(llm_output_str):\n",
    "    \"\"\"Parses JSON output from LLM, handling potential markdown code blocks and common issues.\"\"\"\n",
    "    if not llm_output_str or \"LLM_CLIENT_NOT_INITIALIZED\" in llm_output_str or \"LLM_ERROR\" in llm_output_str:\n",
    "        print(\"Cannot parse LLM output: LLM did not run, errored, or output was empty.\")\n",
    "        return [] # Return empty list\n",
    "\n",
    "    # Attempt to extract JSON from within markdown code blocks\n",
    "    match = re.search(r'```json\\s*([\\s\\S]*?)\\s*```', llm_output_str, re.IGNORECASE)\n",
    "    if match:\n",
    "        json_str = match.group(1).strip()\n",
    "    else:\n",
    "        # If no markdown block, assume the whole string is the JSON (or needs cleaning)\n",
    "        # LLMs sometimes add introductory text before the JSON list. Try to find the start of the list.\n",
    "        list_start_index = llm_output_str.find('[')\n",
    "        list_end_index = llm_output_str.rfind(']')\n",
    "        if list_start_index != -1 and list_end_index != -1 and list_start_index < list_end_index:\n",
    "            json_str = llm_output_str[list_start_index : list_end_index+1].strip()\n",
    "        else:\n",
    "            json_str = llm_output_str.strip() # Fallback to the whole string\n",
    "\n",
    "    try:\n",
    "        parsed_data = json.loads(json_str)\n",
    "        if isinstance(parsed_data, list):\n",
    "            return parsed_data\n",
    "        else:\n",
    "            print(f\"Warning: LLM output was valid JSON but not a list (type: {type(parsed_data)}). Returning empty list.\")\n",
    "            print(f\"Problematic JSON string (or part of it): {json_str[:200]}...\")\n",
    "            return []\n",
    "    except json.JSONDecodeError as e:\n",
    "        print(f\"Error decoding JSON from LLM output: {e}\")\n",
    "        print(f\"Problematic JSON string (or part of it): {json_str[:500]}...\")\n",
    "        # Optional: A more aggressive regex fallback if standard parsing fails badly\n",
    "        # This is risky as it might grab partial JSONs. Use with caution.\n",
    "        # entities_found = []\n",
    "        # for match_obj in re.finditer(r'\\{\\s*\"text\":\\s*\".*?\",\\s*\"type\":\\s*\".*?\"\\s*\\}', json_str):\n",
    "        #     try:\n",
    "        #        entities_found.append(json.loads(match_obj.group(0)))\n",
    "        #     except json.JSONDecodeError: continue # Skip malformed individual objects\n",
    "        # if entities_found:\n",
    "        #    print(f\"Warning: Recovered {len(entities_found)} entities using aggressive regex due to JSON error.\")\n",
    "        #    return entities_found\n",
    "        return []\n",
    "    except Exception as e:\n",
    "        print(f\"An unexpected error occurred during LLM JSON output parsing: {e}\")\n",
    "        return []\n",
    "\n",
    "print(\"Function 'parse_llm_json_output' defined.\")"
   ]
  },
  {
   "cell_type": "markdown",
   "id": "parse_llm_json_func_def_output",
   "metadata": {},
   "source": [
    "**Output Explanation:**\n",
    "Confirms the definition of the `parse_llm_json_output` utility function."
   ]
  },
  {
   "cell_type": "markdown",
   "id": "step2-1-3-llm-ner-exec-desc",
   "metadata": {},
   "source": [
    "#### 2.1.3: Targeted Entity Extraction using LLM - Execution\n",
    "\n",
    "**Theory:**\n",
    "Now, equipped with our curated list of entity types (`llm_selected_entity_types_str`), we instruct the LLM to perform NER on each (cleaned) article. \n",
    "1.  **System Prompt:** The system prompt for NER is carefully constructed. It tells the LLM:\n",
    "    *   Its role (expert NER system for tech acquisitions).\n",
    "    *   The specific entity types to focus on (from `llm_selected_entity_types_str`).\n",
    "    *   The required output format: a JSON list of objects, where each object has `\"text\"` (the exact extracted entity span) and `\"type\"` (one of the specified entity types).\n",
    "    *   An example of the desired JSON output.\n",
    "    *   To output an empty JSON list `[]` if no relevant entities are found.\n",
    "2.  **User Prompt:** For each article, the user prompt is simply its `cleaned_text`.\n",
    "3.  **Processing Loop:** We iterate through a small sample of `cleaned_articles` (defined by `MAX_ARTICLES_FOR_LLM_NER` to manage time/cost). For each:\n",
    "    *   The article text is (optionally truncated if too long for LLM context window).\n",
    "    *   `call_llm_for_response` is invoked.\n",
    "    *   `parse_llm_json_output` processes the LLM's response.\n",
    "    *   The extracted entities are stored alongside the article data in a new list, `articles_with_entities`.\n",
    "A small delay (`time.sleep`) is added between API calls to be polite to the API endpoint and avoid potential rate limiting."
   ]
  },
  {
   "cell_type": "code",
   "execution_count": 23,
   "id": "32e17afa",
   "metadata": {},
   "outputs": [
    {
     "name": "stdout",
     "output_type": "stream",
     "text": [
      "Starting Gemini LLM NER for 2 articles...\n"
     ]
    },
    {
     "name": "stderr",
     "output_type": "stream",
     "text": [
      "LLM NER Processing:   0%|          | 0/2 [00:00<?, ?it/s]"
     ]
    },
    {
     "name": "stdout",
     "output_type": "stream",
     "text": [
      "\n",
      "Processing article ID: 487b272b94a620f9660e89bbf6ebab3ffdf1bf06 for NER (1/2)...\n",
      "  Extracted 0 entities for article ID 487b272b94a620f9660e89bbf6ebab3ffdf1bf06.\n"
     ]
    },
    {
     "name": "stderr",
     "output_type": "stream",
     "text": [
      "LLM NER Processing:  50%|█████     | 1/2 [00:01<00:01,  1.84s/it]"
     ]
    },
    {
     "name": "stdout",
     "output_type": "stream",
     "text": [
      "\n",
      "Processing article ID: c7c83a9ee902e568a55898c616f20181952ce057 for NER (2/2)...\n"
     ]
    },
    {
     "name": "stderr",
     "output_type": "stream",
     "text": [
      "LLM NER Processing: 100%|██████████| 2/2 [00:02<00:00,  1.45s/it]"
     ]
    },
    {
     "name": "stdout",
     "output_type": "stream",
     "text": [
      "  Extracted 0 entities for article ID c7c83a9ee902e568a55898c616f20181952ce057.\n",
      "\n",
      "Finished Gemini LLM NER. Processed 2 articles.\n"
     ]
    },
    {
     "name": "stderr",
     "output_type": "stream",
     "text": [
      "\n"
     ]
    }
   ],
   "source": [
    "import os\n",
    "import json\n",
    "import time\n",
    "from tqdm import tqdm\n",
    "import google.generativeai as genai\n",
    "\n",
    "# --- Configure Gemini ---\n",
    "genai.configure(api_key=os.getenv(\"GOOGLE_API_KEY\"))\n",
    "DEFAULT_CHAT_MODEL = \"gemini-1.5-pro\"\n",
    "\n",
    "def gemini_text(prompt: str, model_name: str = DEFAULT_CHAT_MODEL) -> str:\n",
    "    \"\"\"Call Gemini and return plain text output.\"\"\"\n",
    "    model = genai.GenerativeModel(model_name)\n",
    "    resp = model.generate_content(prompt)\n",
    "    return getattr(resp, \"text\", \"\").strip()\n",
    "\n",
    "def parse_llm_json_output(raw_output: str):\n",
    "    \"\"\"Attempt to parse raw JSON from the LLM output.\"\"\"\n",
    "    try:\n",
    "        return json.loads(raw_output)\n",
    "    except json.JSONDecodeError:\n",
    "        # try to extract JSON-like content\n",
    "        start = raw_output.find(\"[\")\n",
    "        end = raw_output.rfind(\"]\") + 1\n",
    "        if start != -1 and end != -1:\n",
    "            try:\n",
    "                return json.loads(raw_output[start:end])\n",
    "            except Exception:\n",
    "                pass\n",
    "    return []\n",
    "\n",
    "# --- Gemini-compatible system prompt ---\n",
    "LLM_NER_SYSTEM_PROMPT_TEMPLATE = (\n",
    "    \"You are an expert Named Entity Recognition system specialized in identifying information about **homelessness, housing programs, and related policy**. \"\n",
    "    \"From the provided article text, identify and extract entities. \"\n",
    "    \"The entity types to focus on are: {entity_types_list_str}. \"\n",
    "    \"Ensure that the extracted 'text' for each entity is an EXACT span from the article. \"\n",
    "    \"Output ONLY a valid JSON list of objects, where each object has 'text' (the exact extracted entity string) and 'type' (one of the entity type main labels, e.g., ORG, DATE, FAC, PROGRAM from your list) keys. \"\n",
    "    \"Example: [{{\\\"text\\\": \\\"PA 211\\\", \\\"type\\\": \\\"ORG\\\"}}, {{\\\"text\\\": \\\"January 2024\\\", \\\"type\\\": \\\"DATE\\\"}}, {{\\\"text\\\": \\\"Housing First\\\", \\\"type\\\": \\\"PROGRAM\\\"}}]\"\n",
    ")\n",
    "\n",
    "# --- Main NER processing loop ---\n",
    "articles_with_entities = []\n",
    "MAX_ARTICLES_FOR_LLM_NER = 3  # keep small for demo\n",
    "\n",
    "if cleaned_articles and llm_selected_entity_types_str and \"LLM_\" not in llm_selected_entity_types_str:\n",
    "    ner_system_prompt = LLM_NER_SYSTEM_PROMPT_TEMPLATE.format(\n",
    "        entity_types_list_str=llm_selected_entity_types_str\n",
    "    )\n",
    "\n",
    "    num_articles_to_process = min(len(cleaned_articles), MAX_ARTICLES_FOR_LLM_NER)\n",
    "    print(f\"Starting Gemini LLM NER for {num_articles_to_process} articles...\")\n",
    "\n",
    "    for i, article_dict in enumerate(tqdm(cleaned_articles[:num_articles_to_process], desc=\"LLM NER Processing\")):\n",
    "        print(f\"\\nProcessing article ID: {article_dict['id']} for NER ({i+1}/{num_articles_to_process})...\")\n",
    "\n",
    "        max_text_chars = 12000\n",
    "        article_text_for_llm = article_dict[\"cleaned_text\"][:max_text_chars]\n",
    "        if len(article_dict[\"cleaned_text\"]) > max_text_chars:\n",
    "            print(f\"  Warning: Truncated article text from {len(article_dict['cleaned_text'])} to {max_text_chars} chars.\")\n",
    "\n",
    "        # Call Gemini\n",
    "        raw_output = gemini_text(f\"{ner_system_prompt}\\n\\n{article_text_for_llm}\")\n",
    "        extracted_entities = parse_llm_json_output(raw_output)\n",
    "\n",
    "        current_article_data = article_dict.copy()\n",
    "        current_article_data[\"llm_entities\"] = extracted_entities\n",
    "        articles_with_entities.append(current_article_data)\n",
    "\n",
    "        print(f\"  Extracted {len(extracted_entities)} entities for article ID {article_dict['id']}.\")\n",
    "        if extracted_entities:\n",
    "            print(\"  Sample entities:\", json.dumps(extracted_entities[:3], indent=2))\n",
    "\n",
    "        if i < num_articles_to_process - 1:\n",
    "            time.sleep(1)  # polite delay to avoid hitting request rate limits\n",
    "\n",
    "    print(f\"\\nFinished Gemini LLM NER. Processed {len(articles_with_entities)} articles.\")\n",
    "\n",
    "else:\n",
    "    print(\"Skipping LLM NER: Missing cleaned_articles or valid entity type string.\")\n",
    "    if cleaned_articles:\n",
    "        for article_dict in cleaned_articles[:MAX_ARTICLES_FOR_LLM_NER]:\n",
    "            fallback = article_dict.copy()\n",
    "            fallback[\"llm_entities\"] = []\n",
    "            articles_with_entities.append(fallback)\n",
    "        print(f\"Populated {len(articles_with_entities)} entries with empty 'llm_entities'.\")\n"
   ]
  },
  {
   "cell_type": "markdown",
   "id": "llm-ner-exec-output",
   "metadata": {},
   "source": [
    "**Output Explanation:**\n",
    "This block will show the progress of LLM-based NER:\n",
    "*   For each processed article: its ID, a message about truncation (if any), the number of entities extracted, and a sample of the extracted entities in JSON format.\n",
    "*   A final message indicating completion or why the step was skipped.\n",
    "The `articles_with_entities` list now contains the original article data plus a new key `llm_entities` holding the list of entities extracted by the LLM for that article."
   ]
  },
  {
   "cell_type": "markdown",
   "id": "step2-2-desc",
   "metadata": {},
   "source": [
    "### Step 2.2: Relationship Extraction\n",
    "**Task:** Identify semantic relationships between extracted entities, such as acquisition events or affiliations.\n",
    "\n",
    "**Book Concept:** (Ch. 2 - Relationships as edges)\n",
    "Relationships define how entities are connected, forming the *edges* in our Knowledge Graph. Extracting these relationships is crucial for capturing the actual knowledge (e.g., \"Company A *acquired* Company B\", \"Acquisition *has_price* $X Million\").\n",
    "\n",
    "**Methodology:**\n",
    "Similar to NER, we'll use the LLM for Relationship Extraction (RE). For each article:\n",
    "1.  **System Prompt:** We design a system prompt that instructs the LLM to act as a relationship extraction expert for technology acquisitions. It specifies:\n",
    "    *   The desired relationship types (predicates) like `ACQUIRED`, `HAS_PRICE`, `ANNOUNCED_ON`, `ACQUIRER_IS`, `ACQUIRED_COMPANY_IS`, `INVOLVES_PRODUCT`. These are chosen to capture key aspects of an acquisition event.\n",
    "    *   The requirement that the subject and object of a relationship must be exact text spans from the list of entities provided for that article.\n",
    "    *   The desired output format: a JSON list of objects, each with `subject_text`, `subject_type`, `predicate`, `object_text`, and `object_type`.\n",
    "    *   An example of the output format.\n",
    "2.  **User Prompt:** The user prompt for each article will contain:\n",
    "    *   The article's `cleaned_text`.\n",
    "    *   The list of `llm_entities` extracted in the previous step for that specific article (serialized as a JSON string within the prompt).\n",
    "3.  **Processing Loop:** Iterate through `articles_with_entities`. If an article has entities:\n",
    "    *   Construct the user prompt.\n",
    "    *   Call the LLM.\n",
    "    *   Parse the JSON output.\n",
    "    *   Optionally, validate that the subject/object texts in the extracted relations indeed come from the provided entity list to maintain consistency.\n",
    "    *   Store the extracted relations in a new list, `articles_with_relations` (each item will be the article data augmented with `llm_relations`)."
   ]
  },
  {
   "cell_type": "code",
   "execution_count": 16,
   "id": "relationship-extraction-exec-code",
   "metadata": {},
   "outputs": [
    {
     "name": "stdout",
     "output_type": "stream",
     "text": [
      "Starting LLM Relationship Extraction for 3 articles (that have entities)...\n"
     ]
    },
    {
     "data": {
      "application/vnd.jupyter.widget-view+json": {
       "model_id": "723fc9ffacaa4089bc40da6ba96cdc32",
       "version_major": 2,
       "version_minor": 0
      },
      "text/plain": [
       "LLM Relationship Extraction:   0%|          | 0/3 [00:00<?, ?it/s]"
      ]
     },
     "metadata": {},
     "output_type": "display_data"
    },
    {
     "name": "stdout",
     "output_type": "stream",
     "text": [
      "\n",
      "Processing article ID: 56d7d67bb0fc32ee71cc006b915244776d883661 for relationships (1/3)...\n",
      "  No entities found for article ID 56d7d67bb0fc32ee71cc006b915244776d883661, skipping relationship extraction for this article.\n",
      "\n",
      "Processing article ID: 4cf51ce9372dff8ff7f44f098eab1c1d7569af7a for relationships (2/3)...\n",
      "  No entities found for article ID 4cf51ce9372dff8ff7f44f098eab1c1d7569af7a, skipping relationship extraction for this article.\n",
      "\n",
      "Processing article ID: 82a0e1f034174079179821b052f33df76c781b47 for relationships (3/3)...\n",
      "  No entities found for article ID 82a0e1f034174079179821b052f33df76c781b47, skipping relationship extraction for this article.\n",
      "\n",
      "Finished LLM Relationship Extraction. Processed 3 articles and stored relations.\n"
     ]
    }
   ],
   "source": [
    "RELATIONSHIP_EXTRACTION_SYSTEM_PROMPT_TEMPLATE = (\n",
    "    \"You are an expert system for extracting relationships between entities from text, specifically focusing on **technology company acquisitions**. \"\n",
    "    \"Example: [{{'subject_text': 'Innovatech Ltd.', 'subject_type': 'ORG', 'predicate': 'ACQUIRED', 'object_text': 'Global Solutions Inc.', 'object_type': 'ORG'}}, {{'subject_text': 'Global Solutions Inc.', 'subject_type': 'ORG', 'predicate': 'HAS_PRICE', 'object_text': '$250M', 'object_type': 'MONEY'}}] \"\n",
    "    \"If no relevant relationships of the specified types are found between the provided entities, output an empty JSON list []. Do not output any other text or explanation.\"\n",
    ")\n",
    "\n",
    "articles_with_relations = [] # Initialize\n",
    "\n",
    "if articles_with_entities and client: # Proceed if we have entities and LLM client\n",
    "    relation_system_prompt = RELATIONSHIP_EXTRACTION_SYSTEM_PROMPT_TEMPLATE # System prompt is constant for this task\n",
    "    \n",
    "    print(f\"Starting LLM Relationship Extraction for {len(articles_with_entities)} articles (that have entities)...\")\n",
    "    for i, article_data_with_ents in enumerate(tqdm(articles_with_entities, desc=\"LLM Relationship Extraction\")):\n",
    "        print(f\"\\nProcessing article ID: {article_data_with_ents['id']} for relationships ({i+1}/{len(articles_with_entities)})...\")\n",
    "        article_text_content = article_data_with_ents['cleaned_text']\n",
    "        entities_for_article = article_data_with_ents['llm_entities']\n",
    "        \n",
    "        if not entities_for_article: # If an article had no entities extracted\n",
    "            print(f\"  No entities found for article ID {article_data_with_ents['id']}, skipping relationship extraction for this article.\")\n",
    "            current_article_output = article_data_with_ents.copy()\n",
    "            current_article_output['llm_relations'] = []\n",
    "            articles_with_relations.append(current_article_output)\n",
    "            continue\n",
    "\n",
    "        # Truncate article text for LLM context, similar to NER step\n",
    "        max_text_chars_re = 10000 # Slightly less than NER to accommodate entity list in prompt\n",
    "        article_text_for_llm_re = article_text_content[:max_text_chars_re]\n",
    "        if len(article_text_content) > max_text_chars_re:\n",
    "            print(f\"  Warning: Article text truncated from {len(article_text_content)} to {max_text_chars_re} characters for LLM RE.\")\n",
    "            \n",
    "        # Serialize entities list to a JSON string for the prompt\n",
    "        # Ensure quotes within entity text are escaped for valid JSON string in prompt\n",
    "        entities_for_prompt_str = json.dumps([{'text': e['text'], 'type': e['type']} for e in entities_for_article])\n",
    "        \n",
    "        user_prompt_for_relations = (\n",
    "            f\"Article Text:\\n```\\n{article_text_for_llm_re}\\n```\\n\\n\" \n",
    "            f\"Extracted Entities (use these exact texts for subjects/objects):\\n```json\\n{entities_for_prompt_str}\\n```\\n\\n\" \n",
    "            f\"Identify and extract relationships between these entities based on the system instructions.\"\n",
    "        )\n",
    "        \n",
    "        llm_relations_raw_output = call_llm_for_response(relation_system_prompt, user_prompt_for_relations)\n",
    "        extracted_relations_list = parse_llm_json_output(llm_relations_raw_output)\n",
    "        \n",
    "        # Optional: Validate that subject/object texts in relations are from the provided entities\n",
    "        valid_relations_list = []\n",
    "        entity_texts_in_article = {e['text'] for e in entities_for_article}\n",
    "        for rel in extracted_relations_list:\n",
    "            # Check structure and presence of texts\n",
    "            if isinstance(rel, dict) and rel.get('subject_text') in entity_texts_in_article and rel.get('object_text') in entity_texts_in_article:\n",
    "                valid_relations_list.append(rel)\n",
    "            else:\n",
    "                print(f\"  Warning: Discarding relation due to missing fields or mismatched entity text: {str(rel)[:100]}...\")\n",
    "        \n",
    "        current_article_output = article_data_with_ents.copy()\n",
    "        current_article_output['llm_relations'] = valid_relations_list\n",
    "        articles_with_relations.append(current_article_output)\n",
    "        \n",
    "        print(f\"  Extracted {len(valid_relations_list)} valid relationships for article ID {article_data_with_ents['id']}.\")\n",
    "        if valid_relations_list:\n",
    "            print(f\"  Sample relations: {json.dumps(valid_relations_list[:min(2, len(valid_relations_list))], indent=2)}\")\n",
    "        \n",
    "        if i < len(articles_with_entities) - 1:\n",
    "             time.sleep(1) # Small delay\n",
    "            \n",
    "    if articles_with_relations:\n",
    "        print(f\"\\nFinished LLM Relationship Extraction. Processed {len(articles_with_relations)} articles and stored relations.\")\n",
    "else:\n",
    "    print(\"Skipping LLM Relationship Extraction: Prerequisites (articles with entities, LLM client) not met.\")\n",
    "    # If RE is skipped, populate articles_with_relations with empty relation lists\n",
    "    if articles_with_entities: # only if we have articles from NER step\n",
    "        for article_data_fallback_re in articles_with_entities:\n",
    "            fallback_data_re = article_data_fallback_re.copy()\n",
    "            fallback_data_re['llm_relations'] = []\n",
    "            articles_with_relations.append(fallback_data_re)\n",
    "        print(f\"Populated 'articles_with_relations' with {len(articles_with_relations)} entries having empty 'llm_relations' lists.\")\n",
    "\n",
    "# Ensure articles_with_relations is defined\n",
    "if 'articles_with_relations' not in globals():\n",
    "    articles_with_relations = []\n",
    "    print(\"Initialized 'articles_with_relations' as an empty list.\")"
   ]
  },
  {
   "cell_type": "code",
   "execution_count": 25,
   "id": "814f2c9e",
   "metadata": {},
   "outputs": [
    {
     "name": "stdout",
     "output_type": "stream",
     "text": [
      "Starting Gemini Relationship Extraction for 2 articles...\n"
     ]
    },
    {
     "name": "stderr",
     "output_type": "stream",
     "text": [
      "Relationship Extraction: 100%|██████████| 2/2 [00:00<00:00, 6132.02it/s]"
     ]
    },
    {
     "name": "stdout",
     "output_type": "stream",
     "text": [
      "\n",
      "Processing article ID: 487b272b94a620f9660e89bbf6ebab3ffdf1bf06 (1/2)...\n",
      "  No entities found for article ID 487b272b94a620f9660e89bbf6ebab3ffdf1bf06, skipping.\n",
      "\n",
      "Processing article ID: c7c83a9ee902e568a55898c616f20181952ce057 (2/2)...\n",
      "  No entities found for article ID c7c83a9ee902e568a55898c616f20181952ce057, skipping.\n",
      "\n",
      "Finished Gemini Relationship Extraction. Processed 2 articles.\n"
     ]
    },
    {
     "name": "stderr",
     "output_type": "stream",
     "text": [
      "\n"
     ]
    }
   ],
   "source": [
    "import os\n",
    "import json\n",
    "import time\n",
    "from tqdm import tqdm\n",
    "import google.generativeai as genai\n",
    "\n",
    "# --- Configure Gemini ---\n",
    "genai.configure(api_key=os.getenv(\"GOOGLE_API_KEY\"))\n",
    "DEFAULT_CHAT_MODEL = \"gemini-1.5-pro\"\n",
    "\n",
    "def gemini_text(prompt: str, model_name: str = DEFAULT_CHAT_MODEL) -> str:\n",
    "    \"\"\"Call Gemini and return plain text output.\"\"\"\n",
    "    model = genai.GenerativeModel(model_name)\n",
    "    resp = model.generate_content(prompt)\n",
    "    return getattr(resp, \"text\", \"\").strip()\n",
    "\n",
    "def parse_llm_json_output(raw_output: str):\n",
    "    \"\"\"Parse JSON from Gemini output safely.\"\"\"\n",
    "    try:\n",
    "        return json.loads(raw_output)\n",
    "    except json.JSONDecodeError:\n",
    "        start = raw_output.find(\"[\")\n",
    "        end = raw_output.rfind(\"]\") + 1\n",
    "        if start != -1 and end != -1:\n",
    "            try:\n",
    "                return json.loads(raw_output[start:end])\n",
    "            except Exception:\n",
    "                pass\n",
    "    return []\n",
    "\n",
    "# --- Relationship Extraction Prompt (Homelessness context) ---\n",
    "RELATIONSHIP_EXTRACTION_SYSTEM_PROMPT_TEMPLATE = (\n",
    "    \"You are an expert system for extracting relationships between entities from text, \"\n",
    "    \"specialized in **homelessness, housing programs, and related services**. \"\n",
    "    \"Use only the provided entities for subjects and objects. \"\n",
    "    \"Relationships of interest include: OPERATES (agency operates facility), FUNDS (government or org funds a program), \"\n",
    "    \"LOCATED_IN (facility or program is in a location), PARTNERS_WITH (two orgs working together), \"\n",
    "    \"BENEFITS (program benefits a target group). \"\n",
    "    \"Example: [{\\\"subject_text\\\": \\\"PA 211\\\", \\\"subject_type\\\": \\\"ORG\\\", \\\"predicate\\\": \\\"OPERATES\\\", \"\n",
    "    \"\\\"object_text\\\": \\\"Community Shelter\\\", \\\"object_type\\\": \\\"FAC\\\"}, \"\n",
    "    \"{\\\"subject_text\\\": \\\"HUD\\\", \\\"subject_type\\\": \\\"ORG\\\", \\\"predicate\\\": \\\"FUNDS\\\", \"\n",
    "    \"\\\"object_text\\\": \\\"Housing First\\\", \\\"object_type\\\": \\\"PROGRAM\\\"}] \"\n",
    "    \"If no relevant relationships are found, output an empty JSON list [].\"\n",
    ")\n",
    "\n",
    "# --- Main Relationship Extraction Loop ---\n",
    "articles_with_relations = []\n",
    "\n",
    "if articles_with_entities:\n",
    "    relation_system_prompt = RELATIONSHIP_EXTRACTION_SYSTEM_PROMPT_TEMPLATE\n",
    "    print(f\"Starting Gemini Relationship Extraction for {len(articles_with_entities)} articles...\")\n",
    "\n",
    "    for i, article_data in enumerate(tqdm(articles_with_entities, desc=\"Relationship Extraction\")):\n",
    "        print(f\"\\nProcessing article ID: {article_data['id']} ({i+1}/{len(articles_with_entities)})...\")\n",
    "\n",
    "        entities_for_article = article_data.get(\"llm_entities\", [])\n",
    "        if not entities_for_article:\n",
    "            print(f\"  No entities found for article ID {article_data['id']}, skipping.\")\n",
    "            fallback = article_data.copy()\n",
    "            fallback[\"llm_relations\"] = []\n",
    "            articles_with_relations.append(fallback)\n",
    "            continue\n",
    "\n",
    "        max_text_chars = 10000\n",
    "        article_text_for_llm = article_data[\"cleaned_text\"][:max_text_chars]\n",
    "        if len(article_data[\"cleaned_text\"]) > max_text_chars:\n",
    "            print(f\"  Warning: Truncated from {len(article_data['cleaned_text'])} to {max_text_chars} chars.\")\n",
    "\n",
    "        # Entities as JSON for prompt\n",
    "        entities_json_str = json.dumps(\n",
    "            [{\"text\": e[\"text\"], \"type\": e[\"type\"]} for e in entities_for_article]\n",
    "        )\n",
    "\n",
    "        user_prompt = (\n",
    "            f\"Article Text:\\n```\\n{article_text_for_llm}\\n```\\n\\n\"\n",
    "            f\"Entities:\\n```json\\n{entities_json_str}\\n```\\n\\n\"\n",
    "            f\"Extract relationships as instructed.\"\n",
    "        )\n",
    "\n",
    "        raw_output = gemini_text(f\"{relation_system_prompt}\\n\\n{user_prompt}\")\n",
    "        extracted_relations = parse_llm_json_output(raw_output)\n",
    "\n",
    "        # Validate that all subject/object texts appear in the entity list\n",
    "        valid_relations = []\n",
    "        entity_texts = {e[\"text\"] for e in entities_for_article}\n",
    "        for rel in extracted_relations:\n",
    "            if (\n",
    "                isinstance(rel, dict)\n",
    "                and rel.get(\"subject_text\") in entity_texts\n",
    "                and rel.get(\"object_text\") in entity_texts\n",
    "            ):\n",
    "                valid_relations.append(rel)\n",
    "            else:\n",
    "                print(f\"  Discarding invalid relation: {rel}\")\n",
    "\n",
    "        article_output = article_data.copy()\n",
    "        article_output[\"llm_relations\"] = valid_relations\n",
    "        articles_with_relations.append(article_output)\n",
    "\n",
    "        print(f\"  Extracted {len(valid_relations)} valid relationships.\")\n",
    "        if valid_relations:\n",
    "            print(\"  Sample:\", json.dumps(valid_relations[:2], indent=2))\n",
    "\n",
    "        if i < len(articles_with_entities) - 1:\n",
    "            time.sleep(1)\n",
    "\n",
    "    print(f\"\\nFinished Gemini Relationship Extraction. Processed {len(articles_with_relations)} articles.\")\n",
    "\n",
    "else:\n",
    "    print(\"Skipping Relationship Extraction: No articles_with_entities found.\")\n",
    "    articles_with_relations = []\n"
   ]
  },
  {
   "cell_type": "markdown",
   "id": "relationship-extraction-exec-output",
   "metadata": {},
   "source": [
    "**Output Explanation:**\n",
    "This block will show the progress of LLM-based Relationship Extraction:\n",
    "*   For each processed article: its ID, number of relationships extracted, and a sample of these relations in JSON format.\n",
    "*   Warnings if any extracted relations are discarded due to validation failures.\n",
    "*   A final message indicating completion or why the step was skipped.\n",
    "The `articles_with_relations` list now contains items that have `llm_entities` and `llm_relations`."
   ]
  },
  {
   "cell_type": "markdown",
   "id": "phase3",
   "metadata": {},
   "source": [
    "## Phase 3: Knowledge Graph Construction\n",
    "**(Ref: Ch. 2 – KG Layers; Ch. 4 – Mapping and Materialization)**\n",
    "\n",
    "**Theory (Phase Overview):**\n",
    "Having extracted entities and relationships, this phase focuses on formally constructing the Knowledge Graph. This involves several key sub-tasks:\n",
    "*   **Entity Disambiguation & Linking:** Ensuring that different textual mentions of the same real-world entity are resolved to a single, canonical identifier (URI). This is crucial for graph coherence and data integration (Ch. 6, Ch. 8 concepts like COMET).\n",
    "*   **Schema/Ontology Alignment:** Mapping the extracted entity types and relationship predicates to a predefined schema or ontology (Ch. 2 - Ontology Layer; Ch. 4 - R2RML-like mapping). This provides semantic structure and enables interoperability and reasoning.\n",
    "*   **Triple Generation:** Converting the structured entity and relation data into Subject-Predicate-Object (S-P-O) triples, the fundamental data model of RDF-based KGs (Ch. 2, Ch. 4 - RML output).\n",
    "The output of this phase is a populated `rdflib.Graph` object."
   ]
  },
  {
   "cell_type": "markdown",
   "id": "step3-1-normalize-entity-text-func-def-desc",
   "metadata": {},
   "source": [
    "### Step 3.1: Entity Disambiguation & Linking (Simplified) - Normalization Function\n",
    "**Task:** Resolve different mentions of the same real-world entity.\n",
    "\n",
    "**Book Concept:** (Ch. 6 - Entity Resolution; Ch. 8 - Context-aware linking)\n",
    "True entity disambiguation and linking (EDL) is a complex NLP task, often involving linking entities to large external KGs like Wikidata or DBpedia, or using sophisticated clustering and coreference resolution. \n",
    "\n",
    "**Methodology (Simplified):**\n",
    "For this demonstration, we'll perform a simplified version: **text normalization**. The `normalize_entity_text` function will:\n",
    "*   Trim whitespace.\n",
    "*   For `ORG` entities, attempt to remove common corporate suffixes (e.g., \"Inc.\", \"Ltd.\", \"Corp.\") to group variations like \"Example Corp\" and \"Example Corporation\" under a common normalized form like \"Example\".\n",
    "*   (Optionally, one might consider lowercasing, but this can sometimes lose important distinctions, e.g., between \"IT\" the pronoun and \"IT\" the sector).\n",
    "This normalized text will then be used to create a unique URI for each distinct entity."
   ]
  },
  {
   "cell_type": "code",
   "execution_count": 26,
   "id": "normalize_entity_text_func_def",
   "metadata": {},
   "outputs": [
    {
     "name": "stdout",
     "output_type": "stream",
     "text": [
      "Function 'normalize_entity_text' defined.\n"
     ]
    }
   ],
   "source": [
    "def normalize_entity_text(text_to_normalize, entity_type_str):\n",
    "    \"\"\"Normalizes entity text for better linking (simplified version).\"\"\"\n",
    "    normalized_t = text_to_normalize.strip()\n",
    "    \n",
    "    if entity_type_str == 'ORG':\n",
    "        # Common suffixes to remove for ORG names. Order can matter for nested suffixes.\n",
    "        # More comprehensive list would be needed for production.\n",
    "        suffixes = [\n",
    "            'Inc.', 'Incorporated', 'Ltd.', 'Limited', 'LLC', 'L.L.C.', \n",
    "            'Corp.', 'Corporation', 'PLC', 'Public Limited Company', \n",
    "            'GmbH', 'AG', 'S.A.', 'S.A.S.', 'B.V.', 'Pty Ltd', 'Co.', 'Company',\n",
    "            'Solutions', 'Technologies', 'Systems', 'Group', 'Holdings'\n",
    "        ]\n",
    "        # Sort suffixes by length descending to remove longer matches first (e.g., 'Pty Ltd' before 'Ltd')\n",
    "        suffixes.sort(key=len, reverse=True)\n",
    "        for suffix in suffixes:\n",
    "            # Case-insensitive suffix removal from the end of the string\n",
    "            if normalized_t.lower().endswith(suffix.lower()):\n",
    "                # Find the actual start of the suffix to preserve casing of the main name\n",
    "                suffix_start_index = normalized_t.lower().rfind(suffix.lower())\n",
    "                normalized_t = normalized_t[:suffix_start_index].strip()\n",
    "                break # Remove one suffix type, then re-evaluate if more complex logic is needed\n",
    "        \n",
    "        # Remove trailing commas or periods that might be left after suffix removal\n",
    "        normalized_t = re.sub(r'[-,.]*$', '', normalized_t).strip()\n",
    "        \n",
    "    # General cleaning: remove possessives like 's sometimes caught by NER\n",
    "    if normalized_t.endswith(\"'s\") or normalized_t.endswith(\"s'\"):\n",
    "        normalized_t = normalized_t[:-2].strip()\n",
    "        \n",
    "    # Consider lowercasing carefully. For ORGs it might be okay, for PERSONs less so.\n",
    "    # For this demo, we'll keep original casing for the most part after suffix stripping.\n",
    "    # normalized_t = normalized_t.lower() # Uncomment if aggressive normalization is desired\n",
    "    \n",
    "    return normalized_t.strip() if normalized_t else text_to_normalize # Return original if normalization results in empty\n",
    "\n",
    "print(\"Function 'normalize_entity_text' defined.\")"
   ]
  },
  {
   "cell_type": "markdown",
   "id": "normalize_entity_text_func_def_output",
   "metadata": {},
   "source": [
    "**Output Explanation:**\n",
    "Confirms the definition of the `normalize_entity_text` function."
   ]
  },
  {
   "cell_type": "markdown",
   "id": "entity-normalization-exec-desc",
   "metadata": {},
   "source": [
    "#### Execute Entity Normalization and URI Generation\n",
    "\n",
    "**Theory:**\n",
    "This block processes the `articles_with_relations` list. For each entity extracted by the LLM:\n",
    "1.  Its text is normalized using `normalize_entity_text`.\n",
    "2.  A unique URI (Uniform Resource Identifier) is generated for each distinct normalized entity. We use a simple scheme: `EX:<NormalizedText>_<EntityType>`. The `EX` is our custom namespace. This creates a canonical identifier for each unique real-world concept (as per our normalization). A `unique_entities_map` dictionary stores the mapping from `(normalized_text, entity_type)` to its URI, ensuring that the same normalized entity always gets the same URI across all articles.\n",
    "3.  The normalized text and the URI are added to the entity's dictionary.\n",
    "The results are stored in `articles_with_normalized_entities`."
   ]
  },
  {
   "cell_type": "code",
   "execution_count": 27,
   "id": "entity-normalization-exec-code",
   "metadata": {},
   "outputs": [
    {
     "name": "stdout",
     "output_type": "stream",
     "text": [
      "Normalizing entities and preparing for triple generation...\n"
     ]
    },
    {
     "name": "stderr",
     "output_type": "stream",
     "text": [
      "Normalizing Entities & URI Gen: 100%|██████████| 2/2 [00:00<00:00, 15252.01it/s]"
     ]
    },
    {
     "name": "stdout",
     "output_type": "stream",
     "text": [
      "\n",
      "Processed 2 articles for entity normalization and URI generation.\n",
      "Total unique canonical entity URIs created: 0\n"
     ]
    },
    {
     "name": "stderr",
     "output_type": "stream",
     "text": [
      "\n"
     ]
    }
   ],
   "source": [
    "articles_with_normalized_entities = [] # Initialize\n",
    "unique_entities_map = {} # Maps (normalized_text, type) -> URI, to ensure URI consistency\n",
    "\n",
    "if articles_with_relations: # Process only if we have articles with relations (which implies entities)\n",
    "    print(\"Normalizing entities and preparing for triple generation...\")\n",
    "    for article_data_rel in tqdm(articles_with_relations, desc=\"Normalizing Entities & URI Gen\"):\n",
    "        current_article_normalized_ents = []\n",
    "        # Ensure 'llm_entities' key exists and is a list\n",
    "        if 'llm_entities' in article_data_rel and isinstance(article_data_rel['llm_entities'], list):\n",
    "            for entity_dict in article_data_rel['llm_entities']:\n",
    "                # Ensure entity_dict is a dictionary with 'text' and 'type'\n",
    "                if not (isinstance(entity_dict, dict) and 'text' in entity_dict and 'type' in entity_dict):\n",
    "                    print(f\"  Skipping malformed entity object: {str(entity_dict)[:100]} in article {article_data_rel['id']}\")\n",
    "                    continue\n",
    "\n",
    "                original_entity_text = entity_dict['text']\n",
    "                entity_type_val = entity_dict['type'] \n",
    "                # LLM might return type with description, e.g. \"ORG (Company)\". We need just \"ORG\".\n",
    "                # We'll take the first word as the type for simplicity, assuming it's the label like ORG, PERSON.\n",
    "                simple_entity_type = entity_type_val.split(' ')[0].upper()\n",
    "                entity_dict['simple_type'] = simple_entity_type # Store the simplified type\n",
    "                \n",
    "                normalized_entity_text = normalize_entity_text(original_entity_text, simple_entity_type)\n",
    "                if not normalized_entity_text: # if normalization resulted in empty string, use original\n",
    "                    normalized_entity_text = original_entity_text \n",
    "                \n",
    "                # Create a unique key for the map using normalized text and simple type\n",
    "                entity_map_key = (normalized_entity_text, simple_entity_type)\n",
    "                \n",
    "                if entity_map_key not in unique_entities_map:\n",
    "                    # Sanitize text for URI: replace spaces and special characters not allowed in URIs\n",
    "                    # A more robust IRI->URI conversion might be needed for non-ASCII characters.\n",
    "                    safe_uri_text_part = re.sub(r'[^a-zA-Z0-9_\\-]', '_', normalized_entity_text.replace(' ', '_'))\n",
    "                    # Prevent extremely long URIs from very long entity texts (rare but possible)\n",
    "                    safe_uri_text_part = safe_uri_text_part[:80] \n",
    "                    if not safe_uri_text_part: # If sanitization results in empty string, use a hash or generic id\n",
    "                        import hashlib\n",
    "                        safe_uri_text_part = f\"entity_{hashlib.md5(normalized_entity_text.encode()).hexdigest()[:8]}\"\n",
    "                    unique_entities_map[entity_map_key] = EX[f\"{safe_uri_text_part}_{simple_entity_type}\"]\n",
    "                \n",
    "                # Update the entity dictionary\n",
    "                entity_dict_copy = entity_dict.copy()\n",
    "                entity_dict_copy['normalized_text'] = normalized_entity_text\n",
    "                entity_dict_copy['uri'] = unique_entities_map[entity_map_key]\n",
    "                current_article_normalized_ents.append(entity_dict_copy)\n",
    "        \n",
    "        # Store results for the current article\n",
    "        article_data_output_norm = article_data_rel.copy()\n",
    "        article_data_output_norm['normalized_entities'] = current_article_normalized_ents\n",
    "        articles_with_normalized_entities.append(article_data_output_norm)\n",
    "    \n",
    "    if articles_with_normalized_entities and articles_with_normalized_entities[0].get('normalized_entities'):\n",
    "        print(\"\\nExample of first article's normalized entities (first 3):\")\n",
    "        for ent_example in articles_with_normalized_entities[0]['normalized_entities'][:3]:\n",
    "            print(f\"  Original: '{ent_example['text']}', Type: {ent_example['type']} (Simple: {ent_example['simple_type']}), Normalized: '{ent_example['normalized_text']}', URI: <{ent_example['uri']}>\")\n",
    "    print(f\"\\nProcessed {len(articles_with_normalized_entities)} articles for entity normalization and URI generation.\")\n",
    "    print(f\"Total unique canonical entity URIs created: {len(unique_entities_map)}\")\n",
    "else:\n",
    "    print(\"Skipping entity normalization and URI generation: No articles with relations available.\")\n",
    "\n",
    "# Ensure articles_with_normalized_entities is defined\n",
    "if 'articles_with_normalized_entities' not in globals():\n",
    "    articles_with_normalized_entities = []\n",
    "    print(\"Initialized 'articles_with_normalized_entities' as an empty list.\")"
   ]
  },
  {
   "cell_type": "markdown",
   "id": "entity-normalization-exec-output",
   "metadata": {},
   "source": [
    "**Output Explanation:**\n",
    "This block will show:\n",
    "*   Progress of the normalization and URI generation process.\n",
    "*   Examples of original entity text vs. their normalized versions and the generated URIs for the first few entities in the first processed article.\n",
    "*   The total count of unique entity URIs created across all processed articles."
   ]
  },
  {
   "cell_type": "markdown",
   "id": "step3-2-rdf-type-func-def-desc",
   "metadata": {},
   "source": [
    "### Step 3.2: Schema/Ontology Alignment - RDF Type Mapping Function\n",
    "**Task:** Map extracted entities and relationships to a consistent schema or ontology.\n",
    "\n",
    "**Book Concept:** (Ch. 2 - Ontology Layer; Ch. 4 - Mapping)\n",
    "Schema/Ontology alignment involves mapping our locally defined entity types (e.g., \"ORG\", \"PERSON\" from the LLM NER step) and relationship predicates to standard vocabularies (like Schema.org) or custom-defined RDF classes and properties. This adds semantic rigor and enables interoperability.\n",
    "\n",
    "**Methodology:**\n",
    "The `get_rdf_type_for_entity` function takes our simple entity type string (e.g., \"ORG\") and maps it to an RDF Class. \n",
    "*   It uses a predefined dictionary (`type_mapping`) to link common types to `SCHEMA` (Schema.org) classes (e.g., `ORG` -> `SCHEMA.Organization`).\n",
    "*   If a type is not in the map, it defaults to creating a class within our custom `EX` namespace (e.g., `EX.CUSTOM_TYPE`).\n",
    "This function ensures that each entity in our KG will be assigned a formal RDF type."
   ]
  },
  {
   "cell_type": "code",
   "execution_count": 28,
   "id": "get_rdf_type_for_entity_func_def",
   "metadata": {},
   "outputs": [
    {
     "name": "stdout",
     "output_type": "stream",
     "text": [
      "Function 'get_rdf_type_for_entity' defined.\n"
     ]
    }
   ],
   "source": [
    "def get_rdf_type_for_entity(simple_entity_type_str):\n",
    "    \"\"\"Maps our simple entity type string (e.g., 'ORG') to an RDF Class.\"\"\"\n",
    "    type_mapping = {\n",
    "        'ORG': SCHEMA.Organization,\n",
    "        'PERSON': SCHEMA.Person,\n",
    "        'MONEY': SCHEMA.PriceSpecification, # Or a custom EX.MonetaryValue\n",
    "        'DATE': SCHEMA.Date, # Note: schema.org/Date is a datatype, consider schema.org/Event for events with dates\n",
    "        'PRODUCT': SCHEMA.Product,\n",
    "        'GPE': SCHEMA.Place,    # Geopolitical Entity\n",
    "        'LOC': SCHEMA.Place,    # General Location\n",
    "        'EVENT': SCHEMA.Event,\n",
    "        # Add other mappings as derived from llm_selected_entity_types_str if needed\n",
    "        'CARDINAL': RDF.Statement, # Or more specific if context known, often just a literal value\n",
    "        'FAC': SCHEMA.Place # Facility\n",
    "    }\n",
    "    return type_mapping.get(simple_entity_type_str.upper(), EX[simple_entity_type_str.upper()]) # Fallback to custom type\n",
    "\n",
    "print(\"Function 'get_rdf_type_for_entity' defined.\")"
   ]
  },
  {
   "cell_type": "markdown",
   "id": "get_rdf_type_for_entity_func_def_output",
   "metadata": {},
   "source": [
    "**Output Explanation:**\n",
    "Confirms the definition of the `get_rdf_type_for_entity` mapping function."
   ]
  },
  {
   "cell_type": "markdown",
   "id": "step3-2-rdf-predicate-func-def-desc",
   "metadata": {},
   "source": [
    "#### Schema/Ontology Alignment - RDF Predicate Mapping Function\n",
    "\n",
    "**Theory:**\n",
    "The `get_rdf_predicate` function maps our string-based relationship predicates (e.g., \"ACQUIRED\", \"HAS_PRICE\" from the LLM RE step) to RDF Properties. For simplicity and custom control, these are typically mapped to properties within our `EX` namespace. The function ensures that predicate strings are converted into valid URI components (e.g., by replacing spaces with underscores)."
   ]
  },
  {
   "cell_type": "code",
   "execution_count": 29,
   "id": "get_rdf_predicate_func_def",
   "metadata": {},
   "outputs": [
    {
     "name": "stdout",
     "output_type": "stream",
     "text": [
      "Function 'get_rdf_predicate' defined.\n"
     ]
    }
   ],
   "source": [
    "def get_rdf_predicate(predicate_str_from_llm):\n",
    "    \"\"\"Maps our predicate string (from LLM relation extraction) to an RDF Property in our EX namespace.\"\"\"\n",
    "    # Predicates are already somewhat like properties (e.g., 'ACQUIRED')\n",
    "    # We'll ensure they are valid URI components for our custom namespace EX\n",
    "    # Replace spaces with underscores and ensure it's a simple, clean string\n",
    "    sanitized_predicate = predicate_str_from_llm.strip().replace(\" \", \"_\").upper()\n",
    "    return EX[sanitized_predicate]\n",
    "\n",
    "print(\"Function 'get_rdf_predicate' defined.\")"
   ]
  },
  {
   "cell_type": "markdown",
   "id": "get_rdf_predicate_func_def_output",
   "metadata": {},
   "source": [
    "**Output Explanation:**\n",
    "Confirms the definition of the `get_rdf_predicate` mapping function."
   ]
  },
  {
   "cell_type": "markdown",
   "id": "schema-alignment-example-desc",
   "metadata": {},
   "source": [
    "#### Schema/Ontology Alignment - Examples\n",
    "\n",
    "**Theory:**\n",
    "This block simply prints out a few examples of how our entity types and relationship predicates would be mapped to RDF terms using the functions defined above. This serves as a quick check and illustration of the mapping logic."
   ]
  },
  {
   "cell_type": "code",
   "execution_count": 30,
   "id": "schema-alignment-example-code",
   "metadata": {},
   "outputs": [
    {
     "name": "stdout",
     "output_type": "stream",
     "text": [
      "Schema alignment functions ready. Example mappings:\n",
      "  Entity Type 'ORG' maps to RDF Class: <http://schema.org/Organization>\n",
      "  Predicate 'ACQUIRED' maps to RDF Property: <http://example.org/kg/ACQUIRED>\n",
      "  Entity Type 'MONEY' maps to RDF Class: <http://schema.org/PriceSpecification>\n",
      "  Predicate 'HAS_PRICE' maps to RDF Property: <http://example.org/kg/HAS_PRICE>\n"
     ]
    }
   ],
   "source": [
    "print(\"Schema alignment functions ready. Example mappings:\")\n",
    "example_entity_type = 'ORG'\n",
    "example_predicate_str = 'ACQUIRED'\n",
    "print(f\"  Entity Type '{example_entity_type}' maps to RDF Class: <{get_rdf_type_for_entity(example_entity_type)}>\")\n",
    "print(f\"  Predicate '{example_predicate_str}' maps to RDF Property: <{get_rdf_predicate(example_predicate_str)}>\")\n",
    "\n",
    "example_entity_type_2 = 'MONEY'\n",
    "example_predicate_str_2 = 'HAS_PRICE'\n",
    "print(f\"  Entity Type '{example_entity_type_2}' maps to RDF Class: <{get_rdf_type_for_entity(example_entity_type_2)}>\")\n",
    "print(f\"  Predicate '{example_predicate_str_2}' maps to RDF Property: <{get_rdf_predicate(example_predicate_str_2)}>\")"
   ]
  },
  {
   "cell_type": "markdown",
   "id": "schema-alignment-example-output",
   "metadata": {},
   "source": [
    "**Output Explanation:**\n",
    "Shows example RDF URIs that would be generated for sample entity types and predicate strings, illustrating the mapping functions."
   ]
  },
  {
   "cell_type": "markdown",
   "id": "step3-3-triple-generation-exec-desc",
   "metadata": {},
   "source": [
    "### Step 3.3: Triple Generation\n",
    "**Task:** Convert the structured entity and relation data into subject–predicate–object triples.\n",
    "\n",
    "**Book Concept:** (Ch. 2 - KG structure; Ch. 4 - RML output)\n",
    "This is where the Knowledge Graph materializes. We iterate through our processed articles (`articles_with_normalized_entities`) and convert the extracted information into RDF triples using `rdflib`.\n",
    "\n",
    "**Methodology:**\n",
    "1.  **Initialize Graph:** An `rdflib.Graph` object (`kg`) is created.\n",
    "2.  **Bind Namespaces:** Namespaces (EX, SCHEMA, RDFS, etc.) are bound to prefixes for cleaner serialization of the RDF (e.g., `ex:AcmeCorp` instead of the full URI).\n",
    "3.  **Iterate Articles:** For each article:\n",
    "    *   An RDF resource is created for the article itself (e.g., `ex:article_123`), typed as `schema:Article`.\n",
    "    *   Its summary (or ID) can be added as a `schema:headline` or `rdfs:label`.\n",
    "4.  **Iterate Entities:** For each `normalized_entity` within an article:\n",
    "    *   The entity's URI (from `entity['uri']`) is used as the subject.\n",
    "    *   A triple `(entity_uri, rdf:type, rdf_entity_type)` is added, where `rdf_entity_type` comes from `get_rdf_type_for_entity()`.\n",
    "    *   A triple `(entity_uri, rdfs:label, Literal(normalized_text))` is added to provide a human-readable label.\n",
    "    *   If the original text differs from the normalized text, `(entity_uri, skos:altLabel, Literal(original_text))` can be added for the original mention.\n",
    "    *   A triple `(article_uri, schema:mentions, entity_uri)` links the article to the entities it mentions.\n",
    "    *   A local map (`entity_uri_map_for_article`) is built for the current article, mapping original entity texts to their canonical URIs. This is crucial for resolving relations in the next step, as relations were extracted based on original text spans.\n",
    "5.  **Iterate Relations:** For each `llm_relation` within an article:\n",
    "    *   The URIs for the subject and object entities are looked up from `entity_uri_map_for_article` using their original text spans.\n",
    "    *   The predicate string is converted to an RDF property using `get_rdf_predicate()`.\n",
    "    *   If both subject and object URIs are found, the triple `(subject_uri, predicate_rdf, object_uri)` is added to the graph.\n",
    "\n",
    "**Output:** A populated `rdflib.Graph` (`kg`) containing all the extracted knowledge as RDF triples."
   ]
  },
  {
   "cell_type": "code",
   "execution_count": 31,
   "id": "triple-generation-exec-code",
   "metadata": {},
   "outputs": [
    {
     "name": "stdout",
     "output_type": "stream",
     "text": [
      "Generating RDF triples for 2 processed articles...\n"
     ]
    },
    {
     "name": "stderr",
     "output_type": "stream",
     "text": [
      "Generating Triples: 100%|██████████| 2/2 [00:00<00:00, 6355.01it/s]"
     ]
    },
    {
     "name": "stdout",
     "output_type": "stream",
     "text": [
      "\n",
      "Finished generating triples. Approximately 4 triples were candidates for addition.\n",
      "Total actual triples in the graph: 4\n",
      "\n",
      "Sample of first 5 triples in N3 format:\n",
      "  ex:article_c7c83a9ee902e568a55898c616f20181952ce057 schema1:headline \"\"\"NEW: T.I. to remain in custody until Friday, when there's a bond hearing .\n",
      "Rapper was arrested Saturday on weapons charges .\n",
      "T.I. won two awards at BET awards show Saturday night .\"\"\".\n",
      "  ex:article_487b272b94a620f9660e89bbf6ebab3ffdf1bf06 schema1:headline \"\"\"Venezuelan government hikes taxes on alcohol and cigarettes Monday .\n",
      "Ten percent price increase on alcohol and 20 percent increase on cigarettes .\n",
      "Stores near schools, churches and cultural centers cannot sell alcohol .\n",
      "Chavez plans to increase taxes on luxury goods, including Hummers .\"\"\".\n",
      "  ex:article_c7c83a9ee902e568a55898c616f20181952ce057 rdf:type schema1:Article.\n",
      "  ex:article_487b272b94a620f9660e89bbf6ebab3ffdf1bf06 rdf:type schema1:Article.\n"
     ]
    },
    {
     "name": "stderr",
     "output_type": "stream",
     "text": [
      "\n"
     ]
    }
   ],
   "source": [
    "kg = Graph() # Initialize an empty RDF graph\n",
    "# Bind namespaces for prettier RDF serialization (e.g., in Turtle files)\n",
    "kg.bind(\"ex\", EX)\n",
    "kg.bind(\"schema\", SCHEMA)\n",
    "kg.bind(\"rdf\", RDF)\n",
    "kg.bind(\"rdfs\", RDFS)\n",
    "kg.bind(\"xsd\", XSD)\n",
    "kg.bind(\"skos\", SKOS)\n",
    "\n",
    "triples_generated_count = 0\n",
    "\n",
    "if articles_with_normalized_entities:\n",
    "    print(f\"Generating RDF triples for {len(articles_with_normalized_entities)} processed articles...\")\n",
    "    for article_data_final in tqdm(articles_with_normalized_entities, desc=\"Generating Triples\"):\n",
    "        # Create a URI for the article itself\n",
    "        article_uri = EX[f\"article_{article_data_final['id'].replace('-', '_')}\"] # Sanitize ID for URI\n",
    "        kg.add((article_uri, RDF.type, SCHEMA.Article))\n",
    "        kg.add((article_uri, SCHEMA.headline, Literal(article_data_final.get('summary', article_data_final['id']))))\n",
    "        # Optionally add a link to the original text source if available/desired\n",
    "        # kg.add((article_uri, SCHEMA.mainEntityOfPage, URIRef(f\"http://datasource.example.com/articles/{article_data_final['id']}\")))\n",
    "        triples_generated_count += 2\n",
    "\n",
    "        # Create a local map for this article: original entity text -> canonical URI\n",
    "        # This is important because relations were extracted based on original text spans.\n",
    "        entity_text_to_uri_map_current_article = {}\n",
    "\n",
    "        # Add entity triples\n",
    "        for entity_obj in article_data_final.get('normalized_entities', []):\n",
    "            entity_uri_val = entity_obj['uri'] # This is the canonical URI from unique_entities_map\n",
    "            rdf_entity_type_val = get_rdf_type_for_entity(entity_obj['simple_type'])\n",
    "            normalized_label = entity_obj['normalized_text']\n",
    "            original_label = entity_obj['text']\n",
    "            \n",
    "            kg.add((entity_uri_val, RDF.type, rdf_entity_type_val))\n",
    "            kg.add((entity_uri_val, RDFS.label, Literal(normalized_label, lang='en')))\n",
    "            triples_generated_count += 2\n",
    "            if normalized_label != original_label:\n",
    "                 kg.add((entity_uri_val, SKOS.altLabel, Literal(original_label, lang='en')))\n",
    "                 triples_generated_count += 1\n",
    "            \n",
    "            # Link article to mentioned entities\n",
    "            kg.add((article_uri, SCHEMA.mentions, entity_uri_val))\n",
    "            triples_generated_count += 1\n",
    "            \n",
    "            # Populate the local map for resolving relations within this article\n",
    "            entity_text_to_uri_map_current_article[original_label] = entity_uri_val\n",
    "\n",
    "        # Add relation triples\n",
    "        for relation_obj in article_data_final.get('llm_relations', []):\n",
    "            subject_orig_text = relation_obj.get('subject_text')\n",
    "            object_orig_text = relation_obj.get('object_text')\n",
    "            predicate_str = relation_obj.get('predicate')\n",
    "            \n",
    "            # Resolve subject and object texts to their canonical URIs using the article-specific map\n",
    "            subject_resolved_uri = entity_text_to_uri_map_current_article.get(subject_orig_text)\n",
    "            object_resolved_uri = entity_text_to_uri_map_current_article.get(object_orig_text)\n",
    "            \n",
    "            if subject_resolved_uri and object_resolved_uri and predicate_str:\n",
    "                predicate_rdf_prop = get_rdf_predicate(predicate_str)\n",
    "                kg.add((subject_resolved_uri, predicate_rdf_prop, object_resolved_uri))\n",
    "                triples_generated_count += 1\n",
    "            else:\n",
    "                if not subject_resolved_uri:\n",
    "                    print(f\"  Warning: Could not find URI for subject '{subject_orig_text}' in article {article_data_final['id']}. Relation skipped: {relation_obj}\")\n",
    "                if not object_resolved_uri:\n",
    "                    print(f\"  Warning: Could not find URI for object '{object_orig_text}' in article {article_data_final['id']}. Relation skipped: {relation_obj}\")\n",
    "\n",
    "    print(f\"\\nFinished generating triples. Approximately {triples_generated_count} triples were candidates for addition.\")\n",
    "    print(f\"Total actual triples in the graph: {len(kg)}\")\n",
    "    if len(kg) > 0:\n",
    "        print(\"\\nSample of first 5 triples in N3 format:\")\n",
    "        for i, (s, p, o) in enumerate(kg):\n",
    "            # Use n3() for a readable representation respecting prefixes\n",
    "            print(f\"  {s.n3(kg.namespace_manager)} {p.n3(kg.namespace_manager)} {o.n3(kg.namespace_manager)}.\")\n",
    "            if i >= 4: # Print first 5\n",
    "                break\n",
    "else:\n",
    "    print(\"Skipping triple generation: No processed articles with normalized entities available.\")\n",
    "\n",
    "# Ensure kg is defined\n",
    "if 'kg' not in globals():\n",
    "    kg = Graph()\n",
    "    print(\"Initialized 'kg' as an empty rdflib.Graph object.\")"
   ]
  },
  {
   "cell_type": "markdown",
   "id": "triple-generation-exec-output",
   "metadata": {},
   "source": [
    "**Output Explanation:**\n",
    "This block will show:\n",
    "*   Progress of triple generation.\n",
    "*   The approximate number of triples considered for addition and the final total number of triples in the `kg` graph.\n",
    "*   Warnings if subject/object entities for a relation couldn't be resolved to URIs.\n",
    "*   A sample of the first few triples in N3 (Notation3) format, which is a human-readable RDF serialization."
   ]
  },
  {
   "cell_type": "markdown",
   "id": "phase4",
   "metadata": {},
   "source": [
    "## Phase 4: Knowledge Graph Refinement Using Embeddings\n",
    "**(Ref: Ch. 6 – Embedding-Based Reasoning; Ch. 7 – ML on KGs with SANSA)**\n",
    "\n",
    "**Theory (Phase Overview):**\n",
    "Knowledge Graph embeddings (KGEs) learn low-dimensional vector representations for entities and relations in a KG. These embeddings capture the semantic properties of KG components and their interactions. This phase explores using such embeddings for KG refinement, a concept aligned with embedding-based reasoning (Ch. 6).\n",
    "Key tasks include:\n",
    "*   **Generating Embeddings:** Creating vector representations for nodes (entities).\n",
    "*   **Link Prediction (Knowledge Discovery):** Using embeddings to infer missing connections or predict new potential relationships (Ch. 6). This is a powerful way to discover implicit knowledge and enrich the KG.\n",
    "While full KGE model training (like TransE, ComplEx, DistMult mentioned in Ch. 6) is beyond this demo's scope, we'll use pre-trained text embeddings for entity names as a proxy to demonstrate semantic similarity, a foundational concept for some link prediction approaches."
   ]
  },
  {
   "cell_type": "markdown",
   "id": "step4-1-embedding-func-def-desc",
   "metadata": {},
   "source": [
    "### Step 4.1: Generate KG Embeddings - Embedding Function Definition\n",
    "**Task:** Create vector representations for nodes (entities) in the graph.\n",
    "\n",
    "**Book Concept:** (Ch. 6 - Embeddings bridging symbolic & sub-symbolic)\n",
    "Embeddings transform symbolic entities (represented by URIs and labels) into numerical vectors in a continuous vector space. This allows us to apply machine learning techniques and measure semantic similarity.\n",
    "\n",
    "**Methodology:**\n",
    "The `get_embeddings_for_texts` function will:\n",
    "*   Take a list of unique entity texts (e.g., their normalized labels).\n",
    "*   Use the configured OpenAI/Nebius embedding API (with `EMBEDDING_MODEL_NAME`) to fetch pre-trained embeddings for these texts.\n",
    "*   Handle batching or individual requests as appropriate for the API.\n",
    "*   Return a dictionary mapping each input text to its embedding vector.\n",
    "These embeddings represent the semantic meaning of the entity names."
   ]
  },
  {
   "cell_type": "code",
   "execution_count": 32,
   "id": "get_embeddings_for_texts_func_def",
   "metadata": {},
   "outputs": [
    {
     "name": "stdout",
     "output_type": "stream",
     "text": [
      "Function 'get_embeddings_for_texts' defined.\n"
     ]
    }
   ],
   "source": [
    "def get_embeddings_for_texts(texts_list, embedding_model_name=EMBEDDING_MODEL_NAME):\n",
    "    \"\"\"Gets embeddings for a list of texts using the specified model via the LLM client.\"\"\"\n",
    "    if not client:\n",
    "        print(\"LLM client not initialized. Skipping embedding generation.\")\n",
    "        return {text: [] for text in texts_list} # Return dict with empty embeddings\n",
    "    if not texts_list:\n",
    "        print(\"No texts provided for embedding generation.\")\n",
    "        return {}\n",
    "    \n",
    "    embeddings_map_dict = {}\n",
    "    print(f\"Fetching embeddings for {len(texts_list)} unique texts using model '{embedding_model_name}'...\")\n",
    "    \n",
    "    # Process texts in batches to be efficient and respect potential API limits\n",
    "    # Some APIs handle list inputs directly, others might require batching.\n",
    "    # The OpenAI client's `embeddings.create` can often take a list of inputs.\n",
    "    # If your specific endpoint requires single inputs or smaller batches, adjust this loop.\n",
    "    # For this example, assuming the client can handle a list, but will iterate if not or for safety.\n",
    "\n",
    "    # Check if the input texts_list itself is a list of strings\n",
    "    if not all(isinstance(text, str) for text in texts_list):\n",
    "        print(\"Error: Input 'texts_list' must be a list of strings.\")\n",
    "        return {text: [] for text in texts_list if isinstance(text, str)} # Try to salvage what we can\n",
    "    \n",
    "    # Remove empty strings to avoid API errors\n",
    "    valid_texts_list = [text for text in texts_list if text.strip()]\n",
    "    if not valid_texts_list:\n",
    "        print(\"No valid (non-empty) texts to embed.\")\n",
    "        return {}\n",
    "\n",
    "    try:\n",
    "        # Assuming the client.embeddings.create can take a list of inputs.\n",
    "        # If it can only take one string at a time, you'd loop here.\n",
    "        response = genai.embed_content(\n",
    "            model=embedding_model_name,\n",
    "            input=valid_texts_list # Pass the list of valid texts\n",
    "        )\n",
    "        # The response.data should be a list of embedding objects, in the same order as input\n",
    "        for i, data_item in enumerate(response.data):\n",
    "            embeddings_map_dict[valid_texts_list[i]] = data_item.embedding\n",
    "        \n",
    "        print(f\"Embeddings received for {len(embeddings_map_dict)} texts.\")\n",
    "        # For texts that were empty or failed, add them with empty embeddings if needed by caller\n",
    "        for text in texts_list:\n",
    "            if text not in embeddings_map_dict:\n",
    "                embeddings_map_dict[text] = []\n",
    "        return embeddings_map_dict\n",
    "    \n",
    "    except Exception as e:\n",
    "        print(f\"Error getting embeddings (batch attempt): {e}\")\n",
    "        print(\"Falling back to individual embedding requests if batch failed...\")\n",
    "        # Fallback to individual requests if batching failed or is not supported by the specific client/endpoint setup\n",
    "        embeddings_map_dict_fallback = {}\n",
    "        for text_input_item in tqdm(valid_texts_list, desc=\"Generating Embeddings (Fallback Mode)\"):\n",
    "            try:\n",
    "                response_item = genai.embed_content(\n",
    "                    model=embedding_model_name,\n",
    "                    input=text_input_item\n",
    "                )\n",
    "                embeddings_map_dict_fallback[text_input_item] = response_item.data[0].embedding\n",
    "                if len(valid_texts_list) > 10: # Only sleep if processing many items\n",
    "                    time.sleep(0.1) # Small delay per request in fallback\n",
    "            except Exception as e_item:\n",
    "                print(f\"  Error getting embedding for text '{text_input_item[:50]}...': {e_item}\")\n",
    "                embeddings_map_dict_fallback[text_input_item] = [] # Store empty list on error for this item\n",
    "        \n",
    "        # For texts that were empty or failed, add them with empty embeddings if needed by caller\n",
    "        for text in texts_list:\n",
    "            if text not in embeddings_map_dict_fallback:\n",
    "                embeddings_map_dict_fallback[text] = []\n",
    "        return embeddings_map_dict_fallback\n",
    "\n",
    "print(\"Function 'get_embeddings_for_texts' defined.\")"
   ]
  },
  {
   "cell_type": "markdown",
   "id": "get_embeddings_for_texts_func_def_output",
   "metadata": {},
   "source": [
    "**Output Explanation:**\n",
    "Confirms the definition of the `get_embeddings_for_texts` function."
   ]
  },
  {
   "cell_type": "markdown",
   "id": "kg-embedding-exec-desc",
   "metadata": {},
   "source": [
    "#### Generate KG Embeddings - Execution\n",
    "\n",
    "**Theory:**\n",
    "This block orchestrates the generation of embeddings for our KG entities:\n",
    "1.  It extracts the set of unique, normalized entity texts from our `unique_entities_map` (which maps `(normalized_text, type)` to URIs). We are interested in embedding the textual representation of entities.\n",
    "2.  It calls `get_embeddings_for_texts` with this list of unique texts.\n",
    "3.  The returned embeddings (which are mapped to texts) are then re-mapped to our canonical entity URIs, creating the `entity_embeddings` dictionary: `{entity_uri: embedding_vector}`.\n",
    "This dictionary will store the vector representation for each unique entity in our graph."
   ]
  },
  {
   "cell_type": "code",
   "execution_count": 33,
   "id": "kg-embedding-exec-code",
   "metadata": {},
   "outputs": [
    {
     "name": "stdout",
     "output_type": "stream",
     "text": [
      "Skipping embedding generation: No unique entities identified, or LLM client not available.\n"
     ]
    }
   ],
   "source": [
    "entity_embeddings = {} # Initialize: maps entity URI -> embedding vector\n",
    "\n",
    "if unique_entities_map and client: # Proceed if we have unique entities and LLM client\n",
    "    # Extract unique normalized entity texts for which we need embeddings.\n",
    "    # unique_entities_map maps (normalized_text, type) -> URI\n",
    "    # We need just the normalized_text part for embedding.\n",
    "    entity_normalized_texts_to_embed = list(set([key[0] for key in unique_entities_map.keys() if key[0].strip()]))\n",
    "    \n",
    "    if entity_normalized_texts_to_embed:\n",
    "        print(f\"Preparing to fetch embeddings for {len(entity_normalized_texts_to_embed)} unique normalized entity texts.\")\n",
    "        \n",
    "        # Get embeddings for these unique texts\n",
    "        text_to_embedding_map = get_embeddings_for_texts(entity_normalized_texts_to_embed)\n",
    "        \n",
    "        # Map these embeddings back to our entity URIs\n",
    "        for (normalized_text_key, entity_type_key), entity_uri_val_emb in unique_entities_map.items():\n",
    "            if normalized_text_key in text_to_embedding_map and text_to_embedding_map[normalized_text_key]:\n",
    "                entity_embeddings[entity_uri_val_emb] = text_to_embedding_map[normalized_text_key]\n",
    "            # else: # This case should be handled by get_embeddings_for_texts returning empty list for failed/empty texts\n",
    "                # print(f\"  Warning: No embedding found or generated for text '{normalized_text_key}' (URI: {entity_uri_val_emb})\")\n",
    "                \n",
    "        if entity_embeddings:\n",
    "            print(f\"\\nSuccessfully generated and mapped embeddings for {len(entity_embeddings)} entity URIs.\")\n",
    "            # Show an example\n",
    "            first_uri_with_embedding = next(iter(entity_embeddings.keys()), None)\n",
    "            if first_uri_with_embedding:\n",
    "                emb_example = entity_embeddings[first_uri_with_embedding]\n",
    "                # Get label for this URI from KG\n",
    "                label_for_uri = kg.value(subject=first_uri_with_embedding, predicate=RDFS.label, default=str(first_uri_with_embedding))\n",
    "                print(f\"  Example embedding for URI <{first_uri_with_embedding}> (Label: '{label_for_uri}'):\")\n",
    "                print(f\"    Vector (first 5 dims): {str(emb_example[:5])}...\")\n",
    "                print(f\"    Vector dimension: {len(emb_example)}\")\n",
    "        else:\n",
    "            print(\"No embeddings were successfully mapped to entity URIs.\")\n",
    "    else:\n",
    "        print(\"No unique entity texts found to generate embeddings for.\")\n",
    "else:\n",
    "    print(\"Skipping embedding generation: No unique entities identified, or LLM client not available.\")\n",
    "\n",
    "# Ensure entity_embeddings is defined\n",
    "if 'entity_embeddings' not in globals():\n",
    "    entity_embeddings = {}\n",
    "    print(\"Initialized 'entity_embeddings' as an empty dictionary.\")"
   ]
  },
  {
   "cell_type": "markdown",
   "id": "kg-embedding-exec-output",
   "metadata": {},
   "source": [
    "**Output Explanation:**\n",
    "This block will show:\n",
    "*   Progress of fetching embeddings.\n",
    "*   The number of unique entity texts for which embeddings are requested.\n",
    "*   The number of entity URIs for which embeddings were successfully generated and mapped.\n",
    "*   An example of an embedding vector (first few dimensions and total length) for one of the entities, along with its URI and label."
   ]
  },
  {
   "cell_type": "markdown",
   "id": "step4-2-cosine-sim-func-def-desc",
   "metadata": {},
   "source": [
    "### Step 4.2: Link Prediction (Knowledge Discovery - Conceptual) - Cosine Similarity Function\n",
    "**Task:** Use embeddings to infer new or missing connections.\n",
    "\n",
    "**Book Concept:** (Ch. 6 - Link prediction as reasoning)\n",
    "Link prediction aims to identify missing edges (triples) in a KG. KGE models are trained to score potential triples (s, p, o), and high-scoring triples not already in the KG are candidate new links. \n",
    "\n",
    "**Methodology (Simplified):**\n",
    "A full link prediction model is complex. Here, we'll demonstrate a simpler, related concept: **semantic similarity** between entities based on their name embeddings. The `get_cosine_similarity` function calculates the cosine similarity between two embedding vectors. High cosine similarity (close to 1) between entity name embeddings suggests that the entities are semantically related in terms of their textual description. This *could* hint at potential relationships (e.g., two similarly named software products might be competitors or complementary), but it's not direct link prediction for specific predicates."
   ]
  },
  {
   "cell_type": "code",
   "execution_count": 34,
   "id": "get_cosine_similarity_func_def",
   "metadata": {},
   "outputs": [
    {
     "name": "stdout",
     "output_type": "stream",
     "text": [
      "Function 'get_cosine_similarity' defined.\n"
     ]
    }
   ],
   "source": [
    "def get_cosine_similarity(embedding1, embedding2):\n",
    "    \"\"\"Calculates cosine similarity between two embedding vectors using sklearn.\"\"\"\n",
    "    if not isinstance(embedding1, (list, np.ndarray)) or not isinstance(embedding2, (list, np.ndarray)):\n",
    "        # print(\"Warning: One or both embeddings are not lists/arrays.\")\n",
    "        return 0.0\n",
    "    if not embedding1 or not embedding2:\n",
    "        # print(\"Warning: One or both embeddings are empty.\")\n",
    "        return 0.0\n",
    "    \n",
    "    # Ensure they are numpy arrays and 2D for cosine_similarity function\n",
    "    vec1 = np.array(embedding1).reshape(1, -1)\n",
    "    vec2 = np.array(embedding2).reshape(1, -1)\n",
    "    \n",
    "    # Check if dimensions match, though reshape should handle 1D to 2D conversion.\n",
    "    # Cosine similarity doesn't strictly require same length for this usage, but it's implied for valid comparison.\n",
    "    if vec1.shape[1] != vec2.shape[1]:\n",
    "        print(f\"Warning: Embedding dimensions do not match for cosine similarity: {vec1.shape[1]} vs {vec2.shape[1]}\")\n",
    "        return 0.0 # Or handle as an error\n",
    "        \n",
    "    return cosine_similarity(vec1, vec2)[0][0]\n",
    "\n",
    "print(\"Function 'get_cosine_similarity' defined.\")"
   ]
  },
  {
   "cell_type": "markdown",
   "id": "get_cosine_similarity_func_def_output",
   "metadata": {},
   "source": [
    "**Output Explanation:**\n",
    "Confirms the definition of the `get_cosine_similarity` function."
   ]
  },
  {
   "cell_type": "markdown",
   "id": "link-prediction-exec-desc",
   "metadata": {},
   "source": [
    "#### Link Prediction (Conceptual) - Similarity Calculation Example\n",
    "\n",
    "**Theory:**\n",
    "This block demonstrates the use of `get_cosine_similarity`. It selects a couple of entities (preferably organizations, if available with embeddings) from our `entity_embeddings` map and calculates the similarity between their name embeddings. A high similarity might suggest they operate in similar domains or have related roles, which could be a starting point for investigating potential (unobserved) connections if we had a more sophisticated link prediction model."
   ]
  },
  {
   "cell_type": "code",
   "execution_count": 35,
   "id": "link-prediction-exec-code",
   "metadata": {},
   "outputs": [
    {
     "name": "stdout",
     "output_type": "stream",
     "text": [
      "Skipping conceptual link prediction: Not enough entity embeddings available (need at least 2).\n"
     ]
    }
   ],
   "source": [
    "if len(entity_embeddings) >= 2:\n",
    "    print(\"\\nConceptual Link Prediction: Calculating semantic similarity between a sample of entities using their name embeddings.\")\n",
    "    \n",
    "    # Get all URIs that have embeddings\n",
    "    uris_with_embeddings = [uri for uri, emb in entity_embeddings.items() if emb] # Check if emb is not empty\n",
    "    \n",
    "    # Try to find two ORG entities for a more meaningful comparison\n",
    "    org_entity_uris_with_embeddings = []\n",
    "    for uri_cand in uris_with_embeddings:\n",
    "        # Check the type from the KG\n",
    "        rdf_types_for_uri = list(kg.objects(subject=uri_cand, predicate=RDF.type))\n",
    "        if SCHEMA.Organization in rdf_types_for_uri or EX.ORG in rdf_types_for_uri:\n",
    "            org_entity_uris_with_embeddings.append(uri_cand)\n",
    "    \n",
    "    entity1_uri_sim = None\n",
    "    entity2_uri_sim = None\n",
    "\n",
    "    if len(org_entity_uris_with_embeddings) >= 2:\n",
    "        entity1_uri_sim = org_entity_uris_with_embeddings[0]\n",
    "        entity2_uri_sim = org_entity_uris_with_embeddings[1]\n",
    "        print(f\"Found at least two ORG entities with embeddings for similarity comparison.\")\n",
    "    elif len(uris_with_embeddings) >= 2: # Fallback to any two entities if not enough ORGs\n",
    "        entity1_uri_sim = uris_with_embeddings[0]\n",
    "        entity2_uri_sim = uris_with_embeddings[1]\n",
    "        print(f\"Could not find two ORGs with embeddings. Using two generic entities for similarity comparison.\")\n",
    "    else:\n",
    "        print(\"Not enough entities (less than 2) with valid embeddings to demonstrate similarity.\")\n",
    "\n",
    "    if entity1_uri_sim and entity2_uri_sim:\n",
    "        embedding1_val = entity_embeddings.get(entity1_uri_sim)\n",
    "        embedding2_val = entity_embeddings.get(entity2_uri_sim)\n",
    "        \n",
    "        # Retrieve labels for these URIs from the graph for context\n",
    "        label1_val = kg.value(subject=entity1_uri_sim, predicate=RDFS.label, default=str(entity1_uri_sim))\n",
    "        label2_val = kg.value(subject=entity2_uri_sim, predicate=RDFS.label, default=str(entity2_uri_sim))\n",
    "\n",
    "        calculated_similarity = get_cosine_similarity(embedding1_val, embedding2_val)\n",
    "        print(f\"\\n  Similarity between '{label1_val}' (<{entity1_uri_sim}>) and '{label2_val}' (<{entity2_uri_sim}>): {calculated_similarity:.4f}\")\n",
    "        \n",
    "        # Interpret similarity (example thresholds)\n",
    "        if calculated_similarity > 0.8:\n",
    "            print(f\"  Interpretation: These entities are highly similar based on their name embeddings.\")\n",
    "        elif calculated_similarity > 0.6:\n",
    "            print(f\"  Interpretation: These entities show moderate similarity based on their name embeddings.\")\n",
    "        else:\n",
    "            print(f\"  Interpretation: These entities show low similarity based on their name embeddings.\")\n",
    "            \n",
    "    print(\"\\nNote: This is a conceptual demonstration of semantic similarity. True link prediction involves training specialized KGE models (e.g., TransE, ComplEx) on existing graph triples to predict missing (subject, predicate, object) facts with specific predicates, not just general entity similarity.\")\n",
    "else:\n",
    "    print(\"Skipping conceptual link prediction: Not enough entity embeddings available (need at least 2).\")"
   ]
  },
  {
   "cell_type": "markdown",
   "id": "link-prediction-exec-output",
   "metadata": {},
   "source": [
    "**Output Explanation:**\n",
    "This block will:\n",
    "*   Select two entities that have embeddings.\n",
    "    *   Calculate and print the cosine similarity score between their embeddings.\n",
    "    *   Provide a simple interpretation of the similarity score.\n",
    "    *   Include a disclaimer that this is a simplified concept, not full link prediction."
   ]
  },
  {
   "cell_type": "markdown",
   "id": "step4-3-add-inferred-func-def-desc",
   "metadata": {},
   "source": [
    "### Step 4.3: Add Predicted Links (Optional & Conceptual) - Function Definition\n",
    "**Task:** Integrate high-confidence predicted links into the main graph.\n",
    "\n",
    "**Book Concept:** (Ch. 6 - KG enrichment and lifecycle)\n",
    "If a link prediction model were to identify new, high-confidence relationships, these could be added to the KG, enriching it with inferred knowledge. This is part of the KG lifecycle, where the graph evolves and grows.\n",
    "\n",
    "**Methodology:**\n",
    "The function `add_inferred_triples_to_graph` is a placeholder to illustrate this. It would take a list of (subject_uri, predicate_uri, object_uri) triples (presumably from a link prediction model) and add them to our main `rdflib.Graph`."
   ]
  },
  {
   "cell_type": "code",
   "execution_count": 36,
   "id": "add_inferred_triples_to_graph_func_def",
   "metadata": {},
   "outputs": [
    {
     "name": "stdout",
     "output_type": "stream",
     "text": [
      "Function 'add_inferred_triples_to_graph' defined.\n"
     ]
    }
   ],
   "source": [
    "def add_inferred_triples_to_graph(target_graph, list_of_inferred_triples):\n",
    "    \"\"\"Adds a list of inferred (subject_uri, predicate_uri, object_uri) triples to the graph.\"\"\"\n",
    "    if not list_of_inferred_triples:\n",
    "        print(\"No inferred triples provided to add.\")\n",
    "        return target_graph, 0\n",
    "    \n",
    "    added_count = 0\n",
    "    for s_uri, p_uri, o_uri in list_of_inferred_triples:\n",
    "        # Basic validation: ensure they are URIRefs or Literals as appropriate\n",
    "        if isinstance(s_uri, URIRef) and isinstance(p_uri, URIRef) and (isinstance(o_uri, URIRef) or isinstance(o_uri, Literal)):\n",
    "            target_graph.add((s_uri, p_uri, o_uri))\n",
    "            added_count +=1\n",
    "        else:\n",
    "            print(f\"  Warning: Skipping malformed conceptual inferred triple: ({s_uri}, {p_uri}, {o_uri})\")\n",
    "            \n",
    "    print(f\"Added {added_count} conceptually inferred triples to the graph.\")\n",
    "    return target_graph, added_count\n",
    "\n",
    "print(\"Function 'add_inferred_triples_to_graph' defined.\")"
   ]
  },
  {
   "cell_type": "markdown",
   "id": "add_inferred_triples_to_graph_func_def_output",
   "metadata": {},
   "source": [
    "**Output Explanation:**\n",
    "Confirms the definition of the `add_inferred_triples_to_graph` function."
   ]
  },
  {
   "cell_type": "markdown",
   "id": "add-predicted-links-exec-desc",
   "metadata": {},
   "source": [
    "#### Add Predicted Links (Conceptual) - Execution Example\n",
    "\n",
    "**Theory:**\n",
    "This block provides a conceptual example. Since we haven't trained a full link prediction model, we create a dummy `conceptual_inferred_triples` list. If this list contained actual high-confidence predictions (e.g., from a TransE model scoring `(CompanyX, ex:potentialAcquirerOf, CompanyY)` highly), the `add_inferred_triples_to_graph` function would integrate them into our `kg`. In this demo, it will likely state that no triples were added unless you manually populate the dummy list."
   ]
  },
  {
   "cell_type": "code",
   "execution_count": 37,
   "id": "add-predicted-links-exec-code",
   "metadata": {},
   "outputs": [
    {
     "name": "stdout",
     "output_type": "stream",
     "text": [
      "\n",
      "No conceptual inferred triples generated to add in this demonstration.\n"
     ]
    }
   ],
   "source": [
    "# Conceptual: Assume we have some high-confidence predicted links from a separate model.\n",
    "# For example, if entity1_uri_sim and entity2_uri_sim from the similarity check showed very high similarity,\n",
    "# and we had a predicate like ex:isSemanticallySimilarTo, we might add it.\n",
    "conceptual_inferred_triples_list = [] \n",
    "\n",
    "# Example: If we had variables entity1_uri_sim, entity2_uri_sim, and calculated_similarity from the previous step\n",
    "# This is just to illustrate, these variables might not be in scope if that cell wasn't run or had no valid entities\n",
    "SIMILARITY_THRESHOLD_FOR_INFERENCE = 0.85 # Example threshold\n",
    "if 'entity1_uri_sim' in locals() and 'entity2_uri_sim' in locals() and 'calculated_similarity' in locals():\n",
    "    if entity1_uri_sim and entity2_uri_sim and calculated_similarity > SIMILARITY_THRESHOLD_FOR_INFERENCE:\n",
    "        print(f\"Conceptual inference: Entities '{kg.label(entity1_uri_sim)}' and '{kg.label(entity2_uri_sim)}' are highly similar ({calculated_similarity:.2f}).\")\n",
    "        # Let's define a conceptual predicate for this\n",
    "        EX.isHighlySimilarTo = EX[\"isHighlySimilarTo\"] # Define if not already\n",
    "        conceptual_inferred_triples_list.append((entity1_uri_sim, EX.isHighlySimilarTo, entity2_uri_sim))\n",
    "        # Symmetrical relationship (optional, depends on predicate definition)\n",
    "        # conceptual_inferred_triples_list.append((entity2_uri_sim, EX.isHighlySimilarTo, entity1_uri_sim))\n",
    "\n",
    "if conceptual_inferred_triples_list:\n",
    "    print(f\"\\nAttempting to add {len(conceptual_inferred_triples_list)} conceptual inferred triples...\")\n",
    "    kg, num_added = add_inferred_triples_to_graph(kg, conceptual_inferred_triples_list)\n",
    "    if num_added > 0:\n",
    "        print(f\"Total triples in graph after adding conceptual inferences: {len(kg)}\")\n",
    "else:\n",
    "    print(\"\\nNo conceptual inferred triples generated to add in this demonstration.\")"
   ]
  },
  {
   "cell_type": "markdown",
   "id": "add-predicted-links-exec-output",
   "metadata": {},
   "source": [
    "**Output Explanation:**\n",
    "This block will indicate if any conceptual inferred triples were added to the graph. If the dummy example for high similarity was triggered, it will show that these triples were added and the new total triple count."
   ]
  },
  {
   "cell_type": "markdown",
   "id": "phase5",
   "metadata": {},
   "source": [
    "## Phase 5: Persistence and Utilization\n",
    "**(Ref: Ch. 3 – Data Storage; Ch. 5 – Querying and Access)**\n",
    "\n",
    "**Theory (Phase Overview):**\n",
    "Once the Knowledge Graph is constructed (and potentially refined), it needs to be stored for long-term access and utilized to derive insights. This phase covers:\n",
    "*   **KG Storage:** Persisting the graph. Options include RDF serialization formats (like Turtle, RDF/XML), native triple stores (e.g., Fuseki, GraphDB), or graph databases (e.g., Neo4j, if modeled appropriately) (Ch. 3).\n",
    "*   **Querying and Analysis:** Using query languages like SPARQL (for RDF KGs) to retrieve specific information, answer complex questions, and perform analytical tasks (Ch. 5).\n",
    "*   **Visualization:** Presenting parts of the KG or query results graphically for better human interpretation and understanding (Ch. 1 & 3 - Value of Visualization in Big Data)."
   ]
  },
  {
   "cell_type": "markdown",
   "id": "step5-1-save-graph-func-def-desc",
   "metadata": {},
   "source": [
    "### Step 5.1: Knowledge Graph Storage - Save Function Definition\n",
    "**Task:** Persist the KG in a suitable format (e.g., RDF/Turtle).\n",
    "\n",
    "**Book Concept:** (Ch. 3 - Data Storage options)\n",
    "Serializing the KG to a file allows for persistence, sharing, and loading into other RDF-compliant tools or triple stores.\n",
    "\n",
    "**Methodology:**\n",
    "The `save_graph_to_turtle` function uses `rdflib.Graph.serialize()` method to save the `kg` object into a file. Turtle (`.ttl`) is chosen as it's a human-readable and common RDF serialization format."
   ]
  },
  {
   "cell_type": "code",
   "execution_count": 38,
   "id": "save_graph_to_turtle_func_def",
   "metadata": {},
   "outputs": [
    {
     "name": "stdout",
     "output_type": "stream",
     "text": [
      "Function 'save_graph_to_turtle' defined.\n"
     ]
    }
   ],
   "source": [
    "def save_graph_to_turtle(graph_to_save, output_filepath=\"knowledge_graph.ttl\"):\n",
    "    \"\"\"Saves the RDF graph to a Turtle file.\"\"\"\n",
    "    if not len(graph_to_save):\n",
    "        print(\"Graph is empty. Nothing to save.\")\n",
    "        return False\n",
    "    try:\n",
    "        # Ensure the format string is correct, e.g., 'turtle', 'xml', 'n3', 'nt'\n",
    "        graph_to_save.serialize(destination=output_filepath, format='turtle')\n",
    "        print(f\"Knowledge Graph with {len(graph_to_save)} triples successfully saved to: {output_filepath}\")\n",
    "        return True\n",
    "    except Exception as e:\n",
    "        print(f\"Error saving graph to {output_filepath}: {e}\")\n",
    "        return False\n",
    "\n",
    "print(\"Function 'save_graph_to_turtle' defined.\")"
   ]
  },
  {
   "cell_type": "markdown",
   "id": "save_graph_to_turtle_func_def_output",
   "metadata": {},
   "source": [
    "**Output Explanation:**\n",
    "Confirms the definition of the `save_graph_to_turtle` function."
   ]
  },
  {
   "cell_type": "markdown",
   "id": "kg-storage-exec-desc",
   "metadata": {},
   "source": [
    "#### Knowledge Graph Storage - Execution\n",
    "\n",
    "**Theory:**\n",
    "This block calls the `save_graph_to_turtle` function to persist our constructed `kg` to a file named `tech_acquisitions_kg.ttl`. If the graph contains triples, it will be saved; otherwise, a message indicating an empty graph will be shown."
   ]
  },
  {
   "cell_type": "code",
   "execution_count": 39,
   "id": "kg-storage-exec-code",
   "metadata": {},
   "outputs": [
    {
     "name": "stdout",
     "output_type": "stream",
     "text": [
      "Attempting to save the graph with 4 triples...\n",
      "Knowledge Graph with 4 triples successfully saved to: tech_acquisitions_kg.ttl\n"
     ]
    }
   ],
   "source": [
    "KG_OUTPUT_FILENAME = \"tech_acquisitions_kg.ttl\"\n",
    "if len(kg) > 0:\n",
    "    print(f\"Attempting to save the graph with {len(kg)} triples...\")\n",
    "    save_graph_to_turtle(kg, KG_OUTPUT_FILENAME)\n",
    "else:\n",
    "    print(f\"Knowledge Graph ('kg') is empty. Skipping save to '{KG_OUTPUT_FILENAME}'.\")"
   ]
  },
  {
   "cell_type": "markdown",
   "id": "kg-storage-exec-output",
   "metadata": {},
   "source": [
    "**Output Explanation:**\n",
    "This block will print a confirmation message if the graph is successfully saved, including the file path and the number of triples saved. If the graph is empty, it will state that."
   ]
  },
  {
   "cell_type": "markdown",
   "id": "step5-2-sparql-func-def-desc",
   "metadata": {},
   "source": [
    "### Step 5.2: Querying and Analysis - SPARQL Execution Function\n",
    "**Task:** Execute SPARQL queries to extract insights.\n",
    "\n",
    "**Book Concept:** (Ch. 5 - Querying and Access, SPARQL)\n",
    "SPARQL (SPARQL Protocol and RDF Query Language) is the standard query language for RDF Knowledge Graphs. It allows for pattern matching against the graph structure to retrieve data, infer new information (through more complex queries), and answer analytical questions.\n",
    "\n",
    "**Methodology:**\n",
    "The `execute_sparql_query` function takes our `rdflib.Graph` and a SPARQL query string. It uses `graph.query()` to execute the query and then iterates through the results, printing them in a readable format. This function will be used to run several example queries."
   ]
  },
  {
   "cell_type": "code",
   "execution_count": 40,
   "id": "execute_sparql_query_func_def",
   "metadata": {},
   "outputs": [
    {
     "name": "stdout",
     "output_type": "stream",
     "text": [
      "Function 'execute_sparql_query' defined.\n"
     ]
    }
   ],
   "source": [
    "def execute_sparql_query(graph_to_query, query_string_sparql):\n",
    "    \"\"\"Executes a SPARQL query on the graph and prints results, returning them as a list of dicts.\"\"\"\n",
    "    if not len(graph_to_query):\n",
    "        print(\"Cannot execute SPARQL query: The graph is empty.\")\n",
    "        return []\n",
    "        \n",
    "    print(f\"\\nExecuting SPARQL Query:\\n{query_string_sparql}\")\n",
    "    try:\n",
    "        query_results = graph_to_query.query(query_string_sparql)\n",
    "    except Exception as e:\n",
    "        print(f\"Error executing SPARQL query: {e}\")\n",
    "        return []\n",
    "\n",
    "    if not query_results:\n",
    "        print(\"Query executed successfully but returned no results.\")\n",
    "        return []\n",
    "    \n",
    "    results_list_of_dicts = []\n",
    "    print(f\"Query Results ({len(query_results)} found): \")\n",
    "    for row_idx, row_data in enumerate(query_results):\n",
    "        # Convert row to a dictionary for easier access and printing\n",
    "        # row_data is a ResultRow object, access by variable name from SELECT clause\n",
    "        result_item_dict = {}\n",
    "        if hasattr(row_data, 'labels'): # rdflib 6.x+ provides .labels and .asdict()\n",
    "            result_item_dict = {str(label): str(value) for label, value in row_data.asdict().items()}\n",
    "        else: # Fallback for older rdflib or if .asdict() is not available\n",
    "            # This part might need adjustment based on the actual structure of row_data in older versions\n",
    "            # For now, we'll assume it's an iterable of values corresponding to SELECT variables\n",
    "            # This requires knowing the SELECT variables' order, which is less robust\n",
    "            # For simplicity, if .labels is not present, we just make a list of string values\n",
    "            result_item_dict = {f\"col_{j}\": str(item_val) for j, item_val in enumerate(row_data)}\n",
    "            \n",
    "        results_list_of_dicts.append(result_item_dict)\n",
    "        \n",
    "        # Print a sample of results\n",
    "        if row_idx < 10: # Print up to 10 results\n",
    "            print(f\"  Row {row_idx+1}: {result_item_dict}\")\n",
    "        elif row_idx == 10:\n",
    "            print(f\"  ... ( dalších {len(query_results) - 10} výsledků )\") # and more results in Czech, should be English\n",
    "            print(f\"  ... (and {len(query_results) - 10} more results)\")\n",
    "            \n",
    "    return results_list_of_dicts\n",
    "\n",
    "print(\"Function 'execute_sparql_query' defined.\")"
   ]
  },
  {
   "cell_type": "markdown",
   "id": "execute_sparql_query_func_def_output",
   "metadata": {},
   "source": [
    "**Output Explanation:**\n",
    "Confirms the definition of the `execute_sparql_query` function."
   ]
  },
  {
   "cell_type": "markdown",
   "id": "sparql-querying-exec-desc",
   "metadata": {},
   "source": [
    "#### SPARQL Querying and Analysis - Execution Examples\n",
    "\n",
    "**Theory:**\n",
    "This block demonstrates the power of SPARQL by executing several example queries against our constructed KG (`kg`). Each query targets different aspects of the acquisition data:\n",
    "*   **Query 1: List Organizations:** Retrieves all entities explicitly typed as `schema:Organization` (or `ex:ORG`) and their labels. This is a basic check to see what organizations are in our KG.\n",
    "*   **Query 2: Find Acquisition Relationships:** Identifies pairs of companies where one acquired the other, based on our `ex:ACQUIRED` predicate. This directly extracts acquisition events.\n",
    "*   **Query 3: Find Acquisitions with Price:** Retrieves companies (or acquisition events) that have an associated `ex:HAS_PRICE` relationship pointing to a monetary value (`schema:PriceSpecification` or `ex:MONEY`).\n",
    "The results of each query are printed, showcasing how structured queries can extract specific insights from the graph."
   ]
  },
  {
   "cell_type": "code",
   "execution_count": 41,
   "id": "sparql-querying-exec-code",
   "metadata": {},
   "outputs": [
    {
     "name": "stdout",
     "output_type": "stream",
     "text": [
      "\n",
      "--- Executing Sample SPARQL Queries ---\n",
      "\n",
      "Executing SPARQL Query:\n",
      "\n",
      "    PREFIX ex: <http://example.org/kg/>\n",
      "    PREFIX schema: <http://schema.org/>\n",
      "    PREFIX rdfs: <http://www.w3.org/2000/01/rdf-schema#>\n",
      "\n",
      "    SELECT DISTINCT ?org_uri ?org_label\n",
      "    WHERE {\n",
      "        ?org_uri a schema:Organization ;\n",
      "                 rdfs:label ?org_label .\n",
      "    }\n",
      "    ORDER BY ?org_label\n",
      "    LIMIT 10\n",
      "    \n",
      "Query executed successfully but returned no results.\n",
      "\n",
      "Executing SPARQL Query:\n",
      "\n",
      "    PREFIX ex: <http://example.org/kg/>\n",
      "    PREFIX rdfs: <http://www.w3.org/2000/01/rdf-schema#>\n",
      "    PREFIX schema: <http://schema.org/>\n",
      "\n",
      "    SELECT ?acquiredCompanyLabel ?acquiringCompanyLabel\n",
      "    WHERE {\n",
      "        ?acquiredCompany ex:ACQUIRED ?acquiringCompany .\n",
      "        ?acquiredCompany rdfs:label ?acquiredCompanyLabel .\n",
      "        ?acquiringCompany rdfs:label ?acquiringCompanyLabel .\n",
      "        # Ensure both are organizations\n",
      "        ?acquiredCompany a schema:Organization .\n",
      "        ?acquiringCompany a schema:Organization .\n",
      "    }\n",
      "    LIMIT 10\n",
      "    \n",
      "Query executed successfully but returned no results.\n",
      "\n",
      "Executing SPARQL Query:\n",
      "\n",
      "    PREFIX ex: <http://example.org/kg/>\n",
      "    PREFIX rdfs: <http://www.w3.org/2000/01/rdf-schema#>\n",
      "    PREFIX schema: <http://schema.org/>\n",
      "\n",
      "    SELECT ?companyLabel ?priceLabel ?dateLabel\n",
      "    WHERE {\n",
      "        ?company ex:HAS_PRICE ?priceEntity .\n",
      "        ?company rdfs:label ?companyLabel .\n",
      "        ?priceEntity rdfs:label ?priceLabel .\n",
      "        # Ensure ?company is an ORG and ?priceEntity is a PriceSpecification (MONEY)\n",
      "        ?company a schema:Organization .\n",
      "        ?priceEntity a schema:PriceSpecification .\n",
      "\n",
      "        # Optionally, try to find a date associated with this acquisition event/company\n",
      "        OPTIONAL { \n",
      "            ?company ex:ANNOUNCED_ON ?dateEntity .\n",
      "            ?dateEntity rdfs:label ?dateLabelRaw .\n",
      "            # If dateEntity is schema:Date, its label might be the date string directly\n",
      "            # If dateEntity is an Event, it might have a schema:startDate or similar\n",
      "            BIND(COALESCE(?dateLabelRaw, STR(?dateEntity)) As ?dateLabel)            \n",
      "        }\n",
      "    }\n",
      "    LIMIT 10\n",
      "    \n",
      "Query executed successfully but returned no results.\n",
      "\n",
      "Executing SPARQL Query:\n",
      "\n",
      "    PREFIX ex: <http://example.org/kg/>\n",
      "    PREFIX rdfs: <http://www.w3.org/2000/01/rdf-schema#>\n",
      "    PREFIX schema: <http://schema.org/>\n",
      "\n",
      "    SELECT ?acquiringCompanyLabel (COUNT(?acquiredCompany) AS ?numberOfAcquisitions)\n",
      "    WHERE {\n",
      "        ?acquiredCompany ex:ACQUIRED ?acquiringCompany .\n",
      "        ?acquiringCompany rdfs:label ?acquiringCompanyLabel .\n",
      "        ?acquiringCompany a schema:Organization .\n",
      "        ?acquiredCompany a schema:Organization .\n",
      "    }\n",
      "    GROUP BY ?acquiringCompanyLabel\n",
      "    ORDER BY DESC(?numberOfAcquisitions)\n",
      "    LIMIT 10\n",
      "    \n",
      "Query Results (1 found): \n"
     ]
    }
   ],
   "source": [
    "if len(kg) > 0:\n",
    "    print(\"\\n--- Executing Sample SPARQL Queries ---\")\n",
    "    # Query 1: Find all organizations mentioned in the KG and their labels\n",
    "    sparql_query_1 = \"\"\"\n",
    "    PREFIX ex: <http://example.org/kg/>\n",
    "    PREFIX schema: <http://schema.org/>\n",
    "    PREFIX rdfs: <http://www.w3.org/2000/01/rdf-schema#>\n",
    "    \n",
    "    SELECT DISTINCT ?org_uri ?org_label\n",
    "    WHERE {\n",
    "        ?org_uri a schema:Organization ;\n",
    "                 rdfs:label ?org_label .\n",
    "    }\n",
    "    ORDER BY ?org_label\n",
    "    LIMIT 10\n",
    "    \"\"\"\n",
    "    query1_results = execute_sparql_query(kg, sparql_query_1)\n",
    "\n",
    "    # Query 2: Find companies that acquired another company, and the acquired company\n",
    "    # Assumes: ?acquiredCompany ex:ACQUIRED ?acquiringCompany.\n",
    "    sparql_query_2 = \"\"\"\n",
    "    PREFIX ex: <http://example.org/kg/>\n",
    "    PREFIX rdfs: <http://www.w3.org/2000/01/rdf-schema#>\n",
    "    PREFIX schema: <http://schema.org/>\n",
    "    \n",
    "    SELECT ?acquiredCompanyLabel ?acquiringCompanyLabel\n",
    "    WHERE {\n",
    "        ?acquiredCompany ex:ACQUIRED ?acquiringCompany .\n",
    "        ?acquiredCompany rdfs:label ?acquiredCompanyLabel .\n",
    "        ?acquiringCompany rdfs:label ?acquiringCompanyLabel .\n",
    "        # Ensure both are organizations\n",
    "        ?acquiredCompany a schema:Organization .\n",
    "        ?acquiringCompany a schema:Organization .\n",
    "    }\n",
    "    LIMIT 10\n",
    "    \"\"\"\n",
    "    query2_results = execute_sparql_query(kg, sparql_query_2)\n",
    "\n",
    "    # Query 3: Find acquisitions (represented by a company involved) with a price mentioned\n",
    "    sparql_query_3 = \"\"\"\n",
    "    PREFIX ex: <http://example.org/kg/>\n",
    "    PREFIX rdfs: <http://www.w3.org/2000/01/rdf-schema#>\n",
    "    PREFIX schema: <http://schema.org/>\n",
    "    \n",
    "    SELECT ?companyLabel ?priceLabel ?dateLabel\n",
    "    WHERE {\n",
    "        ?company ex:HAS_PRICE ?priceEntity .\n",
    "        ?company rdfs:label ?companyLabel .\n",
    "        ?priceEntity rdfs:label ?priceLabel .\n",
    "        # Ensure ?company is an ORG and ?priceEntity is a PriceSpecification (MONEY)\n",
    "        ?company a schema:Organization .\n",
    "        ?priceEntity a schema:PriceSpecification .\n",
    "        \n",
    "        # Optionally, try to find a date associated with this acquisition event/company\n",
    "        OPTIONAL { \n",
    "            ?company ex:ANNOUNCED_ON ?dateEntity .\n",
    "            ?dateEntity rdfs:label ?dateLabelRaw .\n",
    "            # If dateEntity is schema:Date, its label might be the date string directly\n",
    "            # If dateEntity is an Event, it might have a schema:startDate or similar\n",
    "            BIND(COALESCE(?dateLabelRaw, STR(?dateEntity)) As ?dateLabel)            \n",
    "        }\n",
    "    }\n",
    "    LIMIT 10\n",
    "    \"\"\"\n",
    "    query3_results = execute_sparql_query(kg, sparql_query_3)\n",
    "    \n",
    "    # Query 4: Count number of acquisitions per acquiring company\n",
    "    sparql_query_4 = \"\"\"\n",
    "    PREFIX ex: <http://example.org/kg/>\n",
    "    PREFIX rdfs: <http://www.w3.org/2000/01/rdf-schema#>\n",
    "    PREFIX schema: <http://schema.org/>\n",
    "    \n",
    "    SELECT ?acquiringCompanyLabel (COUNT(?acquiredCompany) AS ?numberOfAcquisitions)\n",
    "    WHERE {\n",
    "        ?acquiredCompany ex:ACQUIRED ?acquiringCompany .\n",
    "        ?acquiringCompany rdfs:label ?acquiringCompanyLabel .\n",
    "        ?acquiringCompany a schema:Organization .\n",
    "        ?acquiredCompany a schema:Organization .\n",
    "    }\n",
    "    GROUP BY ?acquiringCompanyLabel\n",
    "    ORDER BY DESC(?numberOfAcquisitions)\n",
    "    LIMIT 10\n",
    "    \"\"\"\n",
    "    query4_results = execute_sparql_query(kg, sparql_query_4)\n",
    "\n",
    "else:\n",
    "    print(\"Knowledge Graph ('kg') is empty. Skipping SPARQL query execution.\")"
   ]
  },
  {
   "cell_type": "markdown",
   "id": "sparql-querying-exec-output",
   "metadata": {},
   "source": [
    "**Output Explanation:**\n",
    "This block will print:\n",
    "*   Each SPARQL query string.\n",
    "*   The results (up to a limit) for each query, typically as a list of dictionaries where keys are the `SELECT` variables.\n",
    "If the KG is empty, it will indicate that queries are skipped."
   ]
  },
  {
   "cell_type": "markdown",
   "id": "step5-3-viz-func-def-desc",
   "metadata": {},
   "source": [
    "### Step 5.3: Visualization (Optional) - Visualization Function Definition\n",
    "**Task:** Visualize parts of the KG or results from queries for better interpretability.\n",
    "\n",
    "**Book Concept:** (Ch. 1 & 3 - Visualization in Big Data)\n",
    "Visualizing graph structures can make complex relationships much easier to understand for humans. Interactive visualizations allow for exploration and discovery.\n",
    "\n",
    "**Methodology:**\n",
    "The `visualize_subgraph_pyvis` function uses the `pyvis` library to create an interactive HTML-based network visualization. It:\n",
    "*   Takes the `rdflib.Graph` and an optional filename.\n",
    "    *   (A more advanced version could take a central node URI and depth to explore from that node).\n",
    "*   For simplicity in this demo, it visualizes a sample of triples from the graph.\n",
    "*   Adds nodes and edges to a `pyvis.Network` object.\n",
    "*   Nodes are labeled with their `rdfs:label` (or a part of their URI if no label).\n",
    "*   Edges are labeled with the predicate name.\n",
    "*   Saves the visualization to an HTML file and attempts to display it inline if in a Jupyter environment."
   ]
  },
  {
   "cell_type": "code",
   "execution_count": 42,
   "id": "visualize_subgraph_pyvis_func_def",
   "metadata": {},
   "outputs": [
    {
     "name": "stdout",
     "output_type": "stream",
     "text": [
      "Function 'visualize_subgraph_pyvis' defined.\n"
     ]
    }
   ],
   "source": [
    "def visualize_subgraph_pyvis(graph_to_viz, output_filename=\"kg_visualization.html\", sample_size_triples=75):\n",
    "    \"\"\"Visualizes a sample subgraph using pyvis and saves to HTML.\"\"\"\n",
    "    if not len(graph_to_viz):\n",
    "        print(\"Graph is empty, nothing to visualize.\")\n",
    "        return None\n",
    "\n",
    "    net = Network(notebook=True, height=\"800px\", width=\"100%\", cdn_resources='remote', directed=True)\n",
    "    net.repulsion(node_distance=150, spring_length=200)\n",
    "    # net.show_buttons(filter_=['physics', 'nodes', 'edges', 'interaction'])\n",
    "    net.set_options(\"\"\"\n",
    "    var options = {\n",
    "      \"physics\": {\n",
    "        \"forceAtlas2Based\": {\n",
    "          \"gravitationalConstant\": -50,\n",
    "          \"centralGravity\": 0.01,\n",
    "          \"springLength\": 100,\n",
    "          \"springConstant\": 0.08,\n",
    "          \"damping\": 0.4,\n",
    "          \"avoidOverlap\": 0.5\n",
    "        },\n",
    "        \"maxVelocity\": 50,\n",
    "        \"minVelocity\": 0.1,\n",
    "        \"solver\": \"forceAtlas2Based\",\n",
    "        \"timestep\": 0.5,\n",
    "        \"stabilization\": {\"iterations\": 150}\n",
    "      }\n",
    "    }\n",
    "    \"\"\")\n",
    "\n",
    "    added_nodes_set = set()\n",
    "    \n",
    "    # For a more meaningful visualization, focus on triples where subject and object are resources (URIs)\n",
    "    # And try to get a sample that includes some structure, not just attribute assignments to single nodes.\n",
    "    # Here, we'll take a sample of all triples for simplicity.\n",
    "    triples_for_visualization = list(graph_to_viz)[:min(sample_size_triples, len(graph_to_viz))]\n",
    "    \n",
    "    if not triples_for_visualization:\n",
    "        print(\"No triples selected from the sample for visualization.\")\n",
    "        return None\n",
    "        \n",
    "    print(f\"Preparing visualization for {len(triples_for_visualization)} sample triples...\")\n",
    "\n",
    "    for s_uri, p_uri, o_val in tqdm(triples_for_visualization, desc=\"Building Pyvis Visualization\"):\n",
    "        # Get labels or use URI parts\n",
    "        s_label_str = str(graph_to_viz.value(subject=s_uri, predicate=RDFS.label, default=s_uri.split('/')[-1].split('#')[-1]))\n",
    "        p_label_str = str(p_uri.split('/')[-1].split('#')[-1])\n",
    "        \n",
    "        s_node_id = str(s_uri)\n",
    "        s_node_title = f\"{s_label_str}\\nURI: {s_uri}\"\n",
    "        s_node_group_uri = graph_to_viz.value(s_uri, RDF.type)\n",
    "        s_node_group = str(s_node_group_uri.split('/')[-1].split('#')[-1]) if s_node_group_uri else \"UnknownType\"\n",
    "\n",
    "\n",
    "        if s_uri not in added_nodes_set:\n",
    "            net.add_node(s_node_id, label=s_label_str, title=s_node_title, group=s_node_group)\n",
    "            added_nodes_set.add(s_uri)\n",
    "        \n",
    "        if isinstance(o_val, URIRef): # If object is a resource, add it as a node and draw an edge\n",
    "            o_label_str = str(graph_to_viz.value(subject=o_val, predicate=RDFS.label, default=o_val.split('/')[-1].split('#')[-1]))\n",
    "            o_node_id = str(o_val)\n",
    "            o_node_title = f\"{o_label_str}\\nURI: {o_val}\"\n",
    "            o_node_group_uri = graph_to_viz.value(o_val, RDF.type)\n",
    "            o_node_group = str(o_node_group_uri.split('/')[-1].split('#')[-1]) if o_node_group_uri else \"UnknownType\"\n",
    "            \n",
    "            if o_val not in added_nodes_set:\n",
    "                net.add_node(o_node_id, label=o_label_str, title=o_node_title, group=o_node_group)\n",
    "                added_nodes_set.add(o_val)\n",
    "            net.add_edge(s_node_id, o_node_id, title=p_label_str, label=p_label_str)\n",
    "        else: # If object is a literal, add it as a property to the subject node's title (tooltip)\n",
    "            # This avoids cluttering the graph with many literal nodes.\n",
    "            # Update subject node's title if it's already added\n",
    "            for node_obj in net.nodes:\n",
    "                if node_obj['id'] == s_node_id:\n",
    "                    node_obj['title'] += f\"\\n{p_label_str}: {str(o_val)}\"\n",
    "                    break\n",
    "    \n",
    "    try:\n",
    "        net.save_graph(output_filename)\n",
    "        print(f\"Interactive KG visualization saved to HTML file: {output_filename}\")\n",
    "        # In Jupyter Lab/Notebook, the graph should render inline if notebook=True was set and environment supports it.\n",
    "        # Sometimes, an explicit display is needed, or opening the HTML file manually.\n",
    "    except Exception as e:\n",
    "        print(f\"Error saving or attempting to show graph visualization: {e}\")\n",
    "    return net # Return the network object\n",
    "\n",
    "print(\"Function 'visualize_subgraph_pyvis' defined.\")"
   ]
  },
  {
   "cell_type": "markdown",
   "id": "visualize_subgraph_pyvis_func_def_output",
   "metadata": {},
   "source": [
    "**Output Explanation:**\n",
    "Confirms the definition of the `visualize_subgraph_pyvis` function."
   ]
  },
  {
   "cell_type": "markdown",
   "id": "visualization-exec-desc",
   "metadata": {},
   "source": [
    "#### KG Visualization - Execution\n",
    "\n",
    "**Theory:**\n",
    "This block calls `visualize_subgraph_pyvis` with our `kg`. It will generate an HTML file (e.g., `tech_acquisitions_kg_viz.html`) containing the interactive graph. If running in a compatible Jupyter environment, the visualization might also render directly in the notebook output. This allows for a visual exploration of the connections and entities within a sample of our KG."
   ]
  },
  {
   "cell_type": "code",
   "execution_count": 43,
   "id": "visualization-exec-code",
   "metadata": {},
   "outputs": [
    {
     "name": "stdout",
     "output_type": "stream",
     "text": [
      "Attempting to visualize a sample of the graph with 4 triples...\n",
      "Preparing visualization for 4 sample triples...\n"
     ]
    },
    {
     "name": "stderr",
     "output_type": "stream",
     "text": [
      "Building Pyvis Visualization: 100%|██████████| 4/4 [00:00<00:00, 8112.77it/s]"
     ]
    },
    {
     "name": "stdout",
     "output_type": "stream",
     "text": [
      "Interactive KG visualization saved to HTML file: tech_acquisitions_kg_interactive_viz.html\n",
      "\n",
      "To view the visualization, open the file 'tech_acquisitions_kg_interactive_viz.html' in a web browser.\n",
      "If in a Jupyter Notebook/Lab, the graph might also be rendered above this message.\n"
     ]
    },
    {
     "name": "stderr",
     "output_type": "stream",
     "text": [
      "\n"
     ]
    }
   ],
   "source": [
    "VIZ_OUTPUT_FILENAME = \"tech_acquisitions_kg_interactive_viz.html\"\n",
    "pyvis_network_object = None # Initialize\n",
    "\n",
    "if len(kg) > 0:\n",
    "    print(f\"Attempting to visualize a sample of the graph with {len(kg)} triples...\")\n",
    "    # Visualize a sample of up to 75 triples from the graph\n",
    "    pyvis_network_object = visualize_subgraph_pyvis(kg, output_filename=VIZ_OUTPUT_FILENAME, sample_size_triples=75)\n",
    "else:\n",
    "    print(f\"Knowledge Graph ('kg') is empty. Skipping visualization.\")\n",
    "\n",
    "# Attempt to display inline in Jupyter (might require trusting the notebook or specific Jupyter setup)\n",
    "if pyvis_network_object is not None:\n",
    "    try:\n",
    "        # This should trigger inline display in classic notebook or if properly configured in Lab\n",
    "        from IPython.display import HTML, display\n",
    "        # display(HTML(VIZ_OUTPUT_FILENAME)) # This loads from file, pyvis might render directly\n",
    "        # pyvis_network_object.show(VIZ_OUTPUT_FILENAME) # Alternative: opens in new tab/tries inline\n",
    "        print(f\"\\nTo view the visualization, open the file '{VIZ_OUTPUT_FILENAME}' in a web browser.\")\n",
    "        print(\"If in a Jupyter Notebook/Lab, the graph might also be rendered above this message.\")\n",
    "        # If pyvis_network_object is returned from a cell and notebook=True, it often renders automatically.\n",
    "    except Exception as e_display:\n",
    "        print(f\"Could not automatically display visualization inline ({e_display}). Please open '{VIZ_OUTPUT_FILENAME}' manually.\")\n",
    "        \n",
    "# This cell will return the pyvis_network_object. If it's the last statement and notebook=True, \n",
    "# Jupyter will attempt to render it.\n",
    "if pyvis_network_object:\n",
    "    pyvis_network_object # This line is crucial for auto-display in some Jupyter environments"
   ]
  },
  {
   "cell_type": "markdown",
   "id": "visualization-exec-output",
   "metadata": {},
   "source": [
    "**Output Explanation:**\n",
    "This block will:\n",
    "*   Generate an HTML file (e.g., `tech_acquisitions_kg_interactive_viz.html`) with the interactive graph visualization.\n",
    "*   Print a message confirming the save and provide the filename.\n",
    "*   If in a compatible Jupyter environment, it might also render the graph directly below the cell. Otherwise, you'll need to open the HTML file manually in a browser."
   ]
  },
  {
   "cell_type": "markdown",
   "id": "conclusion",
   "metadata": {},
   "source": [
    "## Conclusion and Future Work\n",
    "\n",
    "This notebook has demonstrated a comprehensive, albeit simplified, end-to-end pipeline for constructing a Knowledge Graph from unstructured news articles, with a focus on technology company acquisitions. We navigated through critical phases, referencing conceptual underpinnings from Big Data and Knowledge Graph literature:\n",
    "\n",
    "1.  **Data Acquisition and Preparation:** We loaded articles from the CNN/DailyMail dataset and performed essential cleaning to prepare the text for analysis. This underscored the importance of data quality as a foundation (Ch. 1, Ch. 3).\n",
    "2.  **Information Extraction:** \n",
    "    *   Named Entity Recognition (NER) was performed first exploratively with spaCy, then more targetedly using an LLM guided by a refined entity schema. This created the *nodes* of our graph (Ch. 2).\n",
    "    *   Relationship Extraction (RE) using an LLM identified semantic connections between these entities, forming the *edges* (Ch. 2).\n",
    "3.  **Knowledge Graph Construction:** \n",
    "    *   Entities were normalized for consistency, and unique URIs were generated, aiding in entity resolution (Ch. 6, Ch. 8).\n",
    "    *   Extracted information was mapped to a schema (mixing custom `EX:` terms and `schema.org` terms) and materialized into RDF triples using `rdflib` (Ch. 2, Ch. 4).\n",
    "4.  **Knowledge Graph Refinement (Conceptual):** \n",
    "    *   We generated text embeddings for entity names, bridging symbolic and sub-symbolic representations (Ch. 6).\n",
    "    *   The concept of link prediction via semantic similarity was introduced, hinting at KG enrichment capabilities (Ch. 6).\n",
    "5.  **Persistence and Utilization:** \n",
    "    *   The KG was persisted by serializing it to a Turtle file (Ch. 3).\n",
    "    *   SPARQL queries were executed to retrieve structured insights, demonstrating the analytical power of KGs (Ch. 5).\n",
    "    *   A sample subgraph was visualized, highlighting the importance of making KGs accessible (Ch. 1, Ch. 3).\n",
    "\n",
    "### Potential Future Enhancements:\n",
    "*   **Advanced Entity Disambiguation & Linking (EDL):** Implement robust EDL to link extracted entities to canonical entries in external KGs like Wikidata or DBpedia. This would greatly improve graph integration and consistency.\n",
    "*   **Richer Ontology/Schema:** Develop a more detailed custom ontology for technology acquisitions or align more comprehensively with existing financial or business ontologies (e.g., FIBO).\n",
    "*   **Sophisticated Relationship Extraction:** Explore more advanced RE techniques, including classifying a wider range of relation types, handling n-ary relations, and event extraction (modeling acquisitions as complex events with multiple participants and attributes).\n",
    "*   **Knowledge Graph Embedding Models:** Train dedicated KGE models (e.g., TransE, ComplEx, RotatE from Ch. 6) on the generated triples for more accurate link prediction and KG completion.\n",
    "*   **Reasoning and Inference:** Implement ontological reasoning (e.g., using RDFS/OWL reasoners) to infer new facts based on the schema and asserted triples.\n",
    "*   **Scalability and Performance:** For larger datasets, utilize distributed processing frameworks (like Apache Spark, conceptually linked to SANSA in Ch. 7 for ML on KGs) and deploy the KG in a scalable graph database or triple store.\n",
    "*   **LLM Fine-tuning:** Fine-tune smaller, open-source LLMs specifically on NER and RE tasks for the technology/financial domain to potentially achieve better performance and cost-efficiency than general-purpose models for these specific tasks.\n",
    "*   **Temporal Dynamics:** Incorporate the temporal aspect of news data more explicitly, tracking how information and relationships evolve over time.\n",
    "*   **User Interface:** Develop a user-friendly interface for exploring, querying, and visualizing the KG beyond programmatic access.\n",
    "\n",
    "This project serves as a foundational example, illustrating how modern NLP techniques, particularly LLMs, can be integrated with traditional KG methodologies to extract and structure valuable knowledge from vast amounts of unstructured text."
   ]
  }
 ],
 "metadata": {
  "kernelspec": {
   "display_name": "venv",
   "language": "python",
   "name": "python3"
  },
  "language_info": {
   "codemirror_mode": {
    "name": "ipython",
    "version": 3
   },
   "file_extension": ".py",
   "mimetype": "text/x-python",
   "name": "python",
   "nbconvert_exporter": "python",
   "pygments_lexer": "ipython3",
   "version": "3.12.9"
  }
 },
 "nbformat": 4,
 "nbformat_minor": 5
}
